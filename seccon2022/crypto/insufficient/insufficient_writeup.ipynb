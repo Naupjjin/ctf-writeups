{
 "cells": [
  {
   "cell_type": "markdown",
   "id": "045e09b1",
   "metadata": {},
   "source": [
    "# SECCON 2022\n",
    "## insufficient(164 pt, 33 solves)\n",
    "### Task description:\n",
    "<pre>SUGOI SECRET SHARING SCHEME with insufficient shares</pre>\n",
    "\n",
    "### Attachments: \n",
    "\n",
    "```python\n",
    "from random import randint\n",
    "from Crypto.Util.number import getPrime, bytes_to_long\n",
    "from secret import FLAG\n",
    "\n",
    "\n",
    "# f(x,y,z) = a1*x + a2*x^2 + a3*x^3\n",
    "#          + b1*y + b2*y^2 + b3*y^3\n",
    "#          + c*z + s mod p\n",
    "def calc_f(coeffs, x, y, z, p):\n",
    "    ret = 0\n",
    "    ret += x * coeffs[0] + pow(x, 2, p) * coeffs[1] + pow(x, 3, p)*coeffs[2]\n",
    "    ret += y * coeffs[3] + pow(y, 2, p) * coeffs[4] + pow(y, 3, p)*coeffs[5]\n",
    "    ret += z * coeffs[6]\n",
    "    ret += coeffs[7]\n",
    "\n",
    "    return ret % p\n",
    "\n",
    "\n",
    "p = getPrime(512)\n",
    "\n",
    "\n",
    "# [a1, a2, a3, b1, b2, b3, c, s]\n",
    "coeffs = [randint(0, 2**128) for _ in range(8)]\n",
    "\n",
    "key = 0\n",
    "for coeff in coeffs:\n",
    "    key <<= 128\n",
    "    key ^= coeff\n",
    "\n",
    "cipher_text = bytes_to_long(FLAG) ^ key\n",
    "print(cipher_text)\n",
    "\n",
    "shares = []\n",
    "for _ in range(4):\n",
    "    x = randint(0, p)\n",
    "    y = randint(0, p)\n",
    "    z = randint(0, 2**128)\n",
    "\n",
    "    w = calc_f(coeffs, x, y, z, p)\n",
    "    packed_share = ((x,y), w)\n",
    "    shares.append(packed_share)\n",
    "\n",
    "print(p)\n",
    "print(shares)\n",
    "```"
   ]
  },
  {
   "cell_type": "code",
   "execution_count": 2,
   "id": "60dfe6aa",
   "metadata": {},
   "outputs": [],
   "source": [
    "ct = 115139400156559163067983730101733651044517302092738415230761576068368627143021367186957088381449359016008152481518188727055259259438853550911696408473202582626669824350180493062986420292176306828782792330214492239993109523633165689080824380627230327245751549253757852668981573771168683865251547238022125676591\n",
    "p = 8200291410122039687250292442109878676753589397818032770561720051299309477271228768886216860911120846659270343793701939593802424969673253182414886645533851\n",
    "params = params = [((6086926015098867242735222866983726204461220951103360009696454681019399690511733951569533187634005519163004817081362909518890288475814570715924211956186561, 180544606207615749673679003486920396349643373592065733048594170223181990080540522443341611038923128944258091068067227964575144365802736335177084131200721), 358596622670209028757821020375422468786000283337112662091012759053764980353656144756495576189654506534688021724133853284750462313294554223173599545023200), ((1386358358863317578119640490115732907593775890728347365516358215967843845703994105707232051642221482563536659365469364255206757315665759154598917141827974, 4056544903690651970564657683645824587566358589111269611317182863269566520886711060942678307985575546879523617067909465838713131842847785502375410189119098), 7987498083862441578197078091675653094495875014017487290616050579537158854070043336559221536943501617079375762641137734054184462590583526782938983347248670), ((656537687734778409273502324331707970697362050871244803755641285452940994603617400730910858122669191686993796208644537023001462145198921682454359699163851, 7168506530157948082373212337047037955782714850395068869680326068416218527056283262697351993204957096383236610668826321537260018440150283660410281255549702), 1047085825033120721880384312942308021912742666478829834943737959325181775143075576517355925753610902886229818331095595005460339857743811544053574078662507), ((5258797924027715460925283932681628978641108698338452367217155856384763787158334845391544834908979711067046042420593321638221507208614929195171831766268954, 4425317882205634741873988391516678208287005927456949928854593454650522868601946818897817646576217811686765487183061848994765729348913592238613989095356071), 866086803634294445156445022661535120113351818468169243952864826652249446764789342099913962106165135623940932785868082548653702309009757035399759882130676)]"
   ]
  },
  {
   "cell_type": "markdown",
   "id": "77a2cbd3",
   "metadata": {},
   "source": [
    "The main idea behind the solution is the <a href=https://github.com/Sarkoxed/ctf-writeups/blob/master/seccon2022/crypto/insufficient/BarakShaniPhD.pdf>Hidden Number Problems</a>. Especially section 5.1 Solutions. However their Lattice did not work out for me however I was able to come up with a solution, based on their one.\n",
    "\n",
    "Consider the Lattice, spanned by the raws of the $ 10x10 $ matrix:<br>\n",
    "$ L =\n",
    "\\begin{bmatrix}\n",
    "   p & 0 & 0 & 0 & 0 & 0 & 0 & 0 & 0 & 0 \\\\\n",
    "   0 & p & 0 & 0 & 0 & 0 & 0 & 0 & 0 & 0 \\\\\n",
    "   0 & 0 & p & 0 & 0 & 0 & 0 & 0 & 0 & 0 \\\\\n",
    "   0 & 0 & 0 & p & 0 & 0 & 0 & 0 & 0 & 0 \\\\\n",
    "   x_1 & x_2 & x_3 & x_4 & t & 0 & 0 & 0 & 0 & 0 \\\\\n",
    "   x_1^2 & x_2^2 & x_3^2 & x_4^2 & 0 & t & 0 & 0 & 0 & 0 \\\\\n",
    "   x_1^3 & x_2^3 & x_3^3 & x_4^3 & 0 & 0 & t & 0 & 0 & 0 \\\\\n",
    "   y_1 & y_2 & y_3 & y_4 & 0 & 0 & 0 & t & 0 & 0 \\\\\n",
    "   y_1^2 & y_2^2 & y_3^2 & y_4^2 & 0 & 0 & 0 & 0 & t & 0 \\\\\n",
    "   y_1^3 & y_2^3 & y_3^3 & y_4^3 & 0 & 0 & 0 & 0 & 0 & t\n",
    "\\end{bmatrix}\n",
    "$\n",
    "\n",
    "And two vectors:\n",
    "\n",
    "$ \\vec{s} = \n",
    "\\begin{pmatrix}\n",
    "   -r_1 & -r_2 & -r_3 & -r_4 & a_1 & a_2 & a_3 & b_1 & b_2 & b_3\\\\\n",
    "\\end{pmatrix}\n",
    "$\n",
    "\n",
    "$ \\vec{h} = \n",
    "\\begin{pmatrix}\n",
    "   w_1 & w_2 & w_3 & w_4 & 0 & 0 & 0 & 0 & 0 & 0\\\\\n",
    "\\end{pmatrix}\n",
    "$\n",
    "\n",
    "Note that vector \n",
    "\n",
    "$ \\vec{u} = \n",
    "\\begin{pmatrix}\n",
    "   {w_1 - c z_1 - s} & {w_2 - c z_2 - s} & {w_3 - c z_3 - s} & {w_4 - c z_4 - s} & a_1 t & a_2 t & a_3 t & b_1 t & b_2 t & b_3 t\\\\\n",
    "\\end{pmatrix}\n",
    " = \\vec{s} L $\n",
    " \n",
    "Note that \n",
    "$ \\begin{Vmatrix} {\\vec{h} - \\vec{u}} \\end{Vmatrix}^{\\!2} = \\displaystyle\\sum_{i=0}^4(c z_i - s)^2 + a_1^2 t^2 + a_2^2 t^2 + a_3^2 t^2 + b_1^2 t^2 + b_2^2 t^2 + b_3^2 t^2 \\le 4 (2^{128} 2^{128} - 2^{128})^2 + 6 * t^2 (2^{128})^2 \\approx 2^{514} + 3 * 2^{257} t^2\n",
    "$\n",
    "\n",
    "Using Gaussian expected shortest length we can restrict $t$ to make possible the use of Babai closest vertex/plane algorithm to find the Approximate Closest Vector $\\vec{u}$ to $\\vec{h}$ in $L$ with reduced basis. Also we need this norm to be as small as possible.\n",
    "\n",
    "So, we should find $t$, such that $$ 2^{514} + 3 * 2^{257} t^2 \\lt \\frac{ (\\Gamma (1 + \\frac{n}{2})det(L))^{\\frac{2}{n}} }{\\pi} = \\frac{ (120 p^4 t^6)^{\\frac{1}{5}} }{\\pi} $$\n",
    "\n",
    "We can find the turning point via binary search!"
   ]
  },
  {
   "cell_type": "code",
   "execution_count": 82,
   "id": "a6f04fb4",
   "metadata": {},
   "outputs": [
    {
     "name": "stdout",
     "output_type": "stream",
     "text": [
      "4.16798398060073e139 251028658364543899663335424\n",
      "-1.07176730929733e140 251028658364543899663335425\n"
     ]
    }
   ],
   "source": [
    "x = var('x')\n",
    "f = 2**514 + 3 * 2**129 * x - (120 * p**4 * x**6)**(1/5)/pi\n",
    "a, b = 0, 2**512\n",
    "gt = []\n",
    "while True:\n",
    "    mid = (a + b)//2\n",
    "    g = f(x=mid).n()\n",
    "    if g > 0:\n",
    "        a = mid\n",
    "    elif g < 0:\n",
    "        b = mid\n",
    "    if b <= a + 1:\n",
    "        break\n",
    "    if(f(x=a).n() > 0):\n",
    "        gt.append(a)\n",
    "print(f(x=a).n(), a)\n",
    "print(f(x=b).n(), b)"
   ]
  },
  {
   "cell_type": "markdown",
   "id": "d581d68d",
   "metadata": {},
   "source": [
    "Now we can assume that for $ t \\ge 251028658364543899663335425 $ this inequality holds."
   ]
  },
  {
   "cell_type": "code",
   "execution_count": 33,
   "id": "d4d764ca",
   "metadata": {},
   "outputs": [],
   "source": [
    "def nearest(x):\n",
    "    if abs(floor(x) - x) < 0.5:\n",
    "        return floor(x)\n",
    "    return ceil(x)\n",
    "\n",
    "\n",
    "def gen_matrix(p, params, t = 1):\n",
    "    m = len(params)\n",
    "    d = 6\n",
    "    M = Matrix(ZZ, m + d, m + d)\n",
    "    M.set_block(0, 0, identity_matrix(m) * p)\n",
    "    M.set_block(m, m, identity_matrix(d) * t)\n",
    "    h = []\n",
    "    for i in range(m):\n",
    "        x, y = params[i][0]\n",
    "        h.append(params[i][1])\n",
    "        inte = matrix([x, x**2, x**3  , y, y**2 , y**3 ]).T\n",
    "        M.set_block(m, i, inte)\n",
    "    h = h + [0] * d\n",
    "    return M, vector(h)\n",
    "\n",
    "def Babai_closest_vertex(base, vec):\n",
    "    m = Matrix(base)\n",
    "    sol = m.solve_left(vec)\n",
    "    sol = vector([nearest(x) for x in sol])\n",
    "    ans = zero_vector(len(base))\n",
    "    for i in range(len(base)):\n",
    "        ans += vector(base[i]) * sol[i]\n",
    "    return ans"
   ]
  },
  {
   "cell_type": "code",
   "execution_count": 84,
   "id": "688bdd25",
   "metadata": {},
   "outputs": [
    {
     "name": "stdout",
     "output_type": "stream",
     "text": [
      "(-3788473450022742507797205428359131458883090620125715480516636644666253357085237853861265276777234820444576367858685461658224947154247995799840283189799842364604042814472860901973742122656190763446357734856697811441170615800167767277155233860204167097801176391080592098338404898415844429826771077805730094404287472481610447752223934820033752325791, -272674018717101800614776524069415159863363984203554741202583344835752007363583784909574517690355428611618193730772879760872221020484222542365276986651635669105336395834558798543523285709325686668416435036667176002796050464342116311786243284826597650685414093119279797667582363298514044038498692773163491595434623936189155239263043808990541414012, -1262483761334323490652006913517659565556009174110757765688909130366092015651092092566993097729417172237584887189965982930589552615824770118199191192013006019585344677112448536349299377978905803636814134481898603348141818511774231441943553642574816457204241953306163478653939202642039603359304891924866526571469707813120784710703852321742388926608, -2738914733803296418428205286039060243899551569183374085482599581355475941348887258845483483548725033674983908663309882321778222544582503209093588868738095161957191280766671823962708597193786381474575240223688848187045778621629326750810845312043862968921618140490645568531059283837280231663754938004458055182277282757035551708156840416504316755726, 319946859331022505606006682830489529550, 152251339815807627609342474617581741055, 137751761597342098624908697775689190697, 337281036453915579622200616302875159873, 150513307904359194457545638585602396040, 27998232432567560780529247469815955088)\n"
     ]
    }
   ],
   "source": [
    "t = 251028658364543899663335425 \n",
    "M, h = gen_matrix(p, params, t)\n",
    "m = M.LLL()\n",
    "m = [x for x in m]\n",
    "u = Babai_closest_vertex(m, h)\n",
    "assert (u - h).norm() < (120 * p**4 * t**6)**(1/10)/sqrt(pi)\n",
    "s = M.solve_left(u)\n",
    "print(s)"
   ]
  },
  {
   "cell_type": "markdown",
   "id": "a676ea2d",
   "metadata": {},
   "source": [
    "We have successfully recovered $ a_1, a_2, a_3, b_1, b_2, b_3 $\n",
    "\n",
    "Now we can use a few triks to find $s$ and $c$\n",
    "\n",
    "First of all, note that since $c z_i + s < 2^{256} < p$ we can solve the rest of the equations over the Integers."
   ]
  },
  {
   "cell_type": "code",
   "execution_count": 62,
   "id": "5672f152",
   "metadata": {},
   "outputs": [],
   "source": [
    "a1, a2, a3, b1, b2, b3 = s[-6:]\n",
    "rs = []\n",
    "for _ in range(4):\n",
    "    x, y = params[_][0]\n",
    "    w = params[_][1]\n",
    "    r0 = (w - (a1*x + a2 * x**2 + a3 * x**3 + b1 * y + b2 * y**2 + b3 * y**3)) % p\n",
    "    rs.append(r0)\n",
    "r1, r2, r3, r4 = rs"
   ]
  },
  {
   "cell_type": "markdown",
   "id": "00204ed9",
   "metadata": {},
   "source": [
    "$$ c z_1 + s = r_1 \\\\ c z_2 + s = r_2 \\\\ c z_3 + s = r_3 \\\\ c z_1 + s = r_4 $$\n",
    "\n",
    "Sice the values are pretty random, we can assume that the   $ gcd(r_2 - r_1, r_3 - r_2, r_4 - r_3) = c $"
   ]
  },
  {
   "cell_type": "code",
   "execution_count": 63,
   "id": "0dee272e",
   "metadata": {},
   "outputs": [
    {
     "name": "stdout",
     "output_type": "stream",
     "text": [
      "128\n"
     ]
    }
   ],
   "source": [
    "c = gcd([r2 - r1, r3 - r2, r4 - r3])\n",
    "print(int(c).bit_length())"
   ]
  },
  {
   "cell_type": "markdown",
   "id": "46cd59ef",
   "metadata": {},
   "source": [
    "The following part to recover $s$ is pretty obvious."
   ]
  },
  {
   "cell_type": "code",
   "execution_count": 64,
   "id": "5cb9c9c0",
   "metadata": {},
   "outputs": [
    {
     "name": "stdout",
     "output_type": "stream",
     "text": [
      "86246982746739283466217140132251503442\n"
     ]
    }
   ],
   "source": [
    "z1 = floor((r1 - 2**128) / c)  # using boundaries for s\n",
    "z2 = ceil((r1 - 2**127) / c)\n",
    "\n",
    "for z in range(z1, z2+1):\n",
    "    s = r1 - c * z\n",
    "    if s > 0 and int(s).bit_length() == 128:\n",
    "        break\n",
    "print(s)"
   ]
  },
  {
   "cell_type": "code",
   "execution_count": 66,
   "id": "4d664cb1",
   "metadata": {},
   "outputs": [
    {
     "name": "stdout",
     "output_type": "stream",
     "text": [
      "b'SECCON{Unfortunately_I_could_not_come_up_with_a_more_difficult_problem_than_last_year_sorry...-6fc18307d3ed2e7673a249abc2e0e22c}'\n"
     ]
    }
   ],
   "source": [
    "coeffs = [a1, a2, a3, b1, b2, b3, c, s]\n",
    "coeffs = [int(x) for x in coeffs]\n",
    "\n",
    "key = int(0)\n",
    "for coeff in coeffs:\n",
    "    key <<= 128\n",
    "    key ^^= coeff\n",
    "\n",
    "from Crypto.Util.number import long_to_bytes\n",
    "flag = ct ^^ key\n",
    "print(long_to_bytes(flag))"
   ]
  },
  {
   "cell_type": "markdown",
   "id": "271b3274",
   "metadata": {},
   "source": [
    "Also there was another way, that requires less theory knowledge: just to search for that t:"
   ]
  },
  {
   "cell_type": "code",
   "execution_count": 81,
   "id": "ec3b0b49",
   "metadata": {},
   "outputs": [
    {
     "name": "stdout",
     "output_type": "stream",
     "text": [
      "b'SECCON{Unfortunately_I_could_not_come_up_with_a_more_difficult_problem_than_last_year_sorry...-6fc18307d3ed2e7673a249abc2e0e22c}'\n"
     ]
    }
   ],
   "source": [
    "a, b = 0, p\n",
    "while True:\n",
    "    t = (a + b) // 2\n",
    "    M, h = gen_matrix(p, params, t)\n",
    "    m = M.LLL()\n",
    "    m = [x for x in m]\n",
    "    u = Babai_closest_vertex(m, h)\n",
    "    s = M.solve_left(u)\n",
    "    \n",
    "    z = int(abs(s[-1])).bit_length()\n",
    "    if z >= 127 and z <= 128 and all(x > 0 and int(x).bit_length() <= 128 for x in s[-6:]):\n",
    "        print(t)\n",
    "        break\n",
    "    elif z > 128:\n",
    "        a = t + 1\n",
    "    else:\n",
    "        b = t - 1\n",
    "    if b <= a + 1:\n",
    "        break\n",
    "\n",
    "a1, a2, a3, b1, b2, b3 = s[-6:]\n",
    "rs = []\n",
    "for _ in range(4):\n",
    "    x, y = params[_][0]\n",
    "    w = params[_][1]\n",
    "    r0 = (w - (a1*x + a2 * x**2 + a3 * x**3 + b1 * y + b2 * y**2 + b3 * y**3)) % p\n",
    "    rs.append(r0)\n",
    "r1, r2, r3, r4 = rs\n",
    "c = gcd([r2 - r1, r3 - r2, r4 - r3])\n",
    "z1 = floor((r1 - 2**128) / c)  # using boundaries for s\n",
    "z2 = ceil((r1 - 2**127) / c)\n",
    "\n",
    "for z in range(z1, z2+1):\n",
    "    s = r1 - c * z\n",
    "    if s > 0 and int(s).bit_length() == 128:\n",
    "        break\n",
    "\n",
    "coeffs = [a1, a2, a3, b1, b2, b3, c, s]\n",
    "coeffs = [int(x) for x in coeffs]\n",
    "\n",
    "key = int(0)\n",
    "for coeff in coeffs:\n",
    "    key <<= 128\n",
    "    key ^^= coeff\n",
    "\n",
    "from Crypto.Util.number import long_to_bytes\n",
    "flag = ct ^^ key\n",
    "print(long_to_bytes(flag))"
   ]
  }
 ],
 "metadata": {
  "kernelspec": {
   "display_name": "SageMath 9.7",
   "language": "sage",
   "name": "sagemath"
  },
  "language_info": {
   "codemirror_mode": {
    "name": "ipython",
    "version": 3
   },
   "file_extension": ".py",
   "mimetype": "text/x-python",
   "name": "python",
   "nbconvert_exporter": "python",
   "pygments_lexer": "ipython3",
   "version": "3.10.8"
  }
 },
 "nbformat": 4,
 "nbformat_minor": 5
}
