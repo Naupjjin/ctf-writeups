{
 "cells": [
  {
   "cell_type": "markdown",
   "id": "2198f5d4",
   "metadata": {},
   "source": [
    "<h>Task:</h>\n",
    "```python\n",
    "p = k**6 + 7*k**4 - 40*k**3 + 12*k**2 - 114*k + 31377\n",
    "q = k**5 - 8*k**4 + 19*k**3 - 313*k**2 - 14*k + 14011\n",
    "n = 44538727182858207226040251762322467288176239968967952269350336889655421753182750730773886813281253762528207970314694060562016861614492626112150259048393048617529867598499261392152098087985858905944606287003243\n",
    "```"
   ]
  },
  {
   "cell_type": "code",
   "execution_count": 2,
   "id": "17bde9ed",
   "metadata": {},
   "outputs": [],
   "source": [
    "n = 44538727182858207226040251762322467288176239968967952269350336889655421753182750730773886813281253762528207970314694060562016861614492626112150259048393048617529867598499261392152098087985858905944606287003243\n",
    "enc = 37578889436345667053409195986387874079577521081198523844555524501835825138236698001996990844798291201187483119265306641889824719989940722147655181198458261772053545832559971159703922610578530282146835945192532"
   ]
  },
  {
   "cell_type": "code",
   "execution_count": 10,
   "id": "9700890d",
   "metadata": {},
   "outputs": [
    {
     "name": "stdout",
     "output_type": "stream",
     "text": [
      "k^11 - 8*k^10 + 26*k^9 - 409*k^8 + 451*k^7 + 10850*k^6 + 44939*k^5 - 158301*k^4 + 71237*k^3 - 9651273*k^2 - 2036532*k + 439623147\n"
     ]
    }
   ],
   "source": [
    "var('k')\n",
    "p = k**6 + 7*k**4 - 40*k**3 + 12*k**2 - 114*k + 31377\n",
    "q = k**5 - 8*k**4 + 19*k**3 - 313*k**2 - 14*k + 14011\n",
    "print(expand(p * q))"
   ]
  },
  {
   "cell_type": "markdown",
   "id": "c5907370",
   "metadata": {},
   "source": [
    "<p>Now we can use the well-known fact that if a polynomial with integer coefficients has an integer root, then it must divide the free coefficient of this very polynomial</p>"
   ]
  },
  {
   "cell_type": "code",
   "execution_count": 11,
   "id": "aa349773",
   "metadata": {},
   "outputs": [
    {
     "name": "stdout",
     "output_type": "stream",
     "text": [
      "b'\\x00\\x00\\x00\\x00\\x00\\x00\\x00\\x00\\x00CCTF{F4C70r!N9_tRIcK5_aR3_fUN_iN_RSA?!!!}'\n"
     ]
    }
   ],
   "source": [
    "free = n - 439623147\n",
    "# I have used factordb to factor free\n",
    "factors_free = [2, 2, 2, 2, 2, 2, 2, 23, 149, 96587, 284489 ,308249, 182920456883, 290346833867442323, 225708816469027874604301730604018953131429251454653530933080485440552052705861610529060326434856162088025503274779451825531308257294418918769464570979364684057]\n",
    "\n",
    "from itertools import combinations # naive creation of all the divisors\n",
    "divisors = []\n",
    "for i in range(len(factors_free)):\n",
    "    divisors += list(prod(x) for x in combinations(factors_free, i))\n",
    "\n",
    "for i in divisors:\n",
    "    if((p * q - n)(k=i) == 0):\n",
    "        ans = i\n",
    "        break\n",
    "        \n",
    "p = int(p(k=ans))\n",
    "q = int(q(k=ans))\n",
    "assert p*q == n\n",
    "\n",
    "d = pow(31337, -1, (p-1)*(q-1))\n",
    "\n",
    "print(int(pow(enc, d, n)).to_bytes(50, \"big\"))"
   ]
  }
 ],
 "metadata": {
  "kernelspec": {
   "display_name": "SageMath 9.6",
   "language": "sage",
   "name": "sagemath"
  },
  "language_info": {
   "codemirror_mode": {
    "name": "ipython",
    "version": 3
   },
   "file_extension": ".py",
   "mimetype": "text/x-python",
   "name": "python",
   "nbconvert_exporter": "python",
   "pygments_lexer": "ipython3",
   "version": "3.10.5"
  }
 },
 "nbformat": 4,
 "nbformat_minor": 5
}
