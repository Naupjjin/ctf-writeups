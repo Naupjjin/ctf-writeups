{
 "cells": [
  {
   "cell_type": "markdown",
   "id": "12fe6642",
   "metadata": {},
   "source": [
    "<h>Task:</h>\n",
    "<br>\n",
    "```\n",
    "||||||||||||||||||||||||||||||||||||||||||||||||||||||||||||||||||||||||\n",
    "| Hi crypto programmers! I'm looking for some very special permutation |\n",
    "| p name MINO such that sum(p(i) * (-2)^i) = 0 from 0 to n - 1, for    |\n",
    "| example for n = 6, the permutation p = (4, 2, 6, 5, 3, 1) is MINO:   |\n",
    "| 4*(-2)^0 + 2*(-2)^1 + 6*(-2)^2 + 5*(-2)^3 + 3*(-2)^4 + 1*(-2)^5 = 0  |\n",
    "| In each step find such permutation and send to server, if there is   |\n",
    "| NOT such permutation for given n, just send `TINP', good luck :)     |\n",
    "||||||||||||||||||||||||||||||||||||||||||||||||||||||||||||||||||||||||\n",
    "| Send a MINO permutation of length = 3 separated by comma:\n",
    "```"
   ]
  },
  {
   "cell_type": "markdown",
   "id": "eaee6b37",
   "metadata": {},
   "source": [
    "<p>We have an equation:</p>\n",
    "<code>a1 * (-2)**0 + a2 * (-2)**1  + a3 * (-2)**2 + a4 * (-2)**3 + ... + an * (-2)**(n-1) = f(n) = 0</code>\n",
    "<br><code>Where ai in [1, n]</code><br>\n",
    "<p>Let's check this very equation modulo 2:</p>\n",
    "<code>a1 = 0 (mod 2) => a1 = 2 * k1, where k1 in [1, n//2]</code>\n",
    "<p>Modulo 4:</p>\n",
    "<code>a1 - 2 * a2 = 0 (mod 4) => 2 * k1 - 2 * a2 = 0 (mod 4) => a2 = k1 (mod 2) => a2 = k1 + 2 * k2</code>\n",
    "<p>Modulo 8:</p>\n",
    "<code>a1 - 2 * a2 + 4 * a3 = 0 (mod 8) => 2 * k1 - 2 * k1 - 4 * k2 + 4 * a3 = 0 (mod 8) => a3 = k2 (mod 8) => a3 = k2 + 2 * k3</code>\n",
    "<p>And so on until 2**(n-1)</p>\n",
    "<code> a(n-1) = k(n-2) + 2 * k(n-1) </code><br>\n",
    "<code> an = k(n-1) (no modulo due to the condition of the problem)</code>\n",
    "<p>Thus we have this system of equations:</p>\n",
    "<code> a1 = 2 * k1 </code><br>\n",
    "<code> a2 = k1 + 2 * k2 </code><br>\n",
    "<code> a3 = k2 + 2 * k3 </code><br>\n",
    "<code> a4 = k3 + 2 * k4 </code><br>\n",
    "<code> a5 = k4 + 2 * k5 </code><br>\n",
    "<code> ... </code><br>\n",
    "<code> a(n-2) = k(n-3) + 2 * k(n-2) </code><br>\n",
    "<code> a(n-1) = k(n-2) + 2 * k(n-1) </code><br>\n",
    "<code> an = k(n-1)</code><br>\n",
    "<p>If you sum all this equation up, you will get:</p>\n",
    "<code> a1 + a2 + ... + an = 3 * (k1 + k2 + ... + k(n-1)), where a1 + a2 + ... + an = n * (n + 1) / 2 as the sum of n successive numbers(the order does not matter)</code>\n",
    "<p>Hence we can conclude, that the existance of a solution is based on divisibility of the sum by 3</p>\n",
    "    \n",
    "    \n",
    "<p>I have written a recursive algo, based on this very system + divisibility condition, which gives the result for this very problem less than in one minute:</p>"
   ]
  },
  {
   "cell_type": "code",
   "execution_count": 1,
   "id": "79f2632e",
   "metadata": {},
   "outputs": [],
   "source": [
    "def recursive_perm(n, ks, used):\n",
    "    if(len(used) == n-1):\n",
    "        if(ks[-1] not in used and ks[-1] != 0):\n",
    "            #print(used + [ks[-1]])    \n",
    "            return (True, used + [ks[-1]])\n",
    "    \n",
    "        return (False, None)\n",
    "    \n",
    "    for i in range(max(0, (1-ks[-1]) //2), (n-ks[-1])//2 + 1):  # this range is caused by the system conditions on k's\n",
    "        current_a = ks[-1] + 2 * i\n",
    "        if(current_a not in used and current_a != 0):\n",
    "            ans = recursive_perm(n, ks + [i], used + [current_a])\n",
    "            if(ans[0]):\n",
    "                return ans\n",
    "    return (False, None)"
   ]
  },
  {
   "cell_type": "code",
   "execution_count": 2,
   "id": "a9828f52",
   "metadata": {},
   "outputs": [],
   "source": [
    "def get_permutation(n):\n",
    "    if(n * (n+1) // 2 % 3 != 0):\n",
    "        print(\"TINP\")\n",
    "        return None\n",
    "    for i in range(1, n//2+1):\n",
    "        ans = recursive_perm(n, [i], [2*i])  # starts with an even number due to the system\n",
    "        if(ans[0]):\n",
    "            return ans[1]"
   ]
  },
  {
   "cell_type": "code",
   "execution_count": 3,
   "id": "6c6ecd45",
   "metadata": {},
   "outputs": [],
   "source": [
    "def assert_sum(perm):\n",
    "    return sum((-2)**i * perm[i] for i in range(len(perm))) == 0"
   ]
  },
  {
   "cell_type": "code",
   "execution_count": 4,
   "id": "94a0a0fa",
   "metadata": {},
   "outputs": [
    {
     "name": "stdout",
     "output_type": "stream",
     "text": [
      "3 [2, 3, 1]\n",
      "4 TINP\n",
      "5 [2, 3, 5, 4, 1]\n",
      "6 [2, 3, 5, 6, 4, 1]\n",
      "7 TINP\n",
      "8 [2, 1, 4, 6, 8, 5, 7, 3]\n",
      "9 [2, 1, 4, 6, 8, 5, 7, 9, 3]\n",
      "10 TINP\n",
      "11 [2, 1, 4, 6, 8, 5, 7, 9, 11, 10, 3]\n",
      "12 [2, 1, 4, 6, 8, 3, 10, 7, 11, 9, 12, 5]\n",
      "13 TINP\n",
      "14 [2, 1, 4, 6, 8, 3, 10, 7, 9, 12, 14, 11, 13, 5]\n",
      "15 [2, 1, 4, 6, 8, 3, 10, 7, 9, 12, 14, 11, 13, 15, 5]\n",
      "16 TINP\n",
      "17 [2, 1, 4, 6, 8, 3, 10, 5, 12, 16, 13, 14, 11, 17, 9, 15, 7]\n",
      "18 [2, 1, 4, 6, 8, 3, 10, 5, 12, 14, 18, 9, 13, 16, 15, 11, 17, 7]\n",
      "19 TINP\n",
      "20 [2, 1, 4, 6, 8, 3, 10, 5, 12, 14, 16, 18, 20, 9, 11, 15, 19, 13, 17, 7]\n",
      "21 [2, 1, 4, 6, 8, 3, 10, 5, 12, 14, 16, 18, 20, 9, 11, 15, 19, 13, 17, 21, 7]\n",
      "22 TINP\n",
      "23 [2, 1, 4, 6, 8, 3, 10, 5, 12, 14, 16, 18, 20, 7, 22, 13, 11, 15, 19, 21, 17, 23, 9]\n",
      "24 [2, 1, 4, 6, 8, 3, 10, 5, 12, 14, 16, 18, 20, 7, 22, 13, 11, 15, 19, 17, 23, 21, 24, 9]\n",
      "25 TINP\n",
      "26 [2, 1, 4, 6, 8, 3, 10, 5, 12, 14, 16, 18, 20, 7, 22, 11, 24, 26, 13, 17, 21, 25, 19, 15, 23, 9]\n",
      "27 [2, 1, 4, 6, 8, 3, 10, 5, 12, 14, 16, 18, 20, 7, 22, 11, 24, 26, 13, 17, 21, 25, 19, 15, 23, 27, 9]\n",
      "28 TINP\n",
      "29 [2, 1, 4, 6, 8, 3, 10, 5, 12, 14, 16, 18, 20, 7, 22, 11, 24, 26, 9, 15, 21, 25, 19, 27, 23, 28, 17, 29, 13]\n",
      "30 [2, 1, 4, 6, 8, 3, 10, 5, 12, 14, 16, 18, 20, 7, 22, 11, 24, 26, 9, 15, 17, 23, 27, 21, 28, 25, 29, 19, 30, 13]\n",
      "31 TINP\n",
      "32 [2, 1, 4, 6, 8, 3, 10, 5, 12, 14, 16, 18, 20, 7, 22, 11, 24, 26, 9, 13, 28, 19, 30, 23, 27, 25, 29, 21, 31, 17, 32, 15]\n",
      "33 [2, 1, 4, 6, 8, 3, 10, 5, 12, 14, 16, 18, 20, 7, 22, 11, 24, 26, 9, 13, 28, 17, 21, 25, 30, 29, 27, 31, 23, 32, 19, 33, 15]\n",
      "34 TINP\n",
      "35 [2, 1, 4, 6, 8, 3, 10, 5, 12, 14, 16, 18, 20, 7, 22, 11, 24, 26, 9, 13, 28, 17, 19, 30, 21, 25, 32, 29, 31, 33, 27, 34, 23, 35, 15]\n",
      "36 [2, 1, 4, 6, 8, 3, 10, 5, 12, 14, 16, 18, 20, 7, 22, 11, 24, 26, 9, 13, 28, 15, 30, 32, 23, 25, 27, 31, 29, 33, 34, 21, 35, 19, 36, 17]\n",
      "37 TINP\n",
      "38 [2, 1, 4, 6, 8, 3, 10, 5, 12, 14, 16, 18, 20, 7, 22, 11, 24, 26, 9, 13, 28, 15, 30, 32, 19, 21, 34, 25, 36, 29, 33, 31, 35, 27, 37, 23, 38, 17]\n",
      "39 [2, 1, 4, 6, 8, 3, 10, 5, 12, 14, 16, 18, 20, 7, 22, 11, 24, 26, 9, 13, 28, 15, 30, 32, 19, 21, 34, 23, 27, 31, 36, 35, 33, 37, 29, 38, 25, 39, 17]\n",
      "40 TINP\n"
     ]
    }
   ],
   "source": [
    "for i in range(3, 41):\n",
    "    print(i, end=\" \")\n",
    "    permi = get_permutation(i)\n",
    "    if(permi and assert_sum(permi)):\n",
    "        print(permi)"
   ]
  }
 ],
 "metadata": {
  "kernelspec": {
   "display_name": "Python 3 (ipykernel)",
   "language": "python",
   "name": "python3"
  },
  "language_info": {
   "codemirror_mode": {
    "name": "ipython",
    "version": 3
   },
   "file_extension": ".py",
   "mimetype": "text/x-python",
   "name": "python",
   "nbconvert_exporter": "python",
   "pygments_lexer": "ipython3",
   "version": "3.10.8"
  }
 },
 "nbformat": 4,
 "nbformat_minor": 5
}
