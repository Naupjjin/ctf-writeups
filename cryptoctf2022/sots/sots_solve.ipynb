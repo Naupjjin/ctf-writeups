{
 "cells": [
  {
   "cell_type": "markdown",
   "id": "ae945bb6",
   "metadata": {},
   "source": [
    "<h>Task:</h>\n",
    "<br>\n",
    "<code>||||||||||||||||||||||||||||||||||||||||||||||||||||||||||||||||||||||||\n",
    "|  Hey math experts, in this challenge we will deal with the numbers   |\n",
    "|  those are the sum of two perfect square, now try hard to find them! |\n",
    "||||||||||||||||||||||||||||||||||||||||||||||||||||||||||||||||||||||||\n",
    "| Generating the `n', please wait...\n",
    "| Options:\n",
    "|       [G]et the n\n",
    "|       [S]olve the challenge!\n",
    "|       [Q]uit</code>"
   ]
  },
  {
   "cell_type": "markdown",
   "id": "71dff94d",
   "metadata": {},
   "source": [
    "<p>This problem is related to the well-known mathematical problem of representing a number as the sum of two perfect squares.  Thanks to Gauss, we can solve it by calculating the Gaussian representation of each prime number in the factorization of n as the product of two Gaussian primes (complex integers), and then multiplying their components according to the following formula:</p>\n",
    "<code>if m = x**2 + y**2 (known representation), than m * (a**2 + b**2) = (a * x + b * y)**2 + (b * x - a * y)**2</code>"
   ]
  },
  {
   "cell_type": "code",
   "execution_count": 1,
   "id": "9198b3e2",
   "metadata": {},
   "outputs": [
    {
     "name": "stdout",
     "output_type": "stream",
     "text": [
      "[1149005970578451484520029, 1274995011585778477811657, 2211734509910462635418213]\n"
     ]
    }
   ],
   "source": [
    "#n = int(input())\n",
    "n = 3240139923419554942777080012629133756613088443909765152258260143097079289\n",
    "# it was my number, but it will work for any number given by this task\n",
    "\n",
    "r = ecm.factor(n) # it was obvious that this number is smooth since the task is marked as easy\n",
    "r = list(r)\n",
    "print(r)"
   ]
  },
  {
   "cell_type": "code",
   "execution_count": 2,
   "id": "f82a514d",
   "metadata": {},
   "outputs": [
    {
     "name": "stdout",
     "output_type": "stream",
     "text": [
      "[1636571041540705934074684038875276883, -749516610496341111394046723080150940]\n"
     ]
    }
   ],
   "source": [
    "G = ZZ[I]\n",
    "factored = []\n",
    "for i in r:\n",
    "    tmp = list(x[0] for x in G(i).factor()) # G(i) factorization is a Gaussian Factorization of a number\n",
    "    tmp[1] *= I\n",
    "    factored += [[abs(x) for x in tmp[0]]]\n",
    "    \n",
    "ans = factored[0] # taking the first representation as default\n",
    "for i in factored[1:]:\n",
    "    a = ans[0] * i[0] + ans[1] * i[1] # applying the above formula\n",
    "    b = ans[1] * i[0] - ans[0] * i[1]\n",
    "    ans = [a, b]\n",
    "print(ans)"
   ]
  },
  {
   "cell_type": "code",
   "execution_count": 5,
   "id": "037c8432",
   "metadata": {},
   "outputs": [],
   "source": [
    "assert ans[0]**2 + ans[1]**2 == n"
   ]
  }
 ],
 "metadata": {
  "kernelspec": {
   "display_name": "SageMath 9.6",
   "language": "sage",
   "name": "sagemath"
  },
  "language_info": {
   "codemirror_mode": {
    "name": "ipython",
    "version": 3
   },
   "file_extension": ".py",
   "mimetype": "text/x-python",
   "name": "python",
   "nbconvert_exporter": "python",
   "pygments_lexer": "ipython3",
   "version": "3.10.5"
  }
 },
 "nbformat": 4,
 "nbformat_minor": 5
}
