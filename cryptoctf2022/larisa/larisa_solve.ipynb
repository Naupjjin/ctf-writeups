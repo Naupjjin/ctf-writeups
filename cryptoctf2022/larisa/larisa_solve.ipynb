{
 "cells": [
  {
   "cell_type": "markdown",
   "id": "348e0346",
   "metadata": {},
   "source": [
    "<h>Task:</h>\n",
    "<p>Firstly, Note that all that powlat does is simply raisng all the permutations in the list to the power of 65537, hence we can simply reverse this operation by taking the invers of 65537 modulo order of the symmetric group 128</p>"
   ]
  },
  {
   "cell_type": "code",
   "execution_count": 2,
   "id": "210e3677",
   "metadata": {},
   "outputs": [],
   "source": [
    "f = eval(open(\"enc.txt\", \"rt\").read())\n",
    "S = SymmetricGroup(128)\n",
    "c = [S(x) for x in f]\n",
    "power_d = int(pow(0x10001, -1, S.order()))\n",
    "m = [x**power_d for x in c]\n",
    "\n",
    "m = [list(x.tuple()) for x in m]"
   ]
  },
  {
   "cell_type": "markdown",
   "id": "465464e5",
   "metadata": {},
   "source": [
    "<p>Now we can simply iterate over all possible iR's and iS's to get the correct ones</p>"
   ]
  },
  {
   "cell_type": "code",
   "execution_count": 4,
   "id": "8d8239d1",
   "metadata": {},
   "outputs": [
    {
     "name": "stdout",
     "output_type": "stream",
     "text": [
      "the flag: CCTF{pUbliC_k3y_cryp 63 61\n"
     ]
    }
   ],
   "source": [
    "k1 = '_' * 30\n",
    "r = ''\n",
    "for iR in range(128):\n",
    "    for iS in range(128):\n",
    "        ans = ''\n",
    "        try:\n",
    "            for k in range(len(k1)):\n",
    "                ans += chr(m[k][(k * iR + iS) % 128])\n",
    "            if(ans.isprintable() and '_' in ans):\n",
    "                print(ans, iR, iS)\n",
    "        except Exception as e:\n",
    "            continue"
   ]
  },
  {
   "cell_type": "code",
   "execution_count": 5,
   "id": "f454e023",
   "metadata": {},
   "outputs": [
    {
     "name": "stdout",
     "output_type": "stream",
     "text": [
      "the flag: CCTF{pUbliC_k3y_crypt0graphY_u5in9_rOw-l4t!N_5quAr3S!}}}}}}}}}}}}}}}}}}}}}}}}}}}}}}}}}}}}}}}}}}}}}}}}}}}}}}}}}}}}}}}}}\n"
     ]
    }
   ],
   "source": [
    "iR, iS = 63, 61\n",
    "for i in range(len(m)):\n",
    "    r += chr(m[i][(i * iR + iS) % 128])\n",
    "print(r)"
   ]
  }
 ],
 "metadata": {
  "kernelspec": {
   "display_name": "SageMath 9.6",
   "language": "sage",
   "name": "sagemath"
  },
  "language_info": {
   "codemirror_mode": {
    "name": "ipython",
    "version": 3
   },
   "file_extension": ".py",
   "mimetype": "text/x-python",
   "name": "python",
   "nbconvert_exporter": "python",
   "pygments_lexer": "ipython3",
   "version": "3.10.5"
  }
 },
 "nbformat": 4,
 "nbformat_minor": 5
}
