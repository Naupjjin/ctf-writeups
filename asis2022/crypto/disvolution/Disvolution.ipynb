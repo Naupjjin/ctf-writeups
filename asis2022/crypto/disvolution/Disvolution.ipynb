{
 "cells": [
  {
   "cell_type": "markdown",
   "id": "a72b7f52",
   "metadata": {},
   "source": [
    "# Disinvolute\n",
    "Note: Solution is unintended\n",
    "\n",
    "## Description\n",
    "<pre>\n",
    "Cryptosystem that I have developed uses a set of procedures known as cryptographic disinvolute algorithms.\n",
    "\n",
    "nc 65.21.255.31 12431\n",
    "nc 188.34.203.80 12431\n",
    "\n",
    "</pre>\n",
    "<b>No attachments</b><br>\n",
    "Output from socket:\n",
    "<pre>\n",
    "||||||||||||||||||||||||||||||||||||||||||||||||||||||||||||||||||||||||\n",
    "|  Welcome to disinvolute challenge, with respet you should solve a    |\n",
    "|  very hard nested DLP problem! For this I have used safe primes to   |\n",
    "|  insure that secuirty is MAX! This is an impossible mission! YES!!!  |\n",
    "||||||||||||||||||||||||||||||||||||||||||||||||||||||||||||||||||||||||\n",
    "| Options:\n",
    "|       [E]ncrypted flag!\n",
    "|       [F]acts\n",
    "|       [Q]uit\n",
    "F\n",
    "| e = 65537\n",
    "| g = 19\n",
    "| G = 7\n",
    "| n = 126817219028606140440909929555626882017032868581677730360289090645417210565865712959055686403299389411320234628860402488799212584899944351871118800624694008941834723226969169304172676271632933365480328377235593062516957219629026796125251528168478419843686003229828708071527939921707413604946466960801416034117\n",
    "| x = 363259061254929246635815086309583926479751985388773318959515609623341060489308455953298274795462268009063514873410428823408419180662329709306384633116099239551636218622667816820069700044443018167845353859055658694736850591237009656106990800528300148707604972664409367653277774390670183187440780500307179239\n",
    "| y = 147891519347056175221533178934842161441006012995134619812533387291657853343797157298018501535376517192385607546849551161454575414353106307375951727161784643842405400941599100105707074104304764857011931092110265070500732647855323321204444123238533303610283566373180808121400613219793765794398764590913417058589559\n",
    "| m = bytes_to_long(flag)\n",
    "| pow(g, pow(G, x), n) == pow(g, pow(G, y), n)\n",
    "| Options:\n",
    "|       [E]ncrypted flag!\n",
    "|       [F]acts\n",
    "|       [Q]uit\n",
    "E\n",
    "| pow(m, e, n) = 94635799754849737996179438897316661904096199960423902626561026359597490424651317212764011026988643862869806426528293181566478952934320109504067886143847768757668982865986219018245239540959961962445319610775905082069434896523194702877016305523646928667555806384730664597586240946082861560916829078697893564128\n",
    "| Options:\n",
    "|       [E]ncrypted flag!\n",
    "|       [F]acts\n",
    "|       [Q]uit\n",
    "Q\n",
    "| Quitting ...\n",
    "\n",
    "</pre>\n",
    "\n",
    "## Solution\n",
    "It was a hard one, which I almost guessed(I think??). So I've been analysing the primes from the output for 5 hours(from the corresponding phi's) and I was almost sure that they are probably strong(of the form ```1 + 2 * p``` where p is prime).<br>\n",
    "The next observation was about this equation: ```pow(g, pow(G, x), n) == pow(g, pow(G, y), n)```<br>\n",
    "Well, we have a situtation... or are we?<br>\n",
    "```g^(G^x) = g^(G^y) (mod n)```<br>\n",
    "```G^x = G^y (mod phi(n))```<br>\n",
    "```x = y (mod phi(phi(n)))```<br>\n",
    "Well, not almost true, but at least it happens. There maybe a situtation when ```x = y (mod phi(phi(n)) / ord(G)```, or ```G^x = G^y (mod phi(n) / ord(g))``` but... Let's hope for the best!<br>\n",
    "For <b>strong</b> primes I have figured out a formula:<br>\n",
    "Lets ```p = 1 + 2 * r, q = 1 + 2 * t```, hence ```phi(n) = 2 * r * t``` and ```phi(phi(n)) = 2 * (r - 1) * (t - 1) = 2 * t * r - 2 * (t + r) + 2```<br>\n",
    "strange. Where could we find ```phi(phi(n))```?\n",
    "Let's look at ```x = y (mod phi(phi(n)))```, here's the answer: ```y - x = K * phi(phi(n))```(also we know that phi(phi(n)) has a pretty close order to the order of n so, since ```y-x``` is a <b>bit</b> bigger than n we can be sure that small factors that we will figure out might be that K.(I know it because  <b><i>I was staring into this numbers for too long, so the numbers started to stare back at me...</i></b>)"
   ]
  },
  {
   "cell_type": "code",
   "execution_count": 16,
   "id": "f0035bef",
   "metadata": {},
   "outputs": [],
   "source": [
    "from pwn import remote\n",
    "from factordb.factordb import FactorDB\n",
    "import re\n",
    "from time import sleep"
   ]
  },
  {
   "cell_type": "code",
   "execution_count": 28,
   "id": "a25a5955",
   "metadata": {},
   "outputs": [],
   "source": [
    "def get_num(x):\n",
    "    return re.findall(r'[\\d]+', x)[0]\n",
    "\n",
    "def get_params(host, port):\n",
    "    r = remote(host, port)\n",
    "    r.sendline(b\"F\")\n",
    "    r.sendline(b\"E\")\n",
    "    r.sendline(b\"Q\")\n",
    "\n",
    "    for i in range(10):\n",
    "        r.recvline()\n",
    "    tmp = [r.recvline().decode() for _ in range(5)]\n",
    "    g, G, n, x, y = [int(get_num(x)) for x in tmp]\n",
    "    \n",
    "    for i in range(6):\n",
    "        r.recvline()\n",
    "\n",
    "    tmp = r.recvline().decode()\n",
    "    c = get_num(tmp)\n",
    "\n",
    "    r.close()\n",
    "    q = FactorDB(abs(int(x)-int(y)))\n",
    "    q.connect()\n",
    "    sleep(10)\n",
    "    return g, G, x, y, n, 2**16+1, c"
   ]
  },
  {
   "cell_type": "code",
   "execution_count": 29,
   "id": "27ecceb1",
   "metadata": {},
   "outputs": [],
   "source": [
    "def get_phiphis(x, y, n):\n",
    "    d = abs(x - y)\n",
    "    \n",
    "    q = FactorDB(d)\n",
    "    q.connect()\n",
    "    l = q.get_factor_list()\n",
    "\n",
    "    prob_phiphis = []\n",
    "    for num in range(1, len(l)+1):\n",
    "        for comb in combinations(l, num):   # every divisor, combined of small factors\n",
    "            d1 = d // product(comb)\n",
    "            tmp = int(n).bit_length() - int(d1).bit_length()  # that's what I was talking about. We slightly correct d's\n",
    "            if tmp >= 0 and tmp <= 4:            \n",
    "                prob_phiphis.append(d1)\n",
    "                \n",
    "    prob_phiphis = list(set(prob_phiphis))\n",
    "    prob_phiphis.append(d)\n",
    "    return prob_phiphis"
   ]
  },
  {
   "cell_type": "code",
   "execution_count": 30,
   "id": "dfc551da",
   "metadata": {},
   "outputs": [
    {
     "name": "stdout",
     "output_type": "stream",
     "text": [
      "Try № 1\n",
      "[x] Opening connection to 65.21.255.31 on port 12431\n",
      "[x] Opening connection to 65.21.255.31 on port 12431: Trying 65.21.255.31\n",
      "[+] Opening connection to 65.21.255.31 on port 12431: Done\n",
      "[*] Closed connection to 65.21.255.31 port 12431\n",
      "Try № 2\n",
      "[x] Opening connection to 65.21.255.31 on port 12431\n",
      "[x] Opening connection to 65.21.255.31 on port 12431: Trying 65.21.255.31\n",
      "[+] Opening connection to 65.21.255.31 on port 12431: Done\n",
      "[*] Closed connection to 65.21.255.31 port 12431\n",
      "Try № 3\n",
      "[x] Opening connection to 65.21.255.31 on port 12431\n",
      "[x] Opening connection to 65.21.255.31 on port 12431: Trying 65.21.255.31\n",
      "[+] Opening connection to 65.21.255.31 on port 12431: Done\n",
      "[*] Closed connection to 65.21.255.31 port 12431\n",
      "Try № 4\n",
      "[x] Opening connection to 65.21.255.31 on port 12431\n",
      "[x] Opening connection to 65.21.255.31 on port 12431: Trying 65.21.255.31\n",
      "[+] Opening connection to 65.21.255.31 on port 12431: Done\n",
      "[*] Closed connection to 65.21.255.31 port 12431\n",
      "Try № 5\n",
      "[x] Opening connection to 65.21.255.31 on port 12431\n",
      "[x] Opening connection to 65.21.255.31 on port 12431: Trying 65.21.255.31\n",
      "[+] Opening connection to 65.21.255.31 on port 12431: Done\n",
      "[*] Closed connection to 65.21.255.31 port 12431\n",
      "WIN\n"
     ]
    }
   ],
   "source": [
    "host, port = \"65.21.255.31\", 12431\n",
    "\n",
    "from itertools import combinations\n",
    "from Crypto.Util.number import long_to_bytes\n",
    "\n",
    "r = 0\n",
    "flag = False\n",
    "while True:\n",
    "    print(f\"Try № {r + 1}\")\n",
    "    r += 1\n",
    "    \n",
    "    g, G, x, y, n, e, c = get_params(host, port)\n",
    "    prob_phiphis = get_phiphis(x, y, n)\n",
    "\n",
    "\n",
    "    for ph in prob_phiphis:\n",
    "        t = n - 2 * ph + 9\n",
    "        if t % 3 != 0 or t < 0:\n",
    "            continue\n",
    "        su = t // 3\n",
    "        var('x')\n",
    "        s = x**2 - su * x + n\n",
    "        k = s.roots()\n",
    "        if k[0][0].is_integer():\n",
    "            p, q = k\n",
    "            flag = True\n",
    "            break\n",
    "    if flag:\n",
    "        break\n",
    "print(\"WIN\")"
   ]
  },
  {
   "cell_type": "code",
   "execution_count": 31,
   "id": "9edde169",
   "metadata": {},
   "outputs": [],
   "source": [
    "p = p[0]\n",
    "q = q[0]\n",
    "assert p * q == n"
   ]
  },
  {
   "cell_type": "code",
   "execution_count": 32,
   "id": "f72f6d93",
   "metadata": {},
   "outputs": [
    {
     "data": {
      "text/plain": [
       "b'ASIS{N3s7Ed_DLP_089823341e928d6d87f0e442245d5a765833b575}'"
      ]
     },
     "execution_count": 32,
     "metadata": {},
     "output_type": "execute_result"
    }
   ],
   "source": [
    "d = pow(e, -1, (p-1)*(q-1))\n",
    "m = pow(c, d, n)\n",
    "long_to_bytes(m)"
   ]
  }
 ],
 "metadata": {
  "kernelspec": {
   "display_name": "SageMath 9.7",
   "language": "sage",
   "name": "sagemath"
  },
  "language_info": {
   "codemirror_mode": {
    "name": "ipython",
    "version": 3
   },
   "file_extension": ".py",
   "mimetype": "text/x-python",
   "name": "python",
   "nbconvert_exporter": "python",
   "pygments_lexer": "ipython3",
   "version": "3.10.8"
  }
 },
 "nbformat": 4,
 "nbformat_minor": 5
}
