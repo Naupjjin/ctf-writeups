{
 "cells": [
  {
   "cell_type": "markdown",
   "id": "89362873-ebab-4113-9679-e8573f18809b",
   "metadata": {},
   "source": [
    "# Crypto CTF 2024\n",
    "##  Alilbols | Medium | 80 pts\n",
    "\n",
    "Task description:\n",
    "\n",
    "```\n",
    "Alilbols, a modified version of the Alibos cryptographic algorithm, offers enhanced security features to protect sensitive and confidential data.\n",
    "```\n",
    "\n",
    "Attachments:\n",
    "\n",
    "```python\n",
    "#!/usr/bin/env python3\n",
    "\n",
    "from Crypto.Util.number import *\n",
    "from gmpy2 import *\n",
    "\n",
    "\n",
    "def genkey(d):\n",
    "    while True:\n",
    "        f = getRandomRange(1, int(sqrt(2) * 10**d))\n",
    "        g = getRandomRange(10**d, int(sqrt(2) * 10**d))\n",
    "        if gcd(f, 10 * g) == 1:\n",
    "            q = 4 * 100**d\n",
    "            h = inverse(f, q) * g % q\n",
    "            if gcd(h, 10 * d) == 1:\n",
    "                break\n",
    "    pkey, skey = (d, h), (f, g)\n",
    "    return pkey, skey\n",
    "\n",
    "\n",
    "def encrypt(m, pkey):\n",
    "    d, h = pkey\n",
    "    q = 4 * 100**d\n",
    "    assert m < 10**d\n",
    "    r = getRandomRange(1, 10**d // 2)\n",
    "    c = (r * h + m + r) % q\n",
    "    return c\n",
    "\n",
    "\n",
    "flag = b\"CCTF{aboba_aboba_aboba}\"\n",
    "d = 563\n",
    "pkey, privkey = genkey(d)\n",
    "m = bytes_to_long(flag)\n",
    "c = encrypt(m, pkey)\n",
    "\n",
    "print(f\"h = {pkey[1]}\")\n",
    "print(f\"c = {c}\")\n",
    "print(f\"{privkey=}\")\n",
    "````\n",
    "\n",
    "output.txt:"
   ]
  },
  {
   "cell_type": "code",
   "execution_count": 1,
   "id": "48462e47-7070-46e4-9ebe-cdebf246ac8c",
   "metadata": {},
   "outputs": [],
   "source": [
    "h = 1051643987107349427988807326909852110640860009433515828832892541964729933410444984350917250524103015414239941369074041041830326426044333499878031164851095096864048639115431370526747014210332286314344073411522846701723463410585601251886732229726828022089809603850477551571014006202841406236367999378786782206165205893353928598469661871284779486855440579818275314024966224282757807716013799903830828885606714972634243850947534165272668985513949964901606268939300116019465522042467054120201087606016018354238401711720121586874288767235317479748890350702705575809130664969776549574720593740409234863974057904204809404816059921579771581800937241591669455683460570640868196509926763901079838233646036933530095891316054589051458146768287967886035091641162494322987627448810201550901588438560433001422233269632915351406169253963308421081459981594969405377353502889363324282815864766827664453823780238352371809048289845094882346227809082005375092441877966603138648719670349093616548820955566204871333952902983753935678447080673827214244142614295192263451840766771122229866931492260663320087497820892824540996643905125018452302747847009\n",
    "c = 11913143174789215053772744981113562063689725867199301496294410323568897757042952642806438602327917861884988292757318755590132189620231444302311290566584065812614959093870787195145654508262419270742989923415342357807325941686508030706603920412262004324188375072184983301522882728578077572816154054220606088703932092256905881975876112779175003897105313776239681492514925430817300633974666123599685062340158348009344351002327049272743679109535286730751345284084148118733529966364414749672437370878526710641430471595906340522772252875146681541656231708112317601000655090279925720590940060372738708208419449824043905057860829031242339842131799965043031307394209699264362321397162645220002253271689678364848888381499587038475895945238726252440250183268252483198408039250213490525880829604473555612305513974817850974135874728084839426045420913060975464553734293001460752648937744531874552694145500413222582269910431269597066268600572899619407093373565994271589940926018891922169454906132284552523035481664164354874071831210264979733079749696197917769435226866441989054017071332158916586376454753209296136133271926449919437888563234409"
   ]
  },
  {
   "cell_type": "markdown",
   "id": "e8668946-ea2f-48b9-a38f-eca26a078915",
   "metadata": {},
   "source": [
    "This cryptosystem seems familiar, huh?\n",
    "\n",
    "Go check the most basic LLL example in [Introduction to Mathematical Cryptography](https://github.com/isislovecruft/library--/blob/master/cryptography%20%26%20mathematics/An%20Introduction%20to%20Mathematical%20Cryptography%20(2014)%20-%20Hoffstein%2C%20Pipher%2C%20Silverman.pdf) somewhere at 7.1\n",
    "\n",
    "So here we have a slightly  changed one. Well the only change is that now $c = (r * h + m + r) \\pmod{q}$ instad of just $c= (r * h + m) \\pmod{q}$.\n",
    "\n",
    "Drill is kind of the same: \n",
    "\n",
    "setup is the following:\n",
    "\n",
    "- choose $f \\in (1, \\sqrt{2} \\times 10^d)$, $g \\in (10^d, \\sqrt{2} \\times 10^d)$, $q = 4 \\times 10^{2 d}$\n",
    "- gcd($f, 10 * g$) here to check that f is invertible.(the only factors in q are 2 and 5 so here comes 10)\n",
    "- compute $h = \\frac{g}{f} \\pmod{q}$\n",
    "- gcd($h, 10*d$) here is to check that $g$ has no common factors with $q$. I don't know why $d$ is here. I used it to find this $d$ later. It's private here\n",
    "\n",
    "And we're done. `pkey` = $d, h$, well, d is not quite public but whatever\n",
    "`skey` = $f, g$\n",
    "\n",
    "Encryption is simple: $c = r * h + m + r \\pmod{q}$ where $r \\in (1, \\frac{1}{2} * 10^d$ some random nonce\n",
    "\n",
    "As for decryption:\n",
    "\n",
    "like in a basic variant we compute\n",
    "\n",
    "$a = c * f = (r * \\frac{g}{f} + m + r) * f = r * g  + m * f + r * f \\pmod{q} = r * g  + m * f + r * f$ over the integers\n",
    "\n",
    "Why? \n",
    "\n",
    "- $r * g \\le \\frac{1}{2} * 10^d * \\sqrt{2} * 10^d = \\frac{\\sqrt{2}}{2} * 10^{2 * d}$\n",
    "- $m * f \\le 10^d * \\sqrt{2} * 10^d = \\sqrt{2} * 10^{2 * d}$\n",
    "- $r * f \\le \\frac{\\sqrt{2}}{2} * 10^{2 * d}$\n",
    "\n",
    "Summing everything up: $2\\sqrt{2} 10^{2 * d} \\lt 4 * 10^{2 * d} = q$\n",
    "\n",
    "Then $b = a * f^{-1} \\pmod{g} = m + r \\pmod{g}$\n",
    "\n",
    "$c = a * g^{-1} \\pmod{f} = r \\pmod{f}$ \n",
    "\n",
    "We can't go to integers here, but their magnitudes are not as far, so we can check several multiples of $f$\n",
    "\n",
    "After that we can fully recover $m$."
   ]
  },
  {
   "cell_type": "code",
   "execution_count": 2,
   "id": "ee5dbf97-f71b-4cec-a019-bba3a8da651c",
   "metadata": {},
   "outputs": [
    {
     "data": {
      "text/plain": [
       "563"
      ]
     },
     "execution_count": 2,
     "metadata": {},
     "output_type": "execute_result"
    }
   ],
   "source": [
    "# let's find the lower bound on d\n",
    "def find():\n",
    "    t1 = max(h, c)\n",
    "    d = 1\n",
    "    while 4 * 10 ** (2 * d) < t1 or gcd(h, 10 * d) != 1:\n",
    "        d += 1\n",
    "    return d\n",
    "find()"
   ]
  },
  {
   "cell_type": "markdown",
   "id": "0537b969-5bcf-4f73-aebe-a899319a1075",
   "metadata": {},
   "source": [
    "The problem is exactly with the strict bounds on the parameters:\n",
    "\n",
    "We can construct a Lattice:\n",
    "\n",
    "\\begin{align*}\n",
    "L &= \\begin{pmatrix}\n",
    "1 & h \\\\\n",
    "0 & -q \\\\\n",
    "\\end{pmatrix}\n",
    "\\end{align*}\n",
    "\n",
    "\n",
    "And there's vector $\\vec{v} = (f, R)$: $\\vec{v} * L = (f, f * g - R * q) = (f, h)$ that is kind of small and inside $L$. <b>LLL<b>."
   ]
  },
  {
   "cell_type": "code",
   "execution_count": 8,
   "id": "c2dceb97-a4b4-4445-8d8f-8573774e5c2c",
   "metadata": {},
   "outputs": [],
   "source": [
    "from tqdm import tqdm"
   ]
  },
  {
   "cell_type": "code",
   "execution_count": 11,
   "id": "35f6d2bc-6fd3-4163-bf81-995c6f3835a9",
   "metadata": {},
   "outputs": [
    {
     "name": "stderr",
     "output_type": "stream",
     "text": [
      "  4%|█▌                                    | 21/500 [00:00<00:03, 151.04it/s]"
     ]
    },
    {
     "name": "stdout",
     "output_type": "stream",
     "text": [
      "b'\\x00\\x00\\x00\\x00\\x00\\x00\\x00\\x00\\x00CCTF{4_c0N9rU3n7!aL_Pu81iC_k3Y_cRyp70_5ySTeM_1N_CCTF!!}'\n"
     ]
    },
    {
     "name": "stderr",
     "output_type": "stream",
     "text": [
      "100%|████████████████████████████████████| 500/500 [00:00<00:00, 1039.20it/s]\n"
     ]
    }
   ],
   "source": [
    "d0 = 563\n",
    "for d in tqdm(range(d0, d0 + 500)):\n",
    "    try:\n",
    "        assert gcd(h, 10 * d) == 1\n",
    "\n",
    "        q = 4 * 10 ** (2 * d)\n",
    "        M = Matrix([[1, 0], [h, -q]]).T\n",
    "        T = M.LLL()\n",
    "\n",
    "        f1, g1 = T[0]\n",
    "        assert f1 * g1 > 0\n",
    "        \n",
    "        f1 = abs(f1)\n",
    "        g1 = abs(g1)\n",
    "\n",
    "        assert gcd(f1, 10 * g1) == 1\n",
    "        assert g1 < int(sqrt(2) * 10**d)\n",
    "        assert g1 > 10**d\n",
    "        assert f1 < int(sqrt(2) * 10**d)\n",
    "        assert (g1 * pow(f1, -1, q) % q) == h\n",
    "\n",
    "        a = ((c * f1) % q) * pow(f1, -1, g1) % g1\n",
    "        r1 = ((c * f1) % q) * pow(g1, -1, f1) % f1  # r mod (f1)\n",
    "\n",
    "        tmp = (10**d // 2 - r1) // f1\n",
    "        assert tmp >= 0\n",
    "\n",
    "        while r1 < 10**d // 2 and a - r1 > 0:\n",
    "            print((a - r1).to_bytes(64, \"big\"))\n",
    "            r1 += f1\n",
    "    except:\n",
    "        continue"
   ]
  }
 ],
 "metadata": {
  "kernelspec": {
   "display_name": "SageMath 10.3",
   "language": "sage",
   "name": "sagemath"
  },
  "language_info": {
   "codemirror_mode": {
    "name": "ipython",
    "version": 3
   },
   "file_extension": ".py",
   "mimetype": "text/x-python",
   "name": "python",
   "nbconvert_exporter": "python",
   "pygments_lexer": "ipython3",
   "version": "3.12.3"
  }
 },
 "nbformat": 4,
 "nbformat_minor": 5
}
