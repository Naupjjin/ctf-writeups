{
 "cells": [
  {
   "cell_type": "markdown",
   "id": "99fbc68b-b543-42b8-9aa8-579d9e0ec5f1",
   "metadata": {},
   "source": [
    "# Crypto CTF 2024\n",
    "##  Solmaz | Hard | 271 pts\n",
    "\n",
    "Task description:\n",
    "\n",
    "```\n",
    "Solmaz has developed a simple and visually appealing cryptosystem based on Elliptic Curve Cryptography, but its potential vulnerabilities require further investigation.\n",
    "```\n",
    "\n",
    "Attachments:\n",
    "\n",
    "```python\n",
    "#!/usr/bin/env sage\n",
    "\n",
    "from Crypto.Util.number import *\n",
    "from flag import flag\n",
    "\n",
    "def gen_param(nbit):\n",
    "\twhile True:\n",
    "\t\tt = prod([getPrime(nbit >> 3) for _ in range(4)])\n",
    "\t\tp = 4 * t ** 2 + 1\n",
    "\t\tif is_prime(p):\n",
    "\t\t\tc = randint(3, p - 3) ** 2 % p\n",
    "\t\t\tE = EllipticCurve(GF(p), [c, 0])\n",
    "\t\t\tif E.order() == p - 1:\n",
    "\t\t\t\treturn p, c\n",
    "\n",
    "def encrypt(m, x, p, c):\n",
    "\tE = EllipticCurve(GF(p), [c, 0])\n",
    "\twhile True:\n",
    "\t\ttry:\n",
    "\t\t\tP = E.lift_x(x)\n",
    "\t\t\tbreak\n",
    "\t\texcept:\n",
    "\t\t\tx += 1\n",
    "\tassert m < p - 1\n",
    "\tQ = m * P\n",
    "\treturn P, Q, m\n",
    "\n",
    "nbit, x = 256, 1337\n",
    "m = bytes_to_long(flag.lstrip(b'CCTF{').rstrip(b'}'))\n",
    "p, c = gen_param(nbit)\n",
    "P, Q, m = encrypt(m, x, p, c)\n",
    "\n",
    "print(f'P = {P.x(), P.y()}')\n",
    "print(f'Q = {Q.x(), Q.y()}')\n",
    "```\n",
    "\n",
    "`output.txt`:"
   ]
  },
  {
   "cell_type": "code",
   "execution_count": 2,
   "id": "ee42626b-8ba4-457b-87e3-34b4d6893a20",
   "metadata": {},
   "outputs": [],
   "source": [
    "x1, y1 = (1338, 9218578132576071095213927906233283616907115389852794510465118810355739314264)\n",
    "x2, y2 = (3454561753909947353764378180794889923919743476068813953002808647958908878895, 17267599534808803050751150297274989016063324917454246976792837120400888025519)"
   ]
  },
  {
   "cell_type": "markdown",
   "id": "44b26e07-4540-48d5-9be3-5b0aec87d3b8",
   "metadata": {},
   "source": [
    "## Solution\n",
    "\n",
    "We are given two points on an elliptic curve with unkown parameters. First we can find an integer that contains the prime modulus as a factor\n",
    "\n",
    "$y_p^2 = x_p^3 + c * x_p \\pmod{p}$\n",
    "\n",
    "$y_q^2 = x_q^3 + c * x_q \\pmod{p}$\n",
    "\n",
    "We need to eliminate the part that includes `c` so:\n",
    "\n",
    "$x_q * y_p^2 - x_p * y_q^2 = x_q * x_p^3 - x_p * x_q^3 \\pmod{p}$\n",
    "\n",
    "hence\n",
    "\n",
    "$p\\ |\\ (x_q * y_p^2 - x_p * y_q^2) - (x_q * x_p^3 - x_p * x_q^3)$"
   ]
  },
  {
   "cell_type": "code",
   "execution_count": 7,
   "id": "2d2f99f1-a476-4e80-b4ab-217cba225d2c",
   "metadata": {},
   "outputs": [
    {
     "name": "stdout",
     "output_type": "stream",
     "text": [
      "False\n"
     ]
    },
    {
     "data": {
      "text/plain": [
       "55454940004513276799611588380059302189664933020838413515384708243928267219228512844352832003082349090934777517286737687281070260517892560156083453894086877367076953177914949876201881341274104406095268673060476748059522884381040212"
      ]
     },
     "execution_count": 7,
     "metadata": {},
     "output_type": "execute_result"
    }
   ],
   "source": [
    "U = x2 * (y1**2 - x1**3) - x1 * (y2**2 - x2**3)\n",
    "print(is_prime(U))\n",
    "U"
   ]
  },
  {
   "cell_type": "markdown",
   "id": "03318f4c-7541-454e-9c66-31cf7cf813e0",
   "metadata": {},
   "source": [
    "Yeah, unfortunately it's not prime. Yafu\\factordb helped to find several small factors that we can exclude:"
   ]
  },
  {
   "cell_type": "code",
   "execution_count": 8,
   "id": "5baab62c-66fb-49aa-b9a8-4400d78d47d6",
   "metadata": {},
   "outputs": [],
   "source": [
    "U //= 2**2\n",
    "U //= 13\n",
    "U //= 577698866276004745805959"
   ]
  },
  {
   "cell_type": "markdown",
   "id": "7e4515b5-72da-4bbc-ae20-ce78d8bae06a",
   "metadata": {},
   "source": [
    "When I solved this, I used the fact that if we multiply a point of an elliptic curve over some ring with an curve order over some subfield then we'll catch a division by zero error(check Lenstra's ecc factorization).\n",
    "\n",
    "So I did exactly this. I initialized an elliptic curve over $U$ and multiplied $G_1$ with all the primes $\\in (2^31, 2^32)$. This primes were chosen because the order of the needed elliptic curve is $4 * (p_1 * p_2 * p_3 * p_4)^2$ where $p_i \\in (2^31, 2^32)$.\n",
    "\n",
    "With elliptic curve multiplications it took me\n",
    "\n",
    "```python\n",
    "c1 = (y1**2 - x1**3) * pow(x1, -1, U) % U\n",
    "c2 = (y2**2 - x2**3) * pow(x2, -1, U) % U\n",
    "assert c1 == c2\n",
    "\n",
    "e = EllipticCurve(Zmod(U), [c1, 0])\n",
    "\n",
    "G1 = e(x1, y1)\n",
    "\n",
    "G = G1 * 4\n",
    "\n",
    "pr = []\n",
    "beg = 2**31\n",
    "for _ in tqdm(range(100_000_000)):\n",
    "    pr.append(next_prime(beg))\n",
    "    beg = pr[-1]\n",
    "    if pr[-1] > 2**32:\n",
    "        break\n",
    "\n",
    "kr = []\n",
    "for k in tqdm(range(0, len(pr), 8)):\n",
    "    kr.append(prod(pr[k:k+8]))\n",
    "\n",
    "for p_ in tqdm(kr):\n",
    "    G *= p_\n",
    "```\n",
    "\n",
    "And it took me... \n",
    "\n",
    "\n",
    "```\n",
    "  9  83%|██████████████████████████████████████████████████▎           | 10242396/12272833 [2:15:32<26:52, 1259.40it/s]\n",
    " 10 Traceback (most recent call last):\n",
    " 11   File \"/usr/lib/python3.12/site-packages/sage/schemes/elliptic_curves/ell_point.py\", line 3848, in _acted_upon_\n",
    " 12     pariQ = pari.ellmul(E, self, k)\n",
    " 13             ^^^^^^^^^^^^^^^^^^^^^^^\n",
    " 14   File \"cypari2/auto_instance.pxi\", line 9431, in cypari2.pari_instance.Pari_auto.ellmul\n",
    " 15   File \"cypari2/handle_error.pyx\", line 211, in cypari2.handle_error._pari_err_handle\n",
    " 16 cypari2.handle_error.PariError: impossible inverse in Fp_inv: Mod(30126567747372029007183424263223733382328264316268541293679065617875255137317, 1846015660040154116831    10167793573170730358331966325652094619483244305984538326596760638244317643986713535120290458840703944328368008698135042933291463663532512101608180908591060002406846141    3790906246868559)\n",
    "```\n",
    "\n",
    "However after the CTF was ended I rememebered that this is exactly Pollard p-1 factorization here. And it's obviously faster. By a lot."
   ]
  },
  {
   "cell_type": "code",
   "execution_count": null,
   "id": "8755c43b-67cf-451f-a511-b9e8963c3598",
   "metadata": {},
   "outputs": [],
   "source": [
    "pr = []\n",
    "beg = 2**31\n",
    "for _ in tqdm(range(100_000_000)):\n",
    "    pr.append(next_prime(beg))\n",
    "    beg = pr[-1]\n",
    "    if pr[-1] > 2**32:\n",
    "        break\n",
    "\n",
    "kr = []\n",
    "for k in tqdm(range(0, len(pr), 8)):\n",
    "    kr.append(prod(pr[k:k+8]))\n",
    "\n",
    "g = 2**4\n",
    "for p_ in tqdm(kr):\n",
    "    g = pow(g, p_**2, U)\n",
    "    if gcd(g - 1, U) != 1:\n",
    "        print(gcd(g-1, U))"
   ]
  },
  {
   "cell_type": "markdown",
   "id": "fc8a58f4-912a-49a7-9aa2-0563195df67a",
   "metadata": {},
   "source": [
    "```\n",
    " 98%|████████████████████████████████████████████████████████████▋ | 12019927/12272833 [13:10<00:16, 15210.37it/s]\n",
    "```\n",
    "\n",
    "Saved some time, huh?"
   ]
  },
  {
   "cell_type": "code",
   "execution_count": 10,
   "id": "b4359129-0603-4cce-9466-36eb2749a4ab",
   "metadata": {},
   "outputs": [
    {
     "data": {
      "text/plain": [
       "2^2 * 2281190309^2 * 2629661191^2 * 3416861837^2 * 4234051141^2"
      ]
     },
     "execution_count": 10,
     "metadata": {},
     "output_type": "execute_result"
    }
   ],
   "source": [
    "p = 30126567747372029007183424263223733382328264316268541293679065617875255137317\n",
    "factor(p - 1)"
   ]
  },
  {
   "cell_type": "code",
   "execution_count": 12,
   "id": "33d421ac-300b-4784-80b1-1d5dd9c1f524",
   "metadata": {},
   "outputs": [
    {
     "data": {
      "text/plain": [
       "68306031653152687384080876677059655513"
      ]
     },
     "execution_count": 12,
     "metadata": {},
     "output_type": "execute_result"
    }
   ],
   "source": [
    "c = (y1**2 - x1**3) * pow(x1, -1, p) % p # recover c\n",
    "\n",
    "e = EllipticCurve(GF(p), [c, 0])\n",
    "\n",
    "G1 = e((x1, y1))\n",
    "G2 = e((x2, y2))\n",
    "\n",
    "discrete_log(G2, G1, operation=\"+\") # DLP is easy here. Check out Pohlig-Hellman"
   ]
  },
  {
   "cell_type": "code",
   "execution_count": 14,
   "id": "05ff7d94-ffd3-488f-91bb-637bbea664ba",
   "metadata": {},
   "outputs": [
    {
     "data": {
      "text/plain": [
       "b'3cC_d1ViSibil!7Y'"
      ]
     },
     "execution_count": 14,
     "metadata": {},
     "output_type": "execute_result"
    }
   ],
   "source": [
    "(68306031653152687384080876677059655513).to_bytes(16, 'big')"
   ]
  }
 ],
 "metadata": {
  "kernelspec": {
   "display_name": "SageMath 10.3",
   "language": "sage",
   "name": "sagemath"
  },
  "language_info": {
   "codemirror_mode": {
    "name": "ipython",
    "version": 3
   },
   "file_extension": ".py",
   "mimetype": "text/x-python",
   "name": "python",
   "nbconvert_exporter": "python",
   "pygments_lexer": "ipython3",
   "version": "3.12.3"
  }
 },
 "nbformat": 4,
 "nbformat_minor": 5
}
