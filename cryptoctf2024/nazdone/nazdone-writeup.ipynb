{
 "cells": [
  {
   "cell_type": "markdown",
   "id": "80b8aa6a-8c59-4e0a-9050-6fe971500f7e",
   "metadata": {},
   "source": [
    "# Crypto CTF 2024\n",
    "##  Nazdone | Medium | 122 pts\n",
    "\n",
    "Task description:\n",
    "\n",
    "```\n",
    "Nazdone is a cryptographic exercise focused on the practical challenges of generating random prime numbers for real-world applications.\n",
    "```\n",
    "\n",
    "Attachments:\n",
    "\n",
    "```python\n",
    "#!/usr/bin/env python3\n",
    "\n",
    "from Crypto.Util.number import *\n",
    "from random import *\n",
    "from secret import params, flag\n",
    "\n",
    "def sol(m, a, z):\n",
    "\tp = m * (a - 1) % 2 + 1\n",
    "\twhile True:\n",
    "\t\tR = list(range(1, a))\n",
    "\t\tshuffle(R)\n",
    "\t\tfor r in R[:z]:\n",
    "\t\t\tp += getRandomRange(0, 2) * m ** r\n",
    "\t\tif isPrime(p):\n",
    "\t\t\treturn p\n",
    "\t\telse:\n",
    "\t\t\tp = m * (a - 1) % 2 + 1\n",
    "\n",
    "\n",
    "p, q, r = [sol(*params) for _ in '007']\n",
    "n = p * q * r\n",
    "m = bytes_to_long(flag)\n",
    "c = pow(m, params[0] ** 3 + params[2] - 2, n)\n",
    "print(f'n = {n}')\n",
    "print(f'c = {c}')\n",
    "```\n",
    "\n",
    "`output.txt`:"
   ]
  },
  {
   "cell_type": "code",
   "execution_count": 1,
   "id": "5c793a38-4553-4d3e-bb72-88546ce38df3",
   "metadata": {},
   "outputs": [],
   "source": [
    "n = 301929748923678449872944933611657670834216889867340028357609265175830693931365828840717548752313862343315133541384709574659039910206634528428504034051556622114290811586746168354731258756502196637977942743110508997919976400864419640496894428180120687863921269087080600917900477624095004141559042793509244689248253036809126205146653922738685595903222471152317095497914809983689734189245440774658145462867680027337\n",
    "c = 104375152140523502741159687674899095271676058870899569351687154311685938980840028326701029233383897490722759532494438442871187152038720886122756131781086198384270569105043114469786514257765392820254951665751573388426239366215033932234329514161827069071792449190823827669673064646681779764841034307000600929149689291216313319444583032339045277433847691961234044840927155960887984372868669401051358701522484473320"
   ]
  },
  {
   "cell_type": "markdown",
   "id": "99043a14-4347-4e5f-bbca-3efc5a1c0356",
   "metadata": {},
   "source": [
    "## Solution\n",
    "\n",
    "Here we have three prime numbers, that are of the form $p = \\displaystyle\\sum_{i=0}^z \\alpha_i * m^i$, where $\\alpha_i \\in (0, 1)$\n",
    "\n",
    "This helps. When we do the product of these `polynomials`, since the coefficient are `0-1` the coefficients do not contribute to the power shift. They are kind of small. That's why we can factor the `polynomial` instead of the number.\n",
    "\n",
    "But first we should find the base. I tried to come up with the conditions for the base, but the simplest one is to straight check that the polynomial is factorizable"
   ]
  },
  {
   "cell_type": "code",
   "execution_count": 3,
   "id": "80283860-8f97-4702-93f7-fe77b3f688b0",
   "metadata": {},
   "outputs": [],
   "source": [
    "def rebase(n, b):\n",
    "    if n < b:\n",
    "        return [n]\n",
    "    else:\n",
    "        return [n % b] + rebase(n//b, b)"
   ]
  },
  {
   "cell_type": "code",
   "execution_count": 5,
   "id": "013887c2-2d2c-4404-b918-5b48094595ce",
   "metadata": {},
   "outputs": [
    {
     "name": "stdout",
     "output_type": "stream",
     "text": [
      "19 (x^106 + x^81 + x^77 + x^59 + x^47 + x^42 + x^22 + x^11 + x^7 + 2) * (x^107 + x^88 + x^51 + x^43 + x^37 + x^36 + x^35 + x^18 + x^14 + 2) * (x^108 + x^93 + x^74 + x^64 + x^31 + 2)\n"
     ]
    }
   ],
   "source": [
    "x = var('x')\n",
    "P = PolynomialRing(ZZ, x)\n",
    "for m in range(3, 200):\n",
    "     tmp = rebase(n, m)\n",
    "     k1 = factor(P(tmp))\n",
    "     if len(k1) >= 3:\n",
    "         print(m, k1)"
   ]
  },
  {
   "cell_type": "code",
   "execution_count": 15,
   "id": "609dcd6c-1490-4d75-bb14-8111f04590de",
   "metadata": {},
   "outputs": [],
   "source": [
    "t1, t2, t3 = [x[0] for x in factor(P(rebase(n, 19)))]\n",
    "p, q, r = t1(x=19), t2(x=19), t3(x=19)\n",
    "assert p * q * r == n"
   ]
  },
  {
   "cell_type": "markdown",
   "id": "d0ce002b-b5fa-4692-9c29-652534846131",
   "metadata": {},
   "source": [
    "We still don't know `z` but we know it's lower bound which is the maximum of the number of monomials in `t's`"
   ]
  },
  {
   "cell_type": "code",
   "execution_count": 16,
   "id": "cc5c09bb-0844-4fec-a29b-c50c32ced1ae",
   "metadata": {},
   "outputs": [
    {
     "data": {
      "text/plain": [
       "(10, 10, 6)"
      ]
     },
     "execution_count": 16,
     "metadata": {},
     "output_type": "execute_result"
    }
   ],
   "source": [
    "(len(t1.coefficients()), len(t2.coefficients()), len(t3.coefficients()))"
   ]
  },
  {
   "cell_type": "code",
   "execution_count": 22,
   "id": "513f5980-9bda-48e1-b7bb-9e65a77746b2",
   "metadata": {},
   "outputs": [
    {
     "name": "stdout",
     "output_type": "stream",
     "text": [
      "Inverse does not exist.\n",
      "Inverse does not exist.\n",
      "int too big to convert\n",
      "Inverse does not exist.\n",
      "b'\\x00\\x00\\x00\\x00\\x00\\x00\\x00CCTF{nUmb3r5_1N_D!fFerEn7_8As35_4r3_n!cE!?}'\n",
      "Inverse does not exist.\n",
      "Inverse does not exist.\n",
      "Inverse does not exist.\n",
      "Inverse does not exist.\n",
      "Inverse does not exist.\n"
     ]
    }
   ],
   "source": [
    "for z in range(10, 20):\n",
    "    tmp_pow = 19**3 + z - 2\n",
    "    try:\n",
    "        p1 = pow(tmp_pow, -1, p - 1)\n",
    "        p2 = pow(tmp_pow, -1, q - 1)\n",
    "        p3 = pow(tmp_pow, -1, r - 1)\n",
    "\n",
    "        m1 = pow(c, p1, p)\n",
    "        m2 = pow(c, p2, q)\n",
    "        m3 = pow(c, p3, r)\n",
    "        res = crt([m1, m2, m3], [p, q, r])\n",
    "        print(int(res).to_bytes(50, 'big'))\n",
    "    except Exception as e:\n",
    "        print(e)\n",
    "        continue"
   ]
  }
 ],
 "metadata": {
  "kernelspec": {
   "display_name": "SageMath 10.3",
   "language": "sage",
   "name": "sagemath"
  },
  "language_info": {
   "codemirror_mode": {
    "name": "ipython",
    "version": 3
   },
   "file_extension": ".py",
   "mimetype": "text/x-python",
   "name": "python",
   "nbconvert_exporter": "python",
   "pygments_lexer": "ipython3",
   "version": "3.12.3"
  }
 },
 "nbformat": 4,
 "nbformat_minor": 5
}
