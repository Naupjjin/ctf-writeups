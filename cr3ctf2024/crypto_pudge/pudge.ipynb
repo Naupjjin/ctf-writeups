{
 "cells": [
  {
   "cell_type": "markdown",
   "id": "054af7a6-6564-4149-983e-2c4e7b65bdc2",
   "metadata": {},
   "source": [
    "# cr3 CTF 2024\n",
    "##   pudge  | 317 pts\n",
    "\n",
    "Task description:\n",
    "\n",
    "\n",
    "![](./pUdge.png)\n",
    "\n",
    "```\n",
    "author: kibastian\n",
    "```\n",
    "\n",
    "Attachments:"
   ]
  },
  {
   "cell_type": "code",
   "execution_count": null,
   "id": "fc8e62ff-c654-4cd1-a0ea-d0714da1640f",
   "metadata": {},
   "outputs": [],
   "source": [
    "from sage.all import *\n",
    "from Crypto.Util.number import bytes_to_long\n",
    "\n",
    "FLAG = f'cr3{{{\"_\"*34}}}'.encode()\n",
    "assert len(FLAG) == 39\n",
    "\n",
    "flag = bytes_to_long(FLAG)\n",
    "\n",
    "# p = random_prime(2^64-1, True, 2^60)\n",
    "p = 14989068425250509519\n",
    "pudge = 488021842552697485963550845809830956869265678611663884519824835144279897263760519070556811395650\n",
    "\n",
    "# A = random_matrix(GF(p), 5,5)\n",
    "A = matrix(GF(p), [\n",
    "    [2316580867395718488, 48426743017495202, 10035688260900924039, 4231347989577694113, 10589292030513420982],\n",
    "    [13855044643446484404, 5232761037656480890, 8292975196384415335, 6347855203040361884, 1695816437660153737],\n",
    "    [13046242976127835996, 9475110516100642016, 4727306285316450578, 4641412090997841438, 12402034468342504110],\n",
    "    [2367861295557041099, 7972370016088296064, 2345756074442706631, 5466959662134124819, 7703316732710858490],\n",
    "    [3154951152478314029, 14631229995381692381, 8791489668576804292, 14058045966950055197, 6886936172143671821]\n",
    "])\n",
    "# A_1 = PUDGE?\n",
    "A_1 = matrix(GF(p), [\n",
    "    [10449681695550103501, 1032827731769907364, 8551846352768290089, 2528206462071885652, 4668517139358847432],\n",
    "    [8129949521585158431, 8663150094657298270, 13611618663064384279, 11990726265981907640, 8736574751606166199],\n",
    "    [13477489095760140976, 4129645872383074495, 802354481887101565, 5918883130626557767, 4293067273646165724],\n",
    "    [3218110987866379647, 13155490303126428937, 10511509599742650284, 10905345492015529131, 8890727867148431908],\n",
    "    [6267270344792504320, 1272127850159541188, 9155031196436204158, 13829185043890037978, 2887328975771996112]\n",
    "])\n",
    "\n",
    "\n",
    "def pUdge(s=1):\n",
    "    a_1 = A\n",
    "    if s == 1:\n",
    "        return a_1\n",
    "    a_2 = A_1\n",
    "    if s == 2:\n",
    "        return a_2\n",
    "    s -= 2\n",
    "    while True:\n",
    "        a_n = a_2 * a_1\n",
    "        a_1, a_2 = a_2, a_n\n",
    "        if s == 1:\n",
    "            return a_n\n",
    "        s -= 1\n",
    "\n",
    "\n",
    "assert pUdge(2 ** 322 - 228) == A ** (flag + pudge)"
   ]
  },
  {
   "cell_type": "markdown",
   "id": "97cbb554-b4c5-46b1-9059-228b974319e8",
   "metadata": {},
   "source": [
    "## Solution\n",
    "\n",
    "Here we have a recursive sequence. \n",
    "First thought should be to check whether these matrices commute. They are. But it was not my first thought.\n",
    "\n",
    "Let's take a look at first several elements of this sequence:\n",
    "\n",
    "$a_3 = a * a_1$\n",
    "\n",
    "$a_4 = a * a_1 * a_1 = a * a_1^2$\n",
    "\n",
    "$a_5 = (a * a_1^2) * (a * a_1) = a^2 * a_1^3$\n",
    "\n",
    "$a_6 = (a^2 * a_1^3) * (a * a_1^2) = a^3 * a_1^5$\n",
    "\n",
    "Yeah, we can see our boi Fibonacci.\n",
    "\n",
    "So $pUdge(m) = A^{fib_{m-2}} * A_1^{fib_{m-1}}$, keeping in mind that the seed is 0, 1"
   ]
  },
  {
   "cell_type": "code",
   "execution_count": 2,
   "id": "a4e84fe8-73e2-40fe-9c66-1d882865f494",
   "metadata": {},
   "outputs": [
    {
     "data": {
      "text/plain": [
       "True"
      ]
     },
     "execution_count": 2,
     "metadata": {},
     "output_type": "execute_result"
    }
   ],
   "source": [
    "p = 14989068425250509519\n",
    "pudge = 488021842552697485963550845809830956869265678611663884519824835144279897263760519070556811395650\n",
    "\n",
    "A = Matrix(GF(p), [\n",
    "    [2316580867395718488, 48426743017495202, 10035688260900924039, 4231347989577694113, 10589292030513420982],\n",
    "    [13855044643446484404, 5232761037656480890, 8292975196384415335, 6347855203040361884, 1695816437660153737],\n",
    "    [13046242976127835996, 9475110516100642016, 4727306285316450578, 4641412090997841438, 12402034468342504110],\n",
    "    [2367861295557041099, 7972370016088296064, 2345756074442706631, 5466959662134124819, 7703316732710858490],\n",
    "    [3154951152478314029, 14631229995381692381, 8791489668576804292, 14058045966950055197, 6886936172143671821]\n",
    "])\n",
    "# A_1 = PUDGE?\n",
    "A_1 = Matrix(GF(p), [\n",
    "    [10449681695550103501, 1032827731769907364, 8551846352768290089, 2528206462071885652, 4668517139358847432],\n",
    "    [8129949521585158431, 8663150094657298270, 13611618663064384279, 11990726265981907640, 8736574751606166199],\n",
    "    [13477489095760140976, 4129645872383074495, 802354481887101565, 5918883130626557767, 4293067273646165724],\n",
    "    [3218110987866379647, 13155490303126428937, 10511509599742650284, 10905345492015529131, 8890727867148431908],\n",
    "    [6267270344792504320, 1272127850159541188, 9155031196436204158, 13829185043890037978, 2887328975771996112]\n",
    "])\n",
    "\n",
    "A * A_1 == A_1 * A"
   ]
  },
  {
   "cell_type": "markdown",
   "id": "6acd7f9b-7e2d-48f9-a6cd-66be2321e78c",
   "metadata": {},
   "source": [
    "Well, they commute. So they are probably in the same mutltiplicative subgroup.\n",
    "\n",
    "Let's try to solve dlp..."
   ]
  },
  {
   "cell_type": "code",
   "execution_count": 4,
   "id": "37343830-c1ab-4a78-93d6-8c093f84d6f1",
   "metadata": {},
   "outputs": [
    {
     "data": {
      "text/plain": [
       "3"
      ]
     },
     "execution_count": 4,
     "metadata": {},
     "output_type": "execute_result"
    }
   ],
   "source": [
    "G1 = GL(5, GF(p))\n",
    "discrete_log(G1(A_1), G1(A))"
   ]
  },
  {
   "cell_type": "markdown",
   "id": "62c197c2-79e9-483e-9c83-4e259b930707",
   "metadata": {},
   "source": [
    "Cool. So $pUdge(m) = A^{fib_{m - 2} + 3 * fib_{m-1}}$"
   ]
  },
  {
   "cell_type": "code",
   "execution_count": 5,
   "id": "f062c46e-75f3-4ec2-938d-92698981dd8d",
   "metadata": {},
   "outputs": [
    {
     "data": {
      "text/plain": [
       "756611975305664976948701508934220455553386636654110694421436693429248935533058528391714742723598"
      ]
     },
     "execution_count": 5,
     "metadata": {},
     "output_type": "execute_result"
    }
   ],
   "source": [
    "order = G1(A).order()\n",
    "order"
   ]
  },
  {
   "cell_type": "markdown",
   "id": "6718accf-f4f2-47f0-a8bf-78132c8e94be",
   "metadata": {},
   "source": [
    "Sage factor was running for more than 5 seconds so I called for ma friend yafu. Factorization was done in less than a second:\n",
    "\n",
    "```\n",
    "P1 = 2\n",
    "P2 = 41\n",
    "P3 = 181\n",
    "P3 = 281\n",
    "P4 = 1021\n",
    "P9 = 252802471\n",
    "P16 = 7340386104432179\n",
    "P16 = 7160174515257691\n",
    "P25 = 2533264055405865190411771\n",
    "P22 = 5278912143021689094931\n",
    "```"
   ]
  },
  {
   "cell_type": "code",
   "execution_count": 6,
   "id": "3da239b8-fe61-4b02-9450-92950453be55",
   "metadata": {},
   "outputs": [],
   "source": [
    "orders = [\n",
    "    2,\n",
    "    41,\n",
    "    181,\n",
    "    281,\n",
    "    1021,\n",
    "    252802471,\n",
    "    7160174515257691,\n",
    "    7340386104432179,\n",
    "    2533264055405865190411771,\n",
    "    5278912143021689094931,\n",
    "]\n",
    "orders = sorted(orders)\n",
    "assert prod(orders) == order"
   ]
  },
  {
   "cell_type": "markdown",
   "id": "a4f38a50-1f81-4d45-a3e3-12f88cf22baf",
   "metadata": {},
   "source": [
    "We need this factorization to perform fast fibonacci calculation in prime order groups.\n",
    "\n",
    "### Fibonacci basics.\n",
    "\n",
    "Using some generating sequence theory or just checking out wiki we have:\n",
    "\n",
    "$fib(n) = \\frac{\\phi^n - \\psi^n}{\\sqrt{5}}$, $\\phi = \\frac{1 + \\sqrt(5)}{2}$, $\\psi = -\\phi^{-1}$\n",
    "\n",
    "Very conviniently $\\sqrt{5}$ exists modulo all the prime factors of the order:"
   ]
  },
  {
   "cell_type": "code",
   "execution_count": 7,
   "id": "03320b44-898b-4e1c-a7a4-4c2e26cc92aa",
   "metadata": {},
   "outputs": [],
   "source": [
    "assert all(GF(p)(5).is_square() for p in orders)"
   ]
  },
  {
   "cell_type": "code",
   "execution_count": 8,
   "id": "a307b8d1-4e9a-435b-8eac-c7515a958153",
   "metadata": {},
   "outputs": [],
   "source": [
    "def pUdge_power(n, p):\n",
    "    G = GF(p)\n",
    "    sq = G(5).sqrt()\n",
    "    phi = (1 + sq) / 2\n",
    "    psi = (1 - sq) / 2\n",
    "    \n",
    "    n = (n - 2) % (p -1)\n",
    "    res1 = (pow(phi, n) - pow(psi, n)) / sq\n",
    "    n += 1\n",
    "    \n",
    "    res2 = (pow(phi, n) - pow(psi, n)) / sq\n",
    "\n",
    "    alpha = res1 + 3 * res2\n",
    "    return alpha"
   ]
  },
  {
   "cell_type": "markdown",
   "id": "36ab3673-356c-4ec0-81e8-4a90e45554d8",
   "metadata": {},
   "source": [
    "After all that we can CRT the results to obtain $pUdge power(n) \\pmod{order}$\n",
    "\n",
    "Also note that 2 is not invertible mod 2, but $m = 2^{322} - 228 = 1 \\pmod{3}$ which sequence order $\\pmod{2}$"
   ]
  },
  {
   "cell_type": "code",
   "execution_count": 10,
   "id": "e8b9eea6-670e-46fe-b039-bb72b1c29bd2",
   "metadata": {},
   "outputs": [
    {
     "name": "stdout",
     "output_type": "stream",
     "text": [
      "b'\\x00\\x00\\x00\\x00\\x00\\x00\\x00\\x00\\x00\\x00\\x00cr3{1_luv_PUDGE_g0D_I_w1Sh_1_w45_puDG3}'\n"
     ]
    }
   ],
   "source": [
    "m = 2**322 - 228\n",
    "fibs = [1] + [int(pUdge_power(m, p)) for p in orders[1:]]\n",
    "res = crt(fibs, orders) - pudge\n",
    "print(int(res).to_bytes(50, 'big'))"
   ]
  }
 ],
 "metadata": {
  "kernelspec": {
   "display_name": "SageMath 10.3",
   "language": "sage",
   "name": "sagemath"
  },
  "language_info": {
   "codemirror_mode": {
    "name": "ipython",
    "version": 3
   },
   "file_extension": ".py",
   "mimetype": "text/x-python",
   "name": "python",
   "nbconvert_exporter": "python",
   "pygments_lexer": "ipython3",
   "version": "3.11.8"
  }
 },
 "nbformat": 4,
 "nbformat_minor": 5
}
