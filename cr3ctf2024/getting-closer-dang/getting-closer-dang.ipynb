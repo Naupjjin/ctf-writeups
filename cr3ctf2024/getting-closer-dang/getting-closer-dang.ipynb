{
 "cells": [
  {
   "cell_type": "markdown",
   "id": "fa367e47-e524-4f68-9beb-5b43157f69fb",
   "metadata": {},
   "source": [
    "# cr3 CTF 2024\n",
    "## Getting-Closer-Dang | 58 pts\n",
    "\n",
    "Task description:\n",
    "\n",
    "```\n",
    "What is the correct one? Old but Gold, or Gold but Old?\n",
    "\n",
    "Author: r4sti\n",
    "```\n",
    "\n",
    "Attachments:"
   ]
  },
  {
   "cell_type": "code",
   "execution_count": null,
   "id": "af5d188e-56f1-4d75-9873-b97e8fd0dfc7",
   "metadata": {},
   "outputs": [],
   "source": [
    "import os, json, random, math\n",
    "from Crypto.Cipher import AES\n",
    "from Crypto.Util.Padding import pad\n",
    "from Crypto.Util.number import getPrime, GCD\n",
    "from hashlib import sha256\n",
    "from secret import FLAG\n",
    "\n",
    "def get_prod():\n",
    "    return math.prod([random.choice(pool) for _ in range(3)])\n",
    "\n",
    "FLAG = b'cr3{???????????????????????????????}'\n",
    "\n",
    "N = getPrime(512)\n",
    "\n",
    "pool = [getPrime(9) for _ in range(10)]\n",
    "a, b = [get_prod() for _ in range(2)]\n",
    "\n",
    "g = GCD(N**a - 1, N**b - 1) # pros of having a quantum computer ^-^\n",
    "\n",
    "key = sha256(str(g).encode()).digest()[:16]\n",
    "iv = os.urandom(16)\n",
    "cipher = AES.new(key, AES.MODE_CBC, iv)\n",
    "ct = cipher.encrypt(pad(FLAG, 16))\n",
    "out = {'iv': iv.hex(), 'ct': ct.hex()}\n",
    "\n",
    "with open('output.txt', 'w') as f:\n",
    "    f.write(f'{N = }\\n')\n",
    "    f.write(f'{out = }')"
   ]
  },
  {
   "cell_type": "markdown",
   "id": "6faa2d9b-9eb6-47d4-8166-37b8595a6f32",
   "metadata": {},
   "source": [
    "## output"
   ]
  },
  {
   "cell_type": "code",
   "execution_count": 2,
   "id": "7774d4dd-7db8-4f03-984c-d883480b3c0e",
   "metadata": {},
   "outputs": [],
   "source": [
    "N = 13185232652915309492470700885494158416479364343127310426787872363041960044885500175769971795951432028221543122753022991035176378747918784016983155565886369\n",
    "out = {\n",
    "    \"iv\": \"6f69ac380715dbf9b00ef32ca8c204bb\",\n",
    "    \"ct\": \"e654237a76d61d3bf97b315af1c2a517797b34b8eca270dbc8132dda1f425065b7b84690d4c21cdaf2ab17c2876738ed\",\n",
    "}"
   ]
  },
  {
   "cell_type": "markdown",
   "id": "5aab901c-728e-4d80-b5bb-efbbf4cb0413",
   "metadata": {},
   "source": [
    "### Solution\n",
    "\n",
    "Here we have a gcd problem including huge numbers.\n",
    "\n",
    "Let's look into it a bit closer: $gcd(N^a - 1, N^b - 1)$. Due to the propety of gcd we have $gcd(N^a - 1, N^b - 1) = gcd(N^a - 1, N^a - 1 - (N^b - 1))$(let's suppose that $a \\ge b$ for simplicity).\n",
    "\n",
    "$gcd(N^a - 1, N^a - N^b) = gcd(N^a - 1, N^b(N^{a - b} - 1)) = gcd(N^a - 1, N^{a - b} - 1)$ We can exclude $N^{b}$ since it has no common factors with $N^a - 1$, because $N$ is prime.\n",
    "\n",
    "There we can notice that gcd of two huge numbers becomes the gcd of the powers of two numbers, and once $a - b = 0$ we are done. \n",
    "\n",
    "So $gcd(N^a - 1, N^b - 1) = N^{gcd(a, b)} - 1$\n",
    "\n",
    "We know that both $a$ and $b$ are the products of three small primes and it's highly unlikely that they intersect in more than one prime, but we can check all the possible combinations though. There're not so much primes in [ $2^8, 2^9 - 1$ ] range."
   ]
  },
  {
   "cell_type": "code",
   "execution_count": 4,
   "id": "2932501c-2cbd-4ac5-91d2-7beb3fe67e7a",
   "metadata": {},
   "outputs": [],
   "source": [
    "from itertools import product, combinations\n",
    "from Crypto.Util.number import isPrime\n",
    "from Crypto.Cipher import AES\n",
    "from math import gcd, prod\n",
    "from hashlib import sha256\n",
    "from Crypto.Util.Padding import unpad\n",
    "from tqdm import tqdm\n",
    "import sys\n",
    "\n",
    "sys.set_int_max_str_digits(100000)"
   ]
  },
  {
   "cell_type": "code",
   "execution_count": 5,
   "id": "178050e3-90ac-408b-ad01-a8098b0b03fc",
   "metadata": {},
   "outputs": [],
   "source": [
    "def prime_range(n):\n",
    "    pr = []\n",
    "    for a in range(2 ** (n - 1), 2**n):\n",
    "        if isPrime(a):\n",
    "            pr.append(a)\n",
    "    return pr\n",
    "pr = prime_range(9)"
   ]
  },
  {
   "cell_type": "code",
   "execution_count": 6,
   "id": "a71fad6b-460e-4b84-bf5a-d5fe6f020584",
   "metadata": {},
   "outputs": [],
   "source": [
    "res_range = (\n",
    "    list(combinations(pr, r=1))\n",
    "    + list(combinations(pr, r=2))\n",
    "    + list(combinations(pr, r=3))\n",
    ") # getting all the possible gcd's of powers"
   ]
  },
  {
   "cell_type": "code",
   "execution_count": 7,
   "id": "6b1e33fb-09bb-4d21-a0be-06c5456f8a2b",
   "metadata": {},
   "outputs": [
    {
     "name": "stderr",
     "output_type": "stream",
     "text": [
      "  0%|▍                                                                                                                                                                                                       | 30/13287 [00:01<08:35, 25.71it/s]"
     ]
    },
    {
     "name": "stdout",
     "output_type": "stream",
     "text": [
      "b'cr3{___GCD_tr1cks_n3v3r_g3t_0ld___!}'\n"
     ]
    },
    {
     "name": "stderr",
     "output_type": "stream",
     "text": [
      "\n"
     ]
    }
   ],
   "source": [
    "for t in tqdm(res_range):\n",
    "    power = prod(t)\n",
    "    g = pow(N, power) - 1\n",
    "    key = sha256(str(g).encode()).digest()[:16]\n",
    "    iv = bytes.fromhex(out[\"iv\"])\n",
    "    cipher = AES.new(key, AES.MODE_CBC, iv)\n",
    "    ct = cipher.decrypt(bytes.fromhex(out[\"ct\"]))\n",
    "    try:\n",
    "        pt = unpad(ct, 16)\n",
    "        print(pt)\n",
    "        break\n",
    "    except:\n",
    "        continue"
   ]
  }
 ],
 "metadata": {
  "kernelspec": {
   "display_name": "Python 3 (ipykernel)",
   "language": "python",
   "name": "python3"
  },
  "language_info": {
   "codemirror_mode": {
    "name": "ipython",
    "version": 3
   },
   "file_extension": ".py",
   "mimetype": "text/x-python",
   "name": "python",
   "nbconvert_exporter": "python",
   "pygments_lexer": "ipython3",
   "version": "3.11.8"
  }
 },
 "nbformat": 4,
 "nbformat_minor": 5
}
