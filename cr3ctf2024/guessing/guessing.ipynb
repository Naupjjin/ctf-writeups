{
 "cells": [
  {
   "cell_type": "markdown",
   "id": "6bb55846-0800-41f0-840c-493e23594c36",
   "metadata": {},
   "source": [
    "# cr3 CTF 2024\n",
    "##  guessing | 286 pts\n",
    "\n",
    "Task description:\n",
    "\n",
    "```\n",
    "You send a matrix, then you get a new one. As simple as that.\n",
    "\n",
    "$ nc 1337.sb 20000\n",
    "```\n",
    "\n",
    "Attachments: [main.sage](./main.sage)\n",
    "\n",
    "The most interesting part is this function:"
   ]
  },
  {
   "cell_type": "code",
   "execution_count": 44,
   "id": "79ee5ef1-e362-4da1-9551-0f3f674e8c47",
   "metadata": {},
   "outputs": [],
   "source": [
    "def submit_b(B):\n",
    "    if not B.is_invertible():\n",
    "        return \"non invertible\"\n",
    "\n",
    "    n = B.nrows()\n",
    "    if n != FLAG_N:\n",
    "        return \"rows\"\n",
    "\n",
    "    diagonal_element = B[0, 0]\n",
    "\n",
    "    identity_multiple = Matrix(F, identity_matrix(n))\n",
    "    for i in range(n):\n",
    "        for j in range(n):\n",
    "            identity_multiple[i, j] = diagonal_element\n",
    "\n",
    "    if B == identity_multiple:\n",
    "        return \"identity_multiple\"\n",
    "\n",
    "    return B * A * (B ^ -1) * (A ^ -1) * FLAG\n",
    "\n",
    "print(\"aight, lets see what you got\")\n",
    "while True:\n",
    "    try:\n",
    "        matrix = deserialize_mtx(input())\n",
    "        res = submit_b(matrix)\n",
    "        if isinstance(res, str):\n",
    "            print(\"https://youtu.be/G7b4VMEATNo?t=18\")\n",
    "            break\n",
    "    except Exception as E:\n",
    "        print(E)\n",
    "        print(\"https://youtu.be/G7b4VMEATNo?t=19\")\n",
    "        break\n",
    "\n",
    "    print(serialize_mtx(res))"
   ]
  },
  {
   "cell_type": "markdown",
   "id": "a944abcf-d731-40a4-b65f-494581bc024d",
   "metadata": {},
   "source": [
    "## Solution\n",
    "\n",
    "Here we need to provide server with a matrix $B$ and somehow recover flag. There's a check for $B$ being scalar matrix, however this challenge had a bug, and you are able to send identity matrix, $A$ annihilate itself and we get the flag."
   ]
  },
  {
   "cell_type": "code",
   "execution_count": 45,
   "id": "d09f682e-3981-42fe-904c-adc18c1f6762",
   "metadata": {},
   "outputs": [],
   "source": [
    "p = (2 ** 31) - 1\n",
    "F = GF(p)\n",
    "FLAG_N = 55\n",
    "\n",
    "def serialize_mtx(mtx):\n",
    "    rows = []\n",
    "    for row in mtx.rows():\n",
    "        rows.append(','.join(str(elem) for elem in row))\n",
    "    return '[' + ';'.join(rows) + ']'\n",
    "\n",
    "\n",
    "def deserialize_mtx(mtx):\n",
    "    print(mtx)\n",
    "    rows = mtx.strip('[]\\n').split(';')\n",
    "    rows = [[int(num) for num in row.split(',')] for row in rows]\n",
    "    return Matrix(F, rows)"
   ]
  },
  {
   "cell_type": "code",
   "execution_count": 50,
   "id": "9a89f0ca-528c-43b4-b283-6cf37e8fbfd3",
   "metadata": {},
   "outputs": [
    {
     "name": "stdout",
     "output_type": "stream",
     "text": [
      "b'proof of work:\\n'\n",
      "b'curl -sSfL https://pwn.red/pow | sh -s s.AAATiA==.0FDexwacoWQpkRp9321qlA==\\n'\n"
     ]
    },
    {
     "name": "stdin",
     "output_type": "stream",
     "text": [
      " s.DPMAH595EdWby5rmB3PEisKgcRwTCVcat1sZZzZRSWzUvCkcaHl10855hVAJAZbnEXglsVai791V8j7WxaTwMkbHqK0YqBt/Hz7xa/hPk4ZHU6x+ahCGTXAxxvWdJlRPuytxUdDg3bsylTK5swi+vjYO0aMsAqD+97DUduqnktGQVz2MIAlqiZfxUQEXiFOPWS8gYomuxUEk5t8ZIyRysw==\n"
     ]
    },
    {
     "name": "stdout",
     "output_type": "stream",
     "text": [
      "b'solution: aight, lets see what you got\\n'\n",
      "[99;114;51;123;49;95;104;48;112;51;95;121;48;117;95;119;51;114;101;110;116;95;116;82;121;49;110;71;95;116;48;95;102;49;78;68;95;99;48;77;109;85;116;49;110;103;95;109;52;116;114;49;120;33;125]\n",
      "\n"
     ]
    },
    {
     "data": {
      "text/plain": [
       "b'cr3{1_h0p3_y0u_w3rent_tRy1nG_t0_f1ND_c0MmUt1ng_m4tr1x!}'"
      ]
     },
     "execution_count": 50,
     "metadata": {},
     "output_type": "execute_result"
    }
   ],
   "source": [
    "from pwn import remote, context\n",
    "context.log_level = \"error\"\n",
    "\n",
    "host, port = \"1337.sb\",  20000\n",
    "r = remote(host,port)\n",
    "\n",
    "# handle pow\n",
    "print(r.recvline()) \n",
    "print(r.recvline())\n",
    "r.sendline(input().encode())\n",
    "\n",
    "mtx = identity_matrix(FLAG_N)\n",
    "ser = serialize_mtx(mtx)\n",
    "\n",
    "print(r.recvline())\n",
    "r.sendline(ser.encode())\n",
    "res = r.recvline().decode()\n",
    "r.close()\n",
    "\n",
    "bytes(list(deserialize_mtx(res).T[0]))"
   ]
  }
 ],
 "metadata": {
  "kernelspec": {
   "display_name": "SageMath 10.3",
   "language": "sage",
   "name": "sagemath"
  },
  "language_info": {
   "codemirror_mode": {
    "name": "ipython",
    "version": 3
   },
   "file_extension": ".py",
   "mimetype": "text/x-python",
   "name": "python",
   "nbconvert_exporter": "python",
   "pygments_lexer": "ipython3",
   "version": "3.11.8"
  }
 },
 "nbformat": 4,
 "nbformat_minor": 5
}
