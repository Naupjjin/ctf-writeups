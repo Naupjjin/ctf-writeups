{
 "cells": [
  {
   "cell_type": "markdown",
   "id": "3c887988-3893-479a-8441-875b3a0f3d71",
   "metadata": {},
   "source": [
    "# cr3 CTF 2024\n",
    "##   embedding | 376 pts\n",
    "\n",
    "Task description:\n",
    "\n",
    "```\n",
    "This encoder seems strange, any idea how to break it?\n",
    "\n",
    "author: Onirique, Duha\n",
    "```\n",
    "\n",
    "Attachments:"
   ]
  },
  {
   "cell_type": "code",
   "execution_count": null,
   "id": "eae56cc1-88e2-4964-aff4-bc45047aa39c",
   "metadata": {},
   "outputs": [],
   "source": [
    "import numpy as np\n",
    "from numpy.polynomial import Polynomial\n",
    "\n",
    "class Encoder:\n",
    "  def __init__(self, deg: int):\n",
    "    self.zeta = np.exp(2 * np.pi * 1j / deg)\n",
    "    self.poly_degree = deg\n",
    "\n",
    "  def pi(self, z: np.array) -> np.array:\n",
    "    N = self.poly_degree // 16\n",
    "    return z[:N]\n",
    "\n",
    "  def encode(self, p: Polynomial) -> np.array:\n",
    "    z = self.sigma(p)\n",
    "    pi_z = self.pi(z)\n",
    "    return pi_z\n",
    "\n",
    "  def sigma(self, p: Polynomial) -> np.array:\n",
    "    N = self.poly_degree // 2\n",
    "    outputs = [p(self.zeta ** (2*i + 1)) for i in range(N)]\n",
    "    return np.array(outputs)\n",
    "\n",
    "flag = \"cr3{\" + \"f\" * 42 + \"}\"\n",
    "assert flag[:4]=='cr3{' and flag[-1] == '}'\n",
    "\n",
    "flag = flag[4:-1].encode()\n",
    "pt = list(flag)\n",
    "assert len(pt) == 42, len(pt)\n",
    "p = Polynomial(pt)\n",
    "\n",
    "encoder = Encoder(128)\n",
    "ct = encoder.encode(p)\n",
    "print(ct)\n",
    "from math import floor\n",
    "ct = [(floor(c.real * 10**8), floor(c.imag * 10**8)) for c in ct]\n",
    "print(f\"{ct = }\")\n",
    "\n",
    "# ct = array([1614.41597751+2440.04175266j, -239.31512831  +65.01569777j,\n",
    "#        -174.3244422  +623.0315122j ,  148.33319848 +107.54945904j,\n",
    "#         -80.39944861  -16.1430125j ,  106.05365816 +198.8020629j ,\n",
    "#         252.91493127  +79.94326544j, -102.92505223 +220.19525344j])"
   ]
  },
  {
   "cell_type": "code",
   "execution_count": 14,
   "id": "0a9f8adf-a134-4275-abe9-b6e5677e96a1",
   "metadata": {},
   "outputs": [],
   "source": [
    "ct = [\n",
    "    (1614.41597751, 2440.04175266),\n",
    "    (-239.31512831, 65.01569777),\n",
    "    (-174.3244422, 623.0315122),\n",
    "    (148.33319848, 107.54945904),\n",
    "    (-80.39944861, -16.1430125),\n",
    "    (106.05365816, 198.8020629),\n",
    "    (252.91493127, 79.94326544),\n",
    "    (-102.92505223, 220.19525344),\n",
    "]"
   ]
  },
  {
   "cell_type": "markdown",
   "id": "1bf9ad1d-ef4f-4e5b-b819-61fed96f2d9f",
   "metadata": {},
   "source": [
    "## Solution\n",
    "\n",
    "We have a 42 degree polynomial and it's 8 evaluations on unit circle.\n",
    "\n",
    "This is basic integer relation problem, but with several outputs(unlike the ordinary case where we have more precise single evaluation).\n",
    "\n",
    "Also, since we have 8 complex points, thus we have 16 independant relations. I guess that's enough to LLL everything up.\n",
    "\n",
    "let $\\zeta = e^{\\frac{2 * \\pi * I}{128}}$, $rz_i = Re(\\zeta^{2 * i + 1}), cz_i = Im(\\zeta^{2 * i + 1})$\n",
    "\n",
    "We have evaluations of polynomial $p$: $e_1 = p(\\zeta), e_2 = p(\\zeta^3), ..., e_8 = p(\\zeta^15)$\n",
    "\n",
    "\n",
    "We can construct a Lattice:\n",
    "\n",
    "\\begin{align*}\n",
    "L &= \\begin{pmatrix}\n",
    "sc & & & & Re(\\zeta^0) & Im(\\zeta^0) & Re(\\zeta^{3 * 0}) & Im(\\zeta^{3 * 0}) &... & Re(\\zeta^{15 * 0}) & Im(\\zeta^{15 * 0}) \\\\\n",
    "& sc & & & Re(\\zeta^1) & Im(\\zeta^1) & Re(\\zeta^{3 * 1}) & Im(\\zeta^{3 * 1}) &... & Re(\\zeta^{15 * 1}) & Im(\\zeta^{15 * 1}) \\\\\n",
    " & & \\ddots &  & & & \\vdots \\\\\n",
    "&  & & sc & Re(\\zeta^{41}) & Im(\\zeta^{41}) & Re(\\zeta^{3 * 41}) & Im(\\zeta^{3 * 41}) & ... & Re(\\zeta^{15 * 41}) & Im(\\zeta^{15 * 41}) \\\\\n",
    "-sc & -sc & \\cdots & -sc & -Re(e_1) & -Im(e_1) & -Re(e_2) & -Im(e_2) & \\cdots & -Re(e_8) & -Im(e_8)  \\\\\n",
    "\\end{pmatrix}, \\\\\n",
    "\\end{align*}\n",
    "\n",
    "\n",
    "And we know that $\\vec{p} = (f_0, f_1, f_2, ..., f_{41}, 1) \\times L = (sc * f_0 - sc, sc * f_1 - sc, ..., sc * f_41 - sc, \\alpha_1, \\alpha_2, ..., \\alpha_{16})$ is in $L$ and it's kind of small, depending on the sc value.\n",
    "\n",
    "After playing with scale values for a while I chose it to be 100 so the errors $\\alpha_i$ have the same magnitude.\n",
    "\n",
    "Also I had to normalize the values up to precision, aka $10^8$"
   ]
  },
  {
   "cell_type": "code",
   "execution_count": 15,
   "id": "a7432ea6-ce1b-4f10-8d27-4d90785ed83f",
   "metadata": {},
   "outputs": [],
   "source": [
    "ct = [(round(x * 10**8), round(y * 10**8)) for x, y in ct] # normalize"
   ]
  },
  {
   "cell_type": "code",
   "execution_count": 16,
   "id": "3d9f578a-aea5-43e4-bc5e-f9b00578fc14",
   "metadata": {},
   "outputs": [],
   "source": [
    "zeta = e ** (2 * pi * I / 128)\n",
    "zetas = [pow(zeta, 2 * i + 1) for i in range(8)] # get evalutation points\n",
    "\n",
    "scale = 100\n",
    "M = Matrix(42 + 1, 42 + 2 * len(ct))\n",
    "M.set_block(0, 0, identity_matrix(42) * scale)\n",
    "M.set_block(42, 0, Matrix([-scale] * 42))"
   ]
  },
  {
   "cell_type": "code",
   "execution_count": 17,
   "id": "741648da-065d-419c-ad0b-097142652c25",
   "metadata": {},
   "outputs": [],
   "source": [
    "for i in range(len(ct)):\n",
    "    c = zetas[i]\n",
    "    zetai = [\n",
    "        (floor((c**i).real() * 10**8), floor((c**i).imag() * 10**8)) for i in range(42)\n",
    "    ] # normalized powers of zeta_i\n",
    "\n",
    "    M.set_block(0, 42 + 2 * i, Matrix([x[0] for x in zetai]).T)\n",
    "    M.set_block(0, 43 + 2 * i, Matrix([x[1] for x in zetai]).T)\n",
    "    M[42, 42 + 2 * i] = -ct[i][0]\n",
    "    M[42, 43 + 2 * i] = -ct[i][1]"
   ]
  },
  {
   "cell_type": "code",
   "execution_count": 20,
   "id": "31f36b68-47cb-4385-9370-9ca8bb7ddeba",
   "metadata": {},
   "outputs": [
    {
     "name": "stdout",
     "output_type": "stream",
     "text": [
      "(76, 49, 108, 95, 49, 53, 95, 52, 108, 108, 95, 121, 48, 117, 95, 110, 51, 51, 100, 95, 116, 48, 95, 98, 114, 51, 52, 107, 95, 116, 104, 51, 95, 51, 110, 99, 48, 100, 51, 114, 33, 33, 1)\n"
     ]
    }
   ],
   "source": [
    "for l in M.LLL():\n",
    "    #print(l)\n",
    "    tmp = M.solve_left(l)\n",
    "    if all(x > 0 for x in tmp) or all(x < 0 for x in tmp):\n",
    "        print(tmp)"
   ]
  },
  {
   "cell_type": "code",
   "execution_count": 21,
   "id": "4a51b80d-7344-46d1-9d0c-e11e50cd9dd4",
   "metadata": {},
   "outputs": [
    {
     "data": {
      "text/plain": [
       "b'L1l_15_4ll_y0u_n33d_t0_br34k_th3_3nc0d3r!!'"
      ]
     },
     "execution_count": 21,
     "metadata": {},
     "output_type": "execute_result"
    }
   ],
   "source": [
    "bytes([76, 49, 108, 95, 49, 53, 95, 52, 108, 108, 95, 121, 48, 117, 95, 110, 51, 51, 100, 95, 116, 48, 95, 98, 114, 51, 52, 107, 95, 116, 104, 51, 95, 51, 110, 99, 48, 100, 51, 114, 33, 33])"
   ]
  }
 ],
 "metadata": {
  "kernelspec": {
   "display_name": "SageMath 10.3",
   "language": "sage",
   "name": "sagemath"
  },
  "language_info": {
   "codemirror_mode": {
    "name": "ipython",
    "version": 3
   },
   "file_extension": ".py",
   "mimetype": "text/x-python",
   "name": "python",
   "nbconvert_exporter": "python",
   "pygments_lexer": "ipython3",
   "version": "3.11.8"
  }
 },
 "nbformat": 4,
 "nbformat_minor": 5
}
