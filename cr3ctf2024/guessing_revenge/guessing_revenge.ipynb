{
 "cells": [
  {
   "cell_type": "markdown",
   "id": "6bb55846-0800-41f0-840c-493e23594c36",
   "metadata": {},
   "source": [
    "# cr3 CTF 2024\n",
    "##   guessing-revenge  | 417 pts\n",
    "\n",
    "Task description:\n",
    "\n",
    "```\n",
    "I am very disappointed, please try this one :sob:\n",
    "\n",
    "$ nc 1337.sb 20004\n",
    "\n",
    "Author: kibastian, es3n1n\n",
    "```\n",
    "\n",
    "Attachments: [main.sage](./main.sage)\n",
    "\n",
    "The most interesting part is this function:"
   ]
  },
  {
   "cell_type": "code",
   "execution_count": 44,
   "id": "79ee5ef1-e362-4da1-9551-0f3f674e8c47",
   "metadata": {},
   "outputs": [],
   "source": [
    "def submit_b(B):\n",
    "    if not B.is_invertible():\n",
    "        return \"non invertible\"\n",
    "\n",
    "    n = B.nrows()\n",
    "    if n != FLAG_N:\n",
    "        return \"rows\"\n",
    "\n",
    "    diagonal_element = B[0, 0]\n",
    "\n",
    "    identity_multiple = Matrix(F, identity_matrix(n))\n",
    "    for i in range(n):\n",
    "        identity_multiple[i, i] = diagonal_element\n",
    "\n",
    "    if B == identity_multiple:\n",
    "        return \"identity_multiple\"\n",
    "\n",
    "    return B * A * (B ^ -1) * (A ^ -1) * FLAG\n",
    "\n",
    "\n",
    "print(\"aight, lets see what you got\")\n",
    "while True:\n",
    "    try:\n",
    "        matrix = deserialize_mtx(input())\n",
    "        res = submit_b(matrix)\n",
    "        if isinstance(res, str):\n",
    "            print(\"https://youtu.be/G7b4VMEATNo?t=18\")\n",
    "            break\n",
    "    except Exception as e:\n",
    "        print(\"https://youtu.be/G7b4VMEATNo?t=19\")\n",
    "        break\n",
    "\n",
    "    print(serialize_mtx(res))"
   ]
  },
  {
   "cell_type": "markdown",
   "id": "a944abcf-d731-40a4-b65f-494581bc024d",
   "metadata": {},
   "source": [
    "## Solution\n",
    "\n",
    "They fixed the bug and now identity matrix check is consistent.\n",
    "\n",
    "We need to somehow recover flag from the equation:\n",
    "\n",
    "$B * A * B^{-1} * A^{-1} * \\vec{flag}$, where $B$ should be non identity. \n",
    "\n",
    "First guess is permutations.\n",
    "\n",
    "Let's look at permutations of order 3 on 3x3 matrices:\n",
    "\n",
    "\\begin{align*}\n",
    "A &= \\begin{pmatrix}\n",
    "a_{00} & a_{01} & a_{02} \\\\\n",
    "a_{10} & a_{11} & a_{12} \\\\\n",
    "a_{20} & a_{21} & a_{22} \\\\\n",
    "\\end{pmatrix}\n",
    "\\end{align*}\n",
    "\n",
    "\\begin{align*}\n",
    "A^{-1} &= \\begin{pmatrix}\n",
    "b_{00} & b_{01} & b_{02} \\\\\n",
    "b_{10} & b_{11} & b_{12} \\\\\n",
    "b_{20} & b_{21} & b_{22} \\\\\n",
    "\\end{pmatrix}, \\\\\n",
    "\\end{align*}\n",
    "\n",
    "We have 6 permutations on 3 elements, namely:\n",
    "\n",
    "(1, 2, 3)\n",
    "\n",
    "(1, 3, 2)\n",
    "\n",
    "(2, 1, 3)\n",
    "\n",
    "(2, 3, 1)\n",
    "\n",
    "(3, 1, 2)\n",
    "\n",
    "(3, 2, 1)\n",
    "\n",
    "First one is an identity so we don't need it.\n",
    "\n",
    "We're left with 5 of them, and let's forget for a moment about the leftmost matrix, since we can easily erase it in the end by multiplying with it's inverse.\n",
    "\n",
    "We know that right permutation matrix permutes the columns of matrix $A$\n",
    "\n",
    "Let's take a look at 00 element of the resulting product($A * P * A^{-1}$) using each of 5 permutations, noting that we need to somehow obtain $a_{00} * b_{00} + a_{01} * b_{10} + a_{02} * b_{20} = 1$:\n",
    "\n",
    "(1, 3, 2):\n",
    "\n",
    "$r_1 = a_{00}*b_{00} + a_{02}*b_{10} + a_{01}*b_{20}$\n",
    "\n",
    "(2, 1, 3)\n",
    "\n",
    "$r_2 = a_{01}*b_{00} + a_{00}*b_{10} + a_{02}*b_{20}$\n",
    "\n",
    "(2, 3, 1)\n",
    "\n",
    "$r_3 = a_{02}*b_{00} + a_{00}*b_{10} + a_{01}*b_{20}$\n",
    "\n",
    "(3, 1, 2)\n",
    "\n",
    "$r_4 = a_{01}*b_{00} + a_{02}*b_{10} + a_{00}*b_{20}$\n",
    "\n",
    "(3, 2, 1)\n",
    "\n",
    "$r_5 = a_{02}*b_{00} + a_{01}*b_{10} + a_{00}*b_{20}$\n",
    "\n",
    "Now look at $r_1 + r_2 + r_5 - r_3 - r_4$ (It looked better on paper...)\n",
    "\n",
    "\\begin{aligned}\n",
    "& (a_{00} \\cdot b_{00} + a_{02} \\cdot b_{10} + a_{01} \\cdot b_{20}) + \\\\\n",
    "& (a_{01} \\cdot b_{00} + a_{00} \\cdot b_{10} + a_{02} \\cdot b_{20}) + \\\\\n",
    "& (a_{02} \\cdot b_{00} + a_{01} \\cdot b_{10} + a_{00} \\cdot b_{20}) - \\\\\n",
    "& (a_{02} \\cdot b_{00} + a_{00} \\cdot b_{10} + a_{01} \\cdot b_{20}) - \\\\\n",
    "& (a_{01} \\cdot b_{00} + a_{02} \\cdot b_{10} + a_{00} \\cdot b_{20}) \\\\\n",
    "&= a_{00} \\cdot b_{00} + a_{02} \\cdot b_{20} + a_{01} \\cdot b_{10} \\\\\n",
    "&= 1\n",
    "\\end{aligned}\n",
    "\n",
    "And we end up with identity.\n",
    "\n",
    "As simple as that we can use these 3x3 matrices inside the 55x55 matrix."
   ]
  },
  {
   "cell_type": "code",
   "execution_count": 3,
   "id": "d09f682e-3981-42fe-904c-adc18c1f6762",
   "metadata": {},
   "outputs": [],
   "source": [
    "p = (2 ** 31) - 1\n",
    "F = GF(p)\n",
    "FLAG_N = 55\n",
    "\n",
    "def serialize_mtx(mtx):\n",
    "    rows = []\n",
    "    for row in mtx.rows():\n",
    "        rows.append(','.join(str(elem) for elem in row))\n",
    "    return '[' + ';'.join(rows) + ']'\n",
    "\n",
    "\n",
    "def deserialize_mtx(mtx):\n",
    "    print(mtx)\n",
    "    rows = mtx.strip('[]\\n').split(';')\n",
    "    rows = [[int(num) for num in row.split(',')] for row in rows]\n",
    "    return Matrix(F, rows)"
   ]
  },
  {
   "cell_type": "code",
   "execution_count": 4,
   "id": "3ae54658-b04a-48af-b74f-43aec81fb2b3",
   "metadata": {},
   "outputs": [],
   "source": [
    "from itertools import permutations\n",
    "\n",
    "\n",
    "def get_permutations():\n",
    "    perms = []\n",
    "    for x in permutations([[1, 0, 0], [0, 1, 0], [0, 0, 1]]):\n",
    "        perms.append(Matrix(F, x))\n",
    "    return perms[1:]\n",
    "perms = get_permutations()"
   ]
  },
  {
   "cell_type": "code",
   "execution_count": 5,
   "id": "9a89f0ca-528c-43b4-b283-6cf37e8fbfd3",
   "metadata": {},
   "outputs": [
    {
     "name": "stdout",
     "output_type": "stream",
     "text": [
      "b'proof of work:\\n'\n",
      "b'curl -sSfL https://pwn.red/pow | sh -s s.AAATiA==./TWsHbai7liq+XAk9X8UFQ==\\n'\n"
     ]
    },
    {
     "name": "stdin",
     "output_type": "stream",
     "text": [
      " s.XW88LZd3gSww5RhT+55zJDOuB82/MFpX0wL0Zc6Ng4ZQDFzqJYFDYAhu63OC2netpX4Z+bw+mIb/9Yv3q7NLdrUmCwIJYabjOIBgErwLYmqKObuAu8OZx8rzHWHjaGzDGh9AVPBMR2bCPHfy0iUX3XapbftY2UZtE6c4pFYmoJBMRTKVEsRTfU+AQQUf0hg1L3zxplf68KDrqK0rC6VdcQ==\n"
     ]
    },
    {
     "name": "stdout",
     "output_type": "stream",
     "text": [
      "b'solution: aight, lets see what you got\\n'\n",
      "[561429172;1712867382;1980587061;1393696039;61625264;1789806836;978938500;505988819;1319545796;1671534629;1324431168;1132285632;1639227897;1217765588;1874010700;1033884531;348412361;74165087;1060375621;1779023752;16240267;540058091;177196162;455263494;2069452006;1819917268;803201148;1742582219;1900341296;1365835657;1404177608;1873841305;832013057;1981547538;257680081;372023987;676834513;1807165150;43649201;1546066228;1315447158;1582898370;35825509;1847150676;1541332348;1633224866;346581605;603095810;1177356550;2034899595;557223482;73797051;1101893835;1447179668;209646088]\n",
      "\n",
      "[274522144;1293395661;2085502255;1069421419;880087363;803451543;1402430314;881980644;1550786234;1244920387;26873091;2121570106;1873019427;1454197242;886701222;236208126;1070001711;1464213420;1075840800;1724499875;87826493;607767734;589687273;1073036901;2095081600;1593682488;699083889;910495928;93662833;876269286;2078481154;1752253140;492538574;497593736;842823622;2051598224;2138539494;2145296678;396686714;783247687;1082636831;326871312;18645626;642869441;224014720;92206638;1487304199;1810647362;1708713479;2122845197;2092486388;2005224030;1814450948;195230218;1951684017]\n",
      "\n",
      "[815724215;25477649;1155504234;1721259465;1234447741;225928175;948903968;1209329957;1175532830;1441834774;346655389;1433686283;1745193661;252368518;1310939270;1797713569;1997377853;1898570469;1637016910;1902727420;857668053;1599508252;1213625517;1544177475;299491254;103543886;384210341;23259576;1392742986;296415411;518371526;126809732;614099997;1487026496;1430819056;869089129;1183226071;855879671;736972172;534337654;339942184;1341161582;150688391;460267781;853369627;1188488906;308471313;1335584329;1253008621;2047086659;717458494;199600826;372187251;494995429;2024299385]\n",
      "\n",
      "[1015430354;1002924470;29600811;1123369866;1129470098;196511872;2044141020;1247179885;996338033;987088946;1428929667;1746477828;178047709;229542418;1039733358;1624325282;1936730735;1792393210;969419723;1108451268;315730124;1078687708;316275358;482995899;1030475507;2082729893;1636314605;2077537416;704557565;812416822;1571040634;21002276;537032530;121752240;55591854;1162004033;687728423;12249177;608900808;1468599931;1950822422;656817047;1957642397;1929635038;917026448;2096905574;91632794;769932437;1582429823;1036030300;1791945578;885732486;678934675;744711599;1512595932]\n",
      "\n",
      "[1537505711;737699582;303603970;381511996;1422205327;2124149073;611676288;1068540493;1449022601;1659952446;424280899;2073792068;558477807;2104915495;1737444469;4462651;368210920;5101620;470220310;1655138822;1069331465;1530370242;763017491;498873089;1460400544;920157769;518240013;1595202544;103296530;1014211045;754237140;816684967;1974064591;1277121228;385907302;1754954717;1203064183;1210634430;905537169;1821107412;2040164374;88208995;2053859748;2047366447;5049124;1559963079;713702065;1839257336;2096852120;1072855929;2007177960;1153795976;282260848;1744780822;1375565337]\n",
      "\n",
      "b'cr3{sorry_f0r_th3_br0k3n_ch4ll_n0w_w1th_n0_bugs_:sob:!}'\n"
     ]
    }
   ],
   "source": [
    "from pwn import remote, context\n",
    "context.log_level = \"error\"\n",
    "\n",
    "host, port = \"1337.sb\",  20004\n",
    "r = remote(host,port)\n",
    "\n",
    "# handle pow\n",
    "print(r.recvline()) \n",
    "print(r.recvline())\n",
    "r.sendline(input().encode())\n",
    "\n",
    "print(r.recvline())\n",
    "mtx = identity_matrix(F, FLAG_N)\n",
    "rets = []\n",
    "for perm in perms:\n",
    "    mtx.set_block(0, 0, perm)\n",
    "    ser = serialize_mtx(mtx)\n",
    "    r.sendline(ser.encode())\n",
    "    ret_ = r.recvline()\n",
    "    ret = deserialize_mtx(ret_.decode())\n",
    "    rets.append(mtx.inverse() * ret)\n",
    "\n",
    "print(bytes(list((rets[0] + rets[1] + rets[4] - rets[2] - rets[3]).T)[0]))"
   ]
  },
  {
   "cell_type": "markdown",
   "id": "7f7e3fe1-e069-43b8-b608-f9c96eb7ad5a",
   "metadata": {},
   "source": [
    "Yes. After sleeping on it for a day I have found out that all that you need is two matrices that give identity matrix as a sum. \n",
    "\n",
    "So, if you have $B_1, B_2$ such that $B_1 + B_2 = I$ and you send $B_1^{-1}, B_2^{-1}$ then \n",
    "\n",
    "$B_1 \\times \\vec{e_1} + B_2 \\times \\vec{e_2} = B_1 \\times (B_1^{-1} \\times A \\times B_1 \\times A^{-1}) \\times \\vec{f} + B_2 \\times (B_2^{-1} \\times A \\times B_2 \\times A^{-1}) \\times \\vec{f} = A \\times (B_1 + B_2) \\times A^{-1} \\times \\vec{f} = \\vec{f}$"
   ]
  },
  {
   "cell_type": "code",
   "execution_count": 7,
   "id": "e2a220ed-1cb4-4507-8d1d-513081026bff",
   "metadata": {},
   "outputs": [
    {
     "name": "stdout",
     "output_type": "stream",
     "text": [
      "b'proof of work:\\n'\n",
      "b'curl -sSfL https://pwn.red/pow | sh -s s.AAATiA==.6n7u7v3TgQjyuoHaZ3toXA==\\n'\n"
     ]
    },
    {
     "name": "stdin",
     "output_type": "stream",
     "text": [
      " s.ARE57wVN9WEJhOtWYoInJ6fUJhd3cB8gTe11oFv82sC6btIHar7ioXQOB2jEOTqVSxFmX7Y04md5Ccw46yLhGicA2DppLuUUIDUpeNjgvwiE8k4OIl9V79xT9vDXNFYXlvcb9TvVQ0iUqZI3ywHosSmWSuFgu2amG92J9LUau5EE2dZWJOQ4/EjjeY9v3QdR78do/i9ZAPl8I/1+GlMapg==\n"
     ]
    },
    {
     "name": "stdout",
     "output_type": "stream",
     "text": [
      "b'solution: aight, lets see what you got\\n'\n",
      "[1614910421;1193150318;2124473918;839733603;161272665;146582257;581214892;178164487;1252718917;1100094847;1059309550;1846251114;383592449;2093632175;834821935;1427307673;1345600151;2048132796;545986628;1934812174;374777548;434175393;1393163375;2105645457;947908274;1361493973;1909886625;1086747122;1881598600;541634369;1388766021;1637680402;1182200686;519197514;1753023463;1696637972;1878235602;1737331445;633881946;1442994669;499801180;739183753;1639431589;1620531044;1885583714;248352805;435316002;2082017679;71469462;167548014;1841309152;1995406786;2094818147;1371707739;1551063726]\n",
      "\n",
      "[1195049770;91226514;318109992;1461316453;769647645;1138162675;292547836;1265389763;2115422042;1217664528;541122786;1918896231;1569084064;1661035590;462302585;971872927;1992649556;2118886137;1545468753;1055266616;1671733997;135625464;329808429;1640099965;2077472027;145278748;1716543067;1164514012;2047430867;1170605626;1581738725;1559145572;2049587132;690697337;736446806;1058006080;1706827851;1635704123;273523502;1716460483;210777801;1532551304;1354271335;1848644289;564364849;683133943;1784910974;1203228308;579667903;172282917;978262348;1935123406;954060872;1448594404;1670731301]\n",
      "\n",
      "b'cr3{sorry_f0r_th3_br0k3n_ch4ll_n0w_w1th_n0_bugs_:sob:!}'\n"
     ]
    }
   ],
   "source": [
    "from pwn import remote, context\n",
    "context.log_level = \"error\"\n",
    "\n",
    "host, port = \"1337.sb\",  20004\n",
    "r = remote(host,port)\n",
    "\n",
    "# handle pow\n",
    "print(r.recvline()) \n",
    "print(r.recvline())\n",
    "r.sendline(input().encode())\n",
    "\n",
    "print(r.recvline())\n",
    "M = MatrixSpace(F, FLAG_N)\n",
    "\n",
    "m1 = M.random_element()\n",
    "while m1.det() == 0:\n",
    "    m1 = M.random_element()\n",
    "    \n",
    "m2 = identity_matrix(F, FLAG_N) - m1\n",
    "rets = []\n",
    "for mtx in [m1, m2]:\n",
    "    ser = serialize_mtx(mtx.inverse())\n",
    "    r.sendline(ser.encode())\n",
    "    ret_ = r.recvline()\n",
    "    ret = deserialize_mtx(ret_.decode())\n",
    "    rets.append(mtx * ret)\n",
    "\n",
    "print(bytes(list((rets[0] + rets[1]).T)[0]))"
   ]
  },
  {
   "cell_type": "code",
   "execution_count": null,
   "id": "07615f63-f535-4b8e-a22d-439cfc021e2c",
   "metadata": {},
   "outputs": [],
   "source": []
  }
 ],
 "metadata": {
  "kernelspec": {
   "display_name": "SageMath 10.3",
   "language": "sage",
   "name": "sagemath"
  },
  "language_info": {
   "codemirror_mode": {
    "name": "ipython",
    "version": 3
   },
   "file_extension": ".py",
   "mimetype": "text/x-python",
   "name": "python",
   "nbconvert_exporter": "python",
   "pygments_lexer": "ipython3",
   "version": "3.11.8"
  }
 },
 "nbformat": 4,
 "nbformat_minor": 5
}
