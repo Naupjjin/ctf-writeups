{
 "cells": [
  {
   "cell_type": "markdown",
   "id": "29a3e234",
   "metadata": {},
   "source": [
    "<h2>ACTF</h2> "
   ]
  },
  {
   "cell_type": "markdown",
   "id": "d4607188",
   "metadata": {},
   "source": [
    "<h>SECURE CONNECTION</h>"
   ]
  },
  {
   "cell_type": "markdown",
   "id": "92205e85",
   "metadata": {},
   "source": [
    "<p>Description:</p><p>We leak some packets log in author’s PC and get part of the secureconn software, can you get the flag? (software is buggy, don`t mind it and just get your flag)</p>\n",
    "<p>Attachments:</p><p>The big client.py and core.py files are in directory. Also there's a log file master.txt, that contains:</p>"
   ]
  },
  {
   "cell_type": "raw",
   "id": "5b47cd69",
   "metadata": {},
   "source": [
    ">\t01 03 6c 69 fa 95 c5 e6\n",
    "<\t01 03 6c 69 fa 95 c5 e6\n",
    ">\t08 30 53 47 56 73 62 47 38 67 64 47 68 6c 63 6d\n",
    "\t55 73 49 47 78 76 62 6d 63 67 64 47 6c 74 5a 53\n",
    "\t42 75 62 79 42 7a 5a 57 55 73 49 48 70 79 59 58\n",
    "\t68 34 9e ab 52\n",
    "<\t08 44\n",
    "\t65 57 56 68 61 43 77 67 53 53 42 68 62 53 42 78\n",
    "\t64 57 6c 30 5a 53 42 69 64 58 4e 35 49 47 31 68\n",
    "\t61 32 6c 75 5a 79 42 42 51 31 52 47 49 47 4e 79\n",
    "\t65 58 42 30 62 79 42 6a 61 47 46 73 62 47 56 75\n",
    "\t5a 32 56 7a\n",
    "\tab 08 96\n",
    ">\t08 40 64 32 56 73 62 43 77 67 53 53 42 6a 59 57\n",
    "\t34 67 62 32 5a 6d 5a 58 49 67 65 57 39 31 49 47\n",
    "\t45 67 62 6d 39 30 49 47 4a 68 5a 43 42 7a 61 57\n",
    "\t64 75 61 57 34 67 59 32 68 68 62 47 78 6c 62 6d\n",
    "\t64 6c d1 e8 ac\n",
    "<\t08 0c\n",
    "\t63 32 68 76 64 79 42 74 5a 51 3d 3d\n",
    "\t06 eb 3b\n",
    ">\t08 34 62 47 56 30 4a 33 4d 67 5a 6d 6c 79 63 33\n",
    "\t51 67 5a 47 6c 32 5a 53 42 70 62 6e 52 76 49 48\n",
    "\t4e 6c 59 33 56 79 5a 53 42 6a 62 32 35 75 5a 57\n",
    "\t4e 30 61 57 39 75 2a 85 95\n",
    ">\t81 03 d9 b2 df e9 3b f9\n",
    "<\t81 03 d9 b2 df e9 3b f9\n",
    ">\t82 10 ec 36 e5 b0 69 55 d9 95 56 7e e5 de 45 07\n",
    "\t37 f8 7d d5 57\n",
    "<\t83 10 68 b3 de d5 b8 40 14 dc f3 fb 75 02 d9 39\n",
    "\t0e 34 a6 bf 63\n",
    ">\t84 10 9f 51 36 ca cd 9f 2a 53 87 39 4b 7d 0c 1c\n",
    "\tXX XX 58 46 05\n",
    "<\t85 10 XX d6 e4 XX XX 5c XX b7 ba 90 6e 57 05 5a\n",
    "\t8e c8 2d db b8\n",
    ">\t86 10 4b d2 09 24 f0 c3 cd 30 ba 64 a0 f1 d9 64\n",
    "\t69 1e fa a2 d5\n",
    "<\t87 10 dd 76 51 4f 57 36 81 3a a8 c2 17 8e XX f8\n",
    "\t2d 5b 6f 68 ec\n",
    ">\t88 44 ee 49 1a 84 62 41 16 fb 68 5e 5d 47 14 94\n",
    "\taa 6d 3e ac 7c 53 70 7c 46 50 50 90 7e a2 01 12\n",
    "\t04 06 90 02 5e 92 a6 1d d8 29 1b 50 d0 c1 69 13\n",
    "\tb9 cd 0f f5 29 0e da d9 c2 3d 69 38 46 49 76 5b\n",
    "\t84 7f 15 f2 21 ce 3e 4f b4\n",
    "<\tc8 ff\n",
    "\tea 4d 61 86 4a 51 5f e4 78 41 3b 4c 12 94 b5 7a\n",
    "\t38 82 07 14 5b 56 22 4a 50 91 6a be 01 12 1f 12\n",
    "\t80 10 6f c5 a5 77 a8 3a 1d 40 af 89 7a 07 a1 8d\n",
    "\t0c df 13 18 f2 d2 d2 7e 42 4c 55 57 5c 20 90 7d\n",
    "\t2d f2 47 8a 05 19 c8 17 06 33 f1 a9 4d b6 15 ac\n",
    "\t37 bb a6 48 c1 33 df f4 26 c2 0a 28 f9 12 5f e1\n",
    "\tfd 35 d0 af 55 07 01 85 16 92 62 6b 6f fa c7 43\n",
    "\t4f 92 b5 68 c2 66 53 36 52 de 21 86 43 23 03 38\n",
    "\t98 f5 14 fd 5c b0 ef 20 59 fe 9a b6 8e 29 17 d7\n",
    "\t5d 5c cf c6 a8 c2 1d ba 69 d7 3b b7 99 44 c3 8b\n",
    "\tb5 20 8f fe 67 e0 28 64 9a 40 6a 2b d7 1d 86 70\n",
    "\tf1 9f ef a7 19 cf db e6 72 f4 c5 8a 1e 2d 1c 09\n",
    "\t2c 3f 21 db 23 bf 63 f7 da 5d 78 90 56 02 f2 22\n",
    "\te4 58 a5 ca 7a 04 83 5d 4c d9 0a 1a 5d 90 0a 78\n",
    "\tf6 75 16 ea 44 32 89 97 1a 7f e2 da 15 7d 60 ce\n",
    "\t1b 63 31 ac c8 7e f6 9c e9 58 9e fa 9c 54 69\n",
    "\t10 b5 31\n",
    "<\tc8 ff\n",
    "\t84 11 de 79 f3 a0 cf b3 04 f6 df ec 30 5c 00 ca\n",
    "\t30 d7 69 82 9e 55 9b 42 8d c6 f0 ae 6d 8b 73 d9\n",
    "\taf bb bf a8 b4 f4 e5 ad 6b be 55 3b eb 34 97 88\n",
    "\t2b 8a 41 3f ee e3 20 f6 38 69 b7 9b 98 ac 6a 67\n",
    "\t83 e0 e5 de e5 e1 8e 80 43 13 e2 2e 56 38 3a fd\n",
    "\tb4 ea a5 44 87 ad 8a ec 5a 5e 01 6e 5d db 39 44\n",
    "\t81 39 57 e7 05 24 e0 58 e8 56 41 fa 4d cd b2 71\n",
    "\t4d 6a a4 79 16 0b 43 68 c8 db ad d6 6d 8d 8a 9e\n",
    "\t4c 8a 7f 58 45 54 f3 15 22 82 35 59 38 1e 75 4e\n",
    "\t8c c8 c6 a0 0b e2 6d 75 0d 78 49 36 6e cc b2 24\n",
    "\t90 9d c9 8b da 4e 51 81 15 3c 67 07 c0 f6 5c 9c\n",
    "\t6d a1 14 8c fe fd c7 7a 65 63 69 17 f9 3c 8c 0d\n",
    "\t44 7e bd 7e 49 89 4f b4 61 7a b6 b3 70 9e 2a b3\n",
    "\tb9 c9 fe 18 94 7e b4 50 85 e7 b9 e7 2c db c0 10\n",
    "\t92 ac 60 3c c2 f7 cb fb fb b6 9f f9 af fa ba 60\n",
    "\t9b 99 cf 35 69 4b 9b 9e f4 ca b3 df bc 1d 7b\n",
    "\t30 a6 be\n",
    "<\tc8 ff\n",
    "\t4a 21 06 5d 5a b2 a0 e2 cb 4f 31 e2 2b dd d9 57\n",
    "\t6e 81 cd 31 05 dc 91 a9 fb 9d b0 dc ec 19 7b e8\n",
    "\t4e 44 1a 79 ec b4 15 53 85 2f 15 58 78 5d c3 1f\n",
    "\t03 62 08 a4 52 c3 57 b1 52 4c f5 6d bc df 98 5e\n",
    "\t64 35 b8 f6 17 4c fd 28 d9 2e 3d 30 ab e9 82 ee\n",
    "\t10 d8 0a 75 31 55 be d8 9c 85 ba d3 64 9b ed 2f\n",
    "\t2e 41 a5 3c 1a 1e dd 65 47 22 70 14 86 82 35 ac\n",
    "\t5e bb e6 e8 c7 cb 92 64 0d 0c dd 81 a6 91 35 ad\n",
    "\t3b 36 39 be e2 46 28 5c c5 13 cb 6d 21 64 47 34\n",
    "\t2c 59 6d 77 df e6 4a 06 66 7b 64 f4 b7 5a c7 c6\n",
    "\t03 cb 5c 02 ac ea f4 f7 80 ec 1c c4 3f ed 5f b8\n",
    "\tcf 19 4b 02 9d 8e 48 5f ff 93 69 5f 37 86 21 02\n",
    "\tb7 60 60 54 9e a9 d0 c5 f8 52 be 7c ed 74 e3 0d\n",
    "\tcd a4 bb 95 13 a9 57 fa e0 8e 41 aa 09 74 b5 b0\n",
    "\t45 67 f8 a4 9d a9 4c 0f c8 f2 82 0a 45 71 18 da\n",
    "\tec e7 5a 4e d4 5d 0d b8 75 7c 47 a9 d1 85 e5\n",
    "\t64 27 6a\n",
    "<\t88 5b\n",
    "\ta6 36 7b 6a a5 55 af 69 a9 a9 7d 0e 09 aa 48 86\n",
    "\td5 27 20 c7 74 65 e3 37 18 76 8d 14 89 d9 d1 cc\n",
    "\t84 d0 ed 7b d6 04 55 00 2e 04 ee 7f ae 36 8c 47\n",
    "\t83 82 a2 ef 26 4b dd 91 73 d2 8c 29 31 5b 8f 3e\n",
    "\t3c 19 24 89 50 be d6 5f e7 88 e4 ac 13 71 26 85\n",
    "\t1b c8 8d 47 94 e6 41 85 9e 6f b2\n",
    "\t0b 37 68\n",
    ">\tc8 ff b7 29 d4 27 d4 a9 d5 95 2e c3 ce cc 1e 70\n",
    "\t15 9c 27 c6 63 8d 8a 03 ed 6c f1 e4 f5 b1 43 96\n",
    "\t1e d9 a7 9f ae e8 90 f5 ec ad 63 9e 4f 09 ce 13\n",
    "\tcf bc 33 d8 4f 27 c8 ea 3a ce 11 78 a8 b1 8e 9f\n",
    "\t6b 5f ac e2 e8 eb ed c4 8f ae 7a 36 d5 00 60 0a\n",
    "\t53 ea 89 e8 c6 1a 95 c5 fc d8 54 45 71 15 63 fe\n",
    "\t16 64 d1 21 42 ee 11 2a f2 6d cb 73 40 a3 45 d0\n",
    "\t99 6a 49 52 b1 3f 1f 70 3d 4c 99 b1 b3 e9 02 87\n",
    "\t8f f7 45 ac 61 21 6b 49 d8 38 05 8d 0a 68 37 00\n",
    "\t1b 11 bc c6 c4 82 31 eb 51 44 5f 74 48 35 58 dd\n",
    "\tbc 11 9f f7 b9 85 cb 1e 69 b0 0b 42 48 75 e2 d0\n",
    "\t4d 96 65 f2 01 85 e9 97 bc 48 72 47 42 54 e1 2d\n",
    "\t99 54 76 59 b7 58 52 ba 5e 99 41 64 b7 cf 45 90\n",
    "\t49 f2 80 ff ff 1d b3 70 bd 72 90 ed b3 c5 37 d6\n",
    "\ta7 35 fa 99 3e 09 e8 c5 de bc d5 85 8a 98 f8 f4\n",
    "\taa 4d c9 ce ce 01 3d 6f 95 8f da d7 87 e0 99 36\n",
    "\t44 de 22 74\n",
    ">\t88 1d 10 13 37 5c 5c a9 83 e3 90 5a 58 f7 05 de\n",
    "\t88 33 7f b3 fc 34 1c da ab 9e ae cf 90 ab 8b 8c\n",
    "\t60 1f\n",
    "<\t88 28\n",
    "\t18 ae e9 5e ca c0 9e e6 3d d2 87 07 b8 94 2d 4f\n",
    "\t2a 70 52 d7 1b fd 27 d8 1b cc ef fd 20 8a 14 63\n",
    "\tf9 a1 35 24 8d ef 57 81\n",
    "\tec a0 94\n",
    ">\t88 60 a2 16 25 39 df 5b ac 45 95 86 53 58 12 db\n",
    "\t74 a6 cb 54 1d d7 1f 64 ec 4d 12 71 9f 32 a6 de\n",
    "\tf8 99 e3 d7 eb 62 c4 12 77 02 17 3e c2 42 bc 32\n",
    "\taa 5e 82 fe e8 ea 33 5b c4 ad 7d c8 f2 2e 20 59\n",
    "\ta3 04 19 17 1a be 73 af e6 5b fa a6 ad a3 2a 15\n",
    "\t78 8d 0d b6 b3 59 b0 be 7f a6 af 68 cd e6 e2 4c\n",
    "\ta9 5d 0b 4a cb\n",
    "<\t88 08\n",
    "\tfd 81 d2 b5 8c 5e 32 06\n",
    "    e7 8a 0e"
   ]
  },
  {
   "cell_type": "markdown",
   "id": "2c645726",
   "metadata": {},
   "source": [
    "<p>First of all, I've written a parser for this dump file</p><p>It was not hard, since all the instructions for decomposing were in core.py file</p><p>Here's the result:</p>"
   ]
  },
  {
   "cell_type": "raw",
   "id": "fdbddc84",
   "metadata": {},
   "source": [
    "1 from, hello, no_enc,  len: 3, data: b'li\\xfa', crc: 95c5e6\n",
    "\n",
    "2 to,   hello, no_enc,  len: 3, data: b'li\\xfa', crc: 95c5e6\n",
    "\n",
    "3 from, data, no_enc,  len: 48, data: b'Hello there, long time no see, zraxx', crc: 9eab52\n",
    "\n",
    "4 to,   data, no_enc,  len: 68, data: b'yeah, I am quite busy making ACTF crypto challenges', crc: ab0896\n",
    "\n",
    "5 from, data, no_enc,  len: 64, data: b'well, I can offer you a not bad signin challenge', crc: d1e8ac\n",
    "\n",
    "6 to,   data, no_enc,  len: 12, data: b'show me', crc: 06eb3b\n",
    "\n",
    "7 from, data, no_enc,  len: 52, data: b\"let's first dive into secure connection\", crc: 2a8595\n",
    "\n",
    "8 from, hello, enc,  len: 3, data: d9b2df, crc: e93bf9\n",
    "\n",
    "9 to,   hello, enc,  len: 3, data: d9b2df, crc: e93bf9\n",
    "\n",
    "10 from, sc_req, enc,  len: 16, data: ec36e5b06955d995567ee5de450737f8, crc: 7dd557\n",
    "\n",
    "11 to,   sc_rsp, enc,  len: 16, data: 68b3ded5b84014dcf3fb7502d9390e34, crc: a6bf63\n",
    "\n",
    "12 from, m_confirm, enc,  len: 16, data: 9f5136cacd9f2a5387394b7d0c1cXXXX, crc: 584605\n",
    "\n",
    "13 to,   s_confirm, enc,  len: 16, data: XXd6e4XXXX5cXXb7ba906e57055a8ec8, crc: 2ddbb8\n",
    "\n",
    "14 from, m_random, enc,  len: 16, data: 4bd20924f0c3cd30ba64a0f1d964691e, crc: faa2d5\n",
    "\n",
    "15 to,   s_random, enc,  len: 16, data: dd76514f5736813aa8c2178eXXf82d5b, crc: 6f68ec\n",
    "\n",
    "16 from, data, enc,  len: 68, data: ee491a84624116fb685e5d471494aa6d3eac7c53707c465050907ea20112040690025e92a61dd8291b50d0c16913b9cd0ff5290edad9c23d69384649765b847f15f221ce, crc: 3e4fb4\n",
    "\n",
    "17 to,   data, enc, more_data,  len: 255, data: ea4d61864a515fe478413b4c1294b57a388207145b56224a50916abe01121f1280106fc5a577a83a1d40af897a07a18d0cdf1318f2d2d27e424c55575c20907d2df2478a0519c8170633f1a94db615ac37bba648c133dff426c20a28f9125fe1fd35d0af550701851692626b6ffac7434f92b568c266533652de21864323033898f514fd5cb0ef2059fe9ab68e2917d75d5ccfc6a8c21dba69d73bb79944c38bb5208ffe67e028649a406a2bd71d8670f19fefa719cfdbe672f4c58a1e2d1c092c3f21db23bf63f7da5d78905602f222e458a5ca7a04835d4cd90a1a5d900a78f67516ea443289971a7fe2da157d60ce1b6331acc87ef69ce9589efa9c5469, crc: 10b531\n",
    "\n",
    "18 to,   data, enc, more_data,  len: 255, data: 8411de79f3a0cfb304f6dfec305c00ca30d769829e559b428dc6f0ae6d8b73d9afbbbfa8b4f4e5ad6bbe553beb3497882b8a413feee320f63869b79b98ac6a6783e0e5dee5e18e804313e22e56383afdb4eaa54487ad8aec5a5e016e5ddb3944813957e70524e058e85641fa4dcdb2714d6aa479160b4368c8dbadd66d8d8a9e4c8a7f584554f31522823559381e754e8cc8c6a00be26d750d7849366eccb224909dc98bda4e5181153c6707c0f65c9c6da1148cfefdc77a65636917f93c8c0d447ebd7e49894fb4617ab6b3709e2ab3b9c9fe18947eb45085e7b9e72cdbc01092ac603cc2f7cbfbfbb69ff9affaba609b99cf35694b9b9ef4cab3dfbc1d7b, crc: 30a6be\n",
    "\n",
    "19 to,   data, enc, more_data,  len: 255, data: 4a21065d5ab2a0e2cb4f31e22bddd9576e81cd3105dc91a9fb9db0dcec197be84e441a79ecb41553852f1558785dc31f036208a452c357b1524cf56dbcdf985e6435b8f6174cfd28d92e3d30abe982ee10d80a753155bed89c85bad3649bed2f2e41a53c1a1edd6547227014868235ac5ebbe6e8c7cb92640d0cdd81a69135ad3b3639bee246285cc513cb6d216447342c596d77dfe64a06667b64f4b75ac7c603cb5c02aceaf4f780ec1cc43fed5fb8cf194b029d8e485fff93695f37862102b76060549ea9d0c5f852be7ced74e30dcda4bb9513a957fae08e41aa0974b5b04567f8a49da94c0fc8f2820a457118daece75a4ed45d0db8757c47a9d185e5, crc: 64276a\n",
    "\n",
    "20 to,   data, enc,  len: 91, data: a6367b6aa555af69a9a97d0e09aa4886d52720c77465e33718768d1489d9d1cc84d0ed7bd60455002e04ee7fae368c478382a2ef264bdd9173d28c29315b8f3e3c19248950bed65fe788e4ac137126851bc88d4794e641859e6fb2, crc: 0b3768\n",
    "\n",
    "21 from, data, enc, more_data,  len: 255, data: b729d427d4a9d5952ec3cecc1e70159c27c6638d8a03ed6cf1e4f5b143961ed9a79faee890f5ecad639e4f09ce13cfbc33d84f27c8ea3ace1178a8b18e9f6b5face2e8ebedc48fae7a36d500600a53ea89e8c61a95c5fcd85445711563fe1664d12142ee112af26dcb7340a345d0996a4952b13f1f703d4c99b1b3e902878ff745ac61216b49d838058d0a6837001b11bcc6c48231eb51445f74483558ddbc119ff7b985cb1e69b00b424875e2d04d9665f20185e997bc4872474254e12d99547659b75852ba5e994164b7cf459049f280ffff1db370bd7290edb3c537d6a735fa993e09e8c5debcd5858a98f8f4aa4dc9cece013d6f958fdad787e0993644, crc: de2274\n",
    "\n",
    "22 from, data, enc,  len: 29, data: 1013375c5ca983e3905a58f705de88337fb3fc341cdaab9eaecf90ab8b, crc: 8c601f\n",
    "\n",
    "23 to,   data, enc,  len: 40, data: 18aee95ecac09ee63dd28707b8942d4f2a7052d71bfd27d81bcceffd208a1463f9a135248def5781, crc: eca094\n",
    "\n",
    "24 from, data, enc,  len: 96, data: a2162539df5bac459586535812db74a6cb541dd71f64ec4d12719f32a6def899e3d7eb62c4127702173ec242bc32aa5e82fee8ea335bc4ad7dc8f22e2059a30419171abe73afe65bfaa6ada32a15788d0db6b359b0be7fa6af68cde6e24ca95d, crc: 0b4acb\n",
    "\n",
    "25 to,   data, enc,  len: 8, data: fd81d2b58c5e3206, crc: e78a0e"
   ]
  },
  {
   "cell_type": "markdown",
   "id": "5d899786",
   "metadata": {},
   "source": [
    "<p>You will not find any valuable information in client.py</p>\n",
    "<p>Now we can draw a few conclusions, based on dump file and core.py file</p>\n",
    "<p>Obviously the first of them is master and the second is slave</p>\n",
    "<p>First 7 messages are not interesting. All we get from them is that they are using a secure connection from now on</p>\n",
    "<p>Messages from 8 to 15 are a handshake between sockets. From which we can get:</p>\n",
    "<p>8-9: crc seed 0xd9b2df to check that connection was not interrupted by anyone</p>\n",
    "<p>10: master's IV = ec36e5b06955d995 and Secret = 567ee5de450737f8</p>\n",
    "<p>11: slave's  IV = 68b3ded5b84014dc and Secret = f3fb7502d9390e34</p>\n",
    "<p>12: master's confirm = 9f5136cacd9f2a5387394b7d0c1cXXXX (note that we don't know the last two bytes)</p>\n",
    "<p>13: slave's  confirm = XXd6e4XXXX5cXXb7ba906e57055a8ec8 (now we don't know 4 bytes)</p>\n",
    "<p>14: master's random_value = 4bd20924f0c3cd30ba64a0f1d964691e</p>\n",
    "<p>15: slave's  random_value = dd76514f5736813aa8c2178eXXf82d5b(1 byte unknown)</p>\n",
    "<p>Then they send data to each other in which we are not interested now</p> "
   ]
  },
  {
   "cell_type": "code",
   "execution_count": 41,
   "id": "0908fdfa",
   "metadata": {},
   "outputs": [],
   "source": [
    "from Crypto.Cipher import AES\n",
    "import base64\n",
    "import libscrc\n",
    "from multiprocessing import Pool\n",
    "from time import time\n",
    "from Crypto.Util.number import long_to_bytes\n",
    "from copy import copy"
   ]
  },
  {
   "cell_type": "markdown",
   "id": "8d26917e",
   "metadata": {},
   "source": [
    "<p>The key to the solution is the fact that their shared key is very small(it's mod(0x1000000) hence we can iterate over this key</p>"
   ]
  },
  {
   "cell_type": "code",
   "execution_count": 81,
   "id": "73da8e5e",
   "metadata": {},
   "outputs": [],
   "source": [
    "def calc_crc(crc, pdu):\n",
    "    initvalue = int.from_bytes(crc, \"little\")\n",
    "    crc = libscrc.hacker24(data=pdu, poly=0x00065B, init=initvalue,\n",
    "                            xorout=0x00000000, refin=True, refout=True)\n",
    "    return crc.to_bytes(3, \"little\")\n",
    "\n",
    "def bytes_xor_16(bytes1, bytes2):\n",
    "    v1 = int.from_bytes(bytes1, 'big')\n",
    "    v2 = int.from_bytes(bytes2, 'big')\n",
    "    v3 = v1 ^ v2\n",
    "    return (v3).to_bytes(16, 'big')\n",
    "\n",
    "def secure_decrypt_packet(key, plain, nonce):\n",
    "    aes = AES.new(key=key, mode=AES.MODE_CCM, nonce=nonce)\n",
    "    return aes.decrypt(plain)\n",
    "\n",
    "def secure_encrypt(key, plain):\n",
    "    aes = AES.new(key=key, mode=AES.MODE_ECB)\n",
    "    return aes.encrypt(plain)\n",
    "\n",
    "def secure_confirm(key, r, p1, p2):\n",
    "    return secure_encrypt(key, bytes_xor_16(secure_encrypt(key, bytes_xor_16(r, p1)), p2))"
   ]
  },
  {
   "cell_type": "code",
   "execution_count": 82,
   "id": "e1394ec5",
   "metadata": {},
   "outputs": [],
   "source": [
    "crc_seed = bytes.fromhex('d9b2df')\n",
    "\n",
    "m_IV =     bytes.fromhex('ec36e5b06955d995')\n",
    "m_Secret = bytes.fromhex('567ee5de450737f8')\n",
    "s_IV =     bytes.fromhex('68b3ded5b84014dc')\n",
    "s_Secret = bytes.fromhex('f3fb7502d9390e34')\n",
    "m_random = bytes.fromhex('4bd20924f0c3cd30ba64a0f1d964691e')"
   ]
  },
  {
   "cell_type": "markdown",
   "id": "fe1fb524",
   "metadata": {},
   "source": [
    "<p>Now let's find out what are the XX unknown values using simple iteration</p>"
   ]
  },
  {
   "cell_type": "code",
   "execution_count": 83,
   "id": "76ac3384",
   "metadata": {},
   "outputs": [
    {
     "name": "stdout",
     "output_type": "stream",
     "text": [
      "b'\\x9fQ6\\xca\\xcd\\x9f*S\\x879K}\\x0c\\x1c\\x16\\xfa'\n"
     ]
    }
   ],
   "source": [
    "def get_m_confirm(crc_seed, crc):\n",
    "    for i in range(256):\n",
    "        for j in range(256):\n",
    "            x, y = hex(i)[2:].zfill(2), hex(j)[2:].zfill(2)\n",
    "            s = bytes.fromhex(f'84109f5136cacd9f2a5387394b7d0c1c{x}{y}')  # note that we use the whole message, \n",
    "                                                                          # including first two bytes 0x84 and 0x10 + data\n",
    "            if(crc == calc_crc(crc_seed, s)):\n",
    "                return s\n",
    "m_confirm_crc = bytes.fromhex('584605')\n",
    "m_confirm = get_m_confirm(crc_seed, m_confirm_crc)[2:]\n",
    "print(m_confirm)"
   ]
  },
  {
   "cell_type": "markdown",
   "id": "0560a59b",
   "metadata": {},
   "source": [
    "<p>We know that m_confirm = aes(key=shared_key, mode=CCM, plain=plain)</p>\n",
    "<p>where plain = aes(key=shared_key, mode=ECB, plain=plain1)</p>\n",
    "<p>plain1 = b'\\xff' * 16 <b>XOR</b> aes(key = shared_key, mode=ECB, plain=m_random <b>XOR</b> 0)</p>\n",
    "<p>Hence we can iterete over [0, 0x1000000] to find the key</p>"
   ]
  },
  {
   "cell_type": "code",
   "execution_count": 33,
   "id": "ba6bf791",
   "metadata": {},
   "outputs": [
    {
     "name": "stdout",
     "output_type": "stream",
     "text": [
      "shared key = b'%=\\x8c\\x00\\x00\\x00\\x00\\x00\\x00\\x00\\x00\\x00\\x00\\x00\\x00\\x00'\n"
     ]
    }
   ],
   "source": [
    "def get_key(g):\n",
    "    for x in g:\n",
    "        x = x.to_bytes(16, \"little\")\n",
    "        if secure_confirm(x, m_random, b\"\\x00\"*16, b\"\\xff\"*16) == m_confirm:\n",
    "            print(f\"shared key = {x}\")\n",
    "gs = [range(i, 256**3, 32) for i in range(32)]\n",
    "with Pool(10) as pool:\n",
    "    pool.map(get_key, gs)"
   ]
  },
  {
   "cell_type": "code",
   "execution_count": 84,
   "id": "22069313",
   "metadata": {},
   "outputs": [],
   "source": [
    "shared_key = b'%=\\x8c\\x00\\x00\\x00\\x00\\x00\\x00\\x00\\x00\\x00\\x00\\x00\\x00\\x00'\n",
    "assert m_confirm == secure_confirm(shared_key, m_random, b\"\\x00\"*16, b\"\\xff\"*16)"
   ]
  },
  {
   "cell_type": "markdown",
   "id": "4af87343",
   "metadata": {},
   "source": [
    "<p>The rest is quite clear: we have to find s_random to calculate:</p>\n",
    "<p>storekey = secure_encrypt(numeric_key, m_random[:8] + s_random[8:])</p>\n",
    "<p>And then</p>\n",
    "<p>sessionkey = secure_encrypt(storekey, m_secret + s_secret)"
   ]
  },
  {
   "cell_type": "markdown",
   "id": "76c605d7",
   "metadata": {},
   "source": [
    "<p>Finding s_random is very easy, since we have already done it with m_confrim.</p>"
   ]
  },
  {
   "cell_type": "code",
   "execution_count": 85,
   "id": "02bf2f43",
   "metadata": {},
   "outputs": [],
   "source": [
    "def get_s_random(crc_seed, crc):\n",
    "    for i in range(256):\n",
    "        x = hex(i)[2:].zfill(2)\n",
    "        s = bytes.fromhex(f'8710dd76514f5736813aa8c2178e{x}f82d5b')  # note that we use the whole message, \n",
    "                                                                     # including first two bytes 0x87 and 0x10 + data\n",
    "        if(crc == calc_crc(crc_seed, s)):\n",
    "            return s\n",
    "s_random_crc = bytes.fromhex('6f68ec')\n",
    "s_random = get_s_random(crc_seed, s_random_crc)[2:]"
   ]
  },
  {
   "cell_type": "markdown",
   "id": "a083c064",
   "metadata": {},
   "source": [
    "<p>We could also calculate s_confirm, but this is only necessary for verification, and there are many values that correspond to crc = '2ddbb8'.It is not surprising, since we have to iterate over 3 unknown bytes.</p>"
   ]
  },
  {
   "cell_type": "code",
   "execution_count": 93,
   "id": "c3d033d1",
   "metadata": {},
   "outputs": [],
   "source": [
    "store_key = secure_encrypt(shared_key, m_random[:8] + s_random[8:])\n",
    "sessionkey = secure_encrypt(store_key, m_Secret + s_Secret)"
   ]
  },
  {
   "cell_type": "code",
   "execution_count": 94,
   "id": "e711f7a1",
   "metadata": {},
   "outputs": [],
   "source": [
    "known_ciphertexts = [\n",
    "    \"ee491a84624116fb685e5d471494aa6d3eac7c53707c465050907ea20112040690025e92a61dd8291b50d0c16913b9cd0ff5290edad9c23d69384649765b847f15f221ce\",\n",
    "    \"ea4d61864a515fe478413b4c1294b57a388207145b56224a50916abe01121f1280106fc5a577a83a1d40af897a07a18d0cdf1318f2d2d27e424c55575c20907d2df2478a0519c8170633f1a94db615ac37bba648c133dff426c20a28f9125fe1fd35d0af550701851692626b6ffac7434f92b568c266533652de21864323033898f514fd5cb0ef2059fe9ab68e2917d75d5ccfc6a8c21dba69d73bb79944c38bb5208ffe67e028649a406a2bd71d8670f19fefa719cfdbe672f4c58a1e2d1c092c3f21db23bf63f7da5d78905602f222e458a5ca7a04835d4cd90a1a5d900a78f67516ea443289971a7fe2da157d60ce1b6331acc87ef69ce9589efa9c5469\",\n",
    "    \"8411de79f3a0cfb304f6dfec305c00ca30d769829e559b428dc6f0ae6d8b73d9afbbbfa8b4f4e5ad6bbe553beb3497882b8a413feee320f63869b79b98ac6a6783e0e5dee5e18e804313e22e56383afdb4eaa54487ad8aec5a5e016e5ddb3944813957e70524e058e85641fa4dcdb2714d6aa479160b4368c8dbadd66d8d8a9e4c8a7f584554f31522823559381e754e8cc8c6a00be26d750d7849366eccb224909dc98bda4e5181153c6707c0f65c9c6da1148cfefdc77a65636917f93c8c0d447ebd7e49894fb4617ab6b3709e2ab3b9c9fe18947eb45085e7b9e72cdbc01092ac603cc2f7cbfbfbb69ff9affaba609b99cf35694b9b9ef4cab3dfbc1d7b\",\n",
    "    \"4a21065d5ab2a0e2cb4f31e22bddd9576e81cd3105dc91a9fb9db0dcec197be84e441a79ecb41553852f1558785dc31f036208a452c357b1524cf56dbcdf985e6435b8f6174cfd28d92e3d30abe982ee10d80a753155bed89c85bad3649bed2f2e41a53c1a1edd6547227014868235ac5ebbe6e8c7cb92640d0cdd81a69135ad3b3639bee246285cc513cb6d216447342c596d77dfe64a06667b64f4b75ac7c603cb5c02aceaf4f780ec1cc43fed5fb8cf194b029d8e485fff93695f37862102b76060549ea9d0c5f852be7ced74e30dcda4bb9513a957fae08e41aa0974b5b04567f8a49da94c0fc8f2820a457118daece75a4ed45d0db8757c47a9d185e5\",\n",
    "    \"a6367b6aa555af69a9a97d0e09aa4886d52720c77465e33718768d1489d9d1cc84d0ed7bd60455002e04ee7fae368c478382a2ef264bdd9173d28c29315b8f3e3c19248950bed65fe788e4ac137126851bc88d4794e641859e6fb2\",\n",
    "    \"b729d427d4a9d5952ec3cecc1e70159c27c6638d8a03ed6cf1e4f5b143961ed9a79faee890f5ecad639e4f09ce13cfbc33d84f27c8ea3ace1178a8b18e9f6b5face2e8ebedc48fae7a36d500600a53ea89e8c61a95c5fcd85445711563fe1664d12142ee112af26dcb7340a345d0996a4952b13f1f703d4c99b1b3e902878ff745ac61216b49d838058d0a6837001b11bcc6c48231eb51445f74483558ddbc119ff7b985cb1e69b00b424875e2d04d9665f20185e997bc4872474254e12d99547659b75852ba5e994164b7cf459049f280ffff1db370bd7290edb3c537d6a735fa993e09e8c5debcd5858a98f8f4aa4dc9cece013d6f958fdad787e0993644\",\n",
    "    \"1013375c5ca983e3905a58f705de88337fb3fc341cdaab9eaecf90ab8b\",\n",
    "    \"18aee95ecac09ee63dd28707b8942d4f2a7052d71bfd27d81bcceffd208a1463f9a135248def5781\",\n",
    "    \"a2162539df5bac459586535812db74a6cb541dd71f64ec4d12719f32a6def899e3d7eb62c4127702173ec242bc32aa5e82fee8ea335bc4ad7dc8f22e2059a30419171abe73afe65bfaa6ada32a15788d0db6b359b0be7fa6af68cde6e24ca95d\",\n",
    "    \"fd81d2b58c5e3206\"]"
   ]
  },
  {
   "cell_type": "markdown",
   "id": "0901f479",
   "metadata": {},
   "source": [
    "<p>Well, you can just count the number of messages sent by each side or iterate over [0, 10] to get a one-time number for aes encryption.</p>"
   ]
  },
  {
   "cell_type": "raw",
   "id": "4b26f6d9",
   "metadata": {},
   "source": []
  },
  {
   "cell_type": "code",
   "execution_count": 95,
   "id": "e3aea304",
   "metadata": {},
   "outputs": [
    {
     "name": "stdout",
     "output_type": "stream",
     "text": [
      "b'I will tell you my flag after you finish your poem' 4\n",
      "b\"You mean this one? Shall I compare thee to a summer's day? Thou art more lovely and more temperate: Rough winds do shake the darling buds of May, And summer's lease hath all too short a date:\" 4\n",
      "b'No I mean this one, I never saw a Moor-I never saw the Sea-Yet know I how the Heather looksAnd what a Billow be.I never spoke with GodNor visited in Heaven-Yet certain am I of the spotAs if t' 5\n",
      "b'q;cM8' 1\n",
      "b'Nevermind, long live the AAA' 8\n",
      "b'You got your flag: ACTF{ShORt_NUmeR1c_KEY_1s_Vuln3R4bLe_TO_e@V3sDropPEr}' 7\n",
      "b'\\x07' 7\n",
      "b'\\x06' 8\n",
      "b'Cool' 9\n"
     ]
    }
   ],
   "source": [
    "for cip in known_ciphertexts:\n",
    "    for n in range(10):\n",
    "        try:\n",
    "            pl = base64.b64decode(secure_decrypt_packet(sessionkey, bytes.fromhex(cip), n.to_bytes(13, \"little\")) + b'====')\n",
    "            if(pl.decode()):\n",
    "                print(pl, n)\n",
    "        except Exception as e:\n",
    "            continue"
   ]
  }
 ],
 "metadata": {
  "kernelspec": {
   "display_name": "Python 3 (ipykernel)",
   "language": "python",
   "name": "python3"
  },
  "language_info": {
   "codemirror_mode": {
    "name": "ipython",
    "version": 3
   },
   "file_extension": ".py",
   "mimetype": "text/x-python",
   "name": "python",
   "nbconvert_exporter": "python",
   "pygments_lexer": "ipython3",
   "version": "3.10.5"
  }
 },
 "nbformat": 4,
 "nbformat_minor": 5
}
