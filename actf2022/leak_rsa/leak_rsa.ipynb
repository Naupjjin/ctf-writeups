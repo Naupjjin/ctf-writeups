{
 "cells": [
  {
   "cell_type": "markdown",
   "id": "045f89cf",
   "metadata": {},
   "source": [
    "<h2>ACTF</h2> "
   ]
  },
  {
   "cell_type": "markdown",
   "id": "fc5c7966",
   "metadata": {},
   "source": [
    "<h>RSA LEAK</h>"
   ]
  },
  {
   "cell_type": "markdown",
   "id": "18fbb5c2",
   "metadata": {},
   "source": [
    "<p>Task Description: We leak something for you~</p>"
   ]
  },
  {
   "cell_type": "markdown",
   "id": "2c8a4c21",
   "metadata": {},
   "source": [
    "<p>Attachments:</p>\n"
   ]
  },
  {
   "cell_type": "code",
   "execution_count": null,
   "id": "1ff303a1",
   "metadata": {},
   "outputs": [],
   "source": [
    "from sage.all import *\n",
    "from secret import flag\n",
    "from Crypto.Util.number import bytes_to_long\n",
    "\n",
    "\n",
    "def leak(a, b):\n",
    "    p = random_prime(pow(2, 64))\n",
    "    q = random_prime(pow(2, 64))\n",
    "    n = p*q\n",
    "    e = 65537\n",
    "    print(f\"new_n = {n}\")\n",
    "    print(f\"leak = {(pow(a, e) + pow(b, e) + 0xdeadbeef) % n}\")\n",
    "\n",
    "\n",
    "def gen_key():\n",
    "    while(True):\n",
    "        a = randrange(0, pow(2,256))\n",
    "        b = randrange(0, pow(2,256))\n",
    "        p = pow(a, 4)\n",
    "        q = pow(b, 4)\n",
    "        rp = randrange(0, pow(2,24))\n",
    "        rq = randrange(0, pow(2,24))\n",
    "        pp = next_prime(p+rp)\n",
    "        qq = next_prime(q+rq)\n",
    "        if pp % pow(2, 4) == (pp-p) % pow(2, 4) and qq % pow(2, 4) == (qq-q) % pow(2, 4):\n",
    "            print(f\"rp, rq = {rp}, {rq}\")\n",
    "            print(f\"pp, qq = {pp}, {qq}\")\n",
    "            n = pp*qq\n",
    "            rp = pp-p\n",
    "            rq = qq-q\n",
    "            print(f\"rp, rq = {rp}, {rq}\")\n",
    "            print(f\"p, q = {p}, {q}\")\n",
    "            print(\"sdohla mat\")\n",
    "            return n, rp, rq\n",
    "\n",
    "n, rp, rq = gen_key()\n",
    "e = 65537\n",
    "c = pow(bytes_to_long(flag), e, n)\n",
    "print(\"n =\", n)\n",
    "print(\"e =\", e)\n",
    "print(\"c =\", c)\n",
    "leak(rp, rq)\n",
    "\n",
    "'''\n",
    "n = 3183573836769699313763043722513486503160533089470716348487649113450828830224151824106050562868640291712433283679799855890306945562430572137128269318944453041825476154913676849658599642113896525291798525533722805116041675462675732995881671359593602584751304602244415149859346875340361740775463623467503186824385780851920136368593725535779854726168687179051303851797111239451264183276544616736820298054063232641359775128753071340474714720534858295660426278356630743758247422916519687362426114443660989774519751234591819547129288719863041972824405872212208118093577184659446552017086531002340663509215501866212294702743\n",
    "e = 65537\n",
    "c = 48433948078708266558408900822131846839473472350405274958254566291017137879542806238459456400958349315245447486509633749276746053786868315163583443030289607980449076267295483248068122553237802668045588106193692102901936355277693449867608379899254200590252441986645643511838233803828204450622023993363140246583650322952060860867801081687288233255776380790653361695125971596448862744165007007840033270102756536056501059098523990991260352123691349393725158028931174218091973919457078350257978338294099849690514328273829474324145569140386584429042884336459789499705672633475010234403132893629856284982320249119974872840\n",
    "=======leak=======\n",
    "new_n = 122146249659110799196678177080657779971\n",
    "leak = 90846368443479079691227824315092288065\n",
    "'''"
   ]
  },
  {
   "cell_type": "markdown",
   "id": "de772a36",
   "metadata": {},
   "source": [
    "<p>First of all, let's talk about leak. As we can see the original rp and rq are very small, comparing tp p and q, and we expect the final rp and rq to have the same order(due to the density of the prime numbers). On the other hand, new n in the leak is not to big, and we are able to factor it out</p>"
   ]
  },
  {
   "cell_type": "code",
   "execution_count": 44,
   "id": "429544eb",
   "metadata": {},
   "outputs": [],
   "source": [
    "from multiprocessing import Pool \n",
    "from sage.all import factor\n",
    "from gmpy2 import iroot, is_prime\n",
    "from Crypto.Util.number import long_to_bytes"
   ]
  },
  {
   "cell_type": "code",
   "execution_count": 45,
   "id": "f339cebf",
   "metadata": {},
   "outputs": [
    {
     "name": "stdout",
     "output_type": "stream",
     "text": [
      "8949458376079230661 * 13648451618657980711\n"
     ]
    }
   ],
   "source": [
    "n1 = 122146249659110799196678177080657779971\n",
    "leak = 90846368443479079691227824315092288065\n",
    "e = 65537\n",
    "print(factor(n1))"
   ]
  },
  {
   "cell_type": "markdown",
   "id": "33ae991b",
   "metadata": {},
   "source": [
    "<p>Now we can brute force the rq and rp values:</p>"
   ]
  },
  {
   "cell_type": "code",
   "execution_count": null,
   "id": "d31b33ac",
   "metadata": {},
   "outputs": [
    {
     "name": "stdout",
     "output_type": "stream",
     "text": [
      "rp = 11974933, rq = 405771\n"
     ]
    }
   ],
   "source": [
    "p1, q1 = 8949458376079230661, 13648451618657980711\n",
    "c1 = (leak - 0xdeadbeef) % n1\n",
    "d1 = pow(e, -1, (p1 -1) * (q1 - 1))\n",
    "\n",
    "num_threads = 20\n",
    "\n",
    "def check(g):\n",
    "    for x in g:\n",
    "        a = pow(c1 - pow(x, e, n1), d1, n1)\n",
    "        if(a <= 2**24 and ((pow(a, e, n1) + pow(x, e, n1)) % n1 == c1)):\n",
    "            print(f\"rp = {a}, rq = {x}\")\n",
    "\n",
    "gens = [range(i, 2**24+1, 32) for i in range(32)]\n",
    "with Pool(num_threads) as pool:\n",
    "    pool.map(check, gens)"
   ]
  },
  {
   "cell_type": "code",
   "execution_count": 35,
   "id": "c0f1eba1",
   "metadata": {},
   "outputs": [],
   "source": [
    "rp, rq = 11974933,  405771"
   ]
  },
  {
   "cell_type": "markdown",
   "id": "385b4a09",
   "metadata": {},
   "source": [
    "<p>The second key idea is the relation between n and p*q. n = (p + rp) * (q + rq) = p * q + p * rq + q * rp + rp * rq. And we observe that p * q is a huge number, comparing to the rest part of n. p * q ~ 2^2048, when p * rq + q * rp + rp * rq ~ 2^(1024 + 24) * 2 = 2^1049</p>\n",
    "<p>Also we know that p * q is a perfect 4th power of some number(a * b), let's compute the distance between two perfect 4th powers of these order:</p><p>(x + 1)^4 - x^4 = ((x + 1)^2 - x^2) * ((x+1)^2 + x^2) = x * (2*x + 1) * (2*x^2 + x + 1). x = a * b ~ 2^512 => (x + 1)^4 - x^4 ~ 2^512 * 2^513 * (2 * 2^1024 + 2^512 + 1) ~ 2^2050 > 2^1049 ~ p * rq + q * rp + rp * rq</p>Now we expect the round(n^(1/4)) to be the exact product of a and b!!!</p>"
   ]
  },
  {
   "cell_type": "code",
   "execution_count": 51,
   "id": "6e73b359",
   "metadata": {},
   "outputs": [],
   "source": [
    "n = 3183573836769699313763043722513486503160533089470716348487649113450828830224151824106050562868640291712433283679799855890306945562430572137128269318944453041825476154913676849658599642113896525291798525533722805116041675462675732995881671359593602584751304602244415149859346875340361740775463623467503186824385780851920136368593725535779854726168687179051303851797111239451264183276544616736820298054063232641359775128753071340474714720534858295660426278356630743758247422916519687362426114443660989774519751234591819547129288719863041972824405872212208118093577184659446552017086531002340663509215501866212294702743\n",
    "e = 65537\n",
    "c = 48433948078708266558408900822131846839473472350405274958254566291017137879542806238459456400958349315245447486509633749276746053786868315163583443030289607980449076267295483248068122553237802668045588106193692102901936355277693449867608379899254200590252441986645643511838233803828204450622023993363140246583650322952060860867801081687288233255776380790653361695125971596448862744165007007840033270102756536056501059098523990991260352123691349393725158028931174218091973919457078350257978338294099849690514328273829474324145569140386584429042884336459789499705672633475010234403132893629856284982320249119974872840"
   ]
  },
  {
   "cell_type": "code",
   "execution_count": 52,
   "id": "a01d4aec",
   "metadata": {},
   "outputs": [],
   "source": [
    "ab = int(iroot(n, 4)[0])\n",
    "pq = pow(ab, 4)"
   ]
  },
  {
   "cell_type": "markdown",
   "id": "09f0c47e",
   "metadata": {},
   "source": [
    "<p> Using the fact that N = (p + rp) * (q + rq), and the relating pq = p * q we can construct a quadratic equation:</p>\n",
    "<p> N = pq + (pq / q) * rq + rp * q + rp * rq => q^2 * rp - (N - pq - rp * rq) * q + rq * pq = 0</p> "
   ]
  },
  {
   "cell_type": "code",
   "execution_count": 53,
   "id": "301465af",
   "metadata": {},
   "outputs": [],
   "source": [
    "a, b, c = rp, pq - n + rp * rq, rq * pq\n",
    "D = b**2 - 4 * c * a\n",
    "D = int(iroot(D, 2)[0])\n",
    "if((-b + D) % (2 * a) == 0):\n",
    "    q = (-b + D) // (2 * a)\n",
    "else:\n",
    "    q = (-b - D) // (2 * a)"
   ]
  },
  {
   "cell_type": "code",
   "execution_count": 60,
   "id": "c1eec2c6",
   "metadata": {},
   "outputs": [],
   "source": [
    "p = pq // q\n",
    "assert pq == p * q"
   ]
  },
  {
   "cell_type": "code",
   "execution_count": 67,
   "id": "090a5881",
   "metadata": {},
   "outputs": [
    {
     "name": "stdout",
     "output_type": "stream",
     "text": [
      "b'ACTF{lsb_attack_in_RSA|a32d7f}'\n"
     ]
    }
   ],
   "source": [
    "pp = p + rp\n",
    "qq = q + rq\n",
    "assert is_prime(pp)\n",
    "assert is_prime(qq)\n",
    "assert pp * qq == n\n",
    "\n",
    "phi = (pp - 1) * (qq - 1)\n",
    "d = pow(e, -1, phi)\n",
    "c = 48433948078708266558408900822131846839473472350405274958254566291017137879542806238459456400958349315245447486509633749276746053786868315163583443030289607980449076267295483248068122553237802668045588106193692102901936355277693449867608379899254200590252441986645643511838233803828204450622023993363140246583650322952060860867801081687288233255776380790653361695125971596448862744165007007840033270102756536056501059098523990991260352123691349393725158028931174218091973919457078350257978338294099849690514328273829474324145569140386584429042884336459789499705672633475010234403132893629856284982320249119974872840\n",
    "m = pow(c, d, n)\n",
    "print(long_to_bytes(m))"
   ]
  },
  {
   "cell_type": "code",
   "execution_count": null,
   "id": "05e80a85",
   "metadata": {},
   "outputs": [],
   "source": []
  }
 ],
 "metadata": {
  "kernelspec": {
   "display_name": "Python 3 (ipykernel)",
   "language": "python",
   "name": "python3"
  },
  "language_info": {
   "codemirror_mode": {
    "name": "ipython",
    "version": 3
   },
   "file_extension": ".py",
   "mimetype": "text/x-python",
   "name": "python",
   "nbconvert_exporter": "python",
   "pygments_lexer": "ipython3",
   "version": "3.10.5"
  }
 },
 "nbformat": 4,
 "nbformat_minor": 5
}
