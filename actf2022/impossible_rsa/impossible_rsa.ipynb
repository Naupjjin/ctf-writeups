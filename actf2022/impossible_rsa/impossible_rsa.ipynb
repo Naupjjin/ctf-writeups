{
 "cells": [
  {
   "cell_type": "markdown",
   "id": "624c2e5c",
   "metadata": {},
   "source": [
    "<h2>ACTF 2022</h2> "
   ]
  },
  {
   "cell_type": "markdown",
   "id": "8c895070",
   "metadata": {},
   "source": [
    "<h>IMPOSSIBLE RSA(150 points)</h>"
   ]
  },
  {
   "cell_type": "markdown",
   "id": "718b00cf",
   "metadata": {},
   "source": [
    "<p>Task Description: Impossible</p>"
   ]
  },
  {
   "cell_type": "markdown",
   "id": "5a96e580",
   "metadata": {},
   "source": [
    "<p>Attachments:</p>"
   ]
  },
  {
   "cell_type": "markdown",
   "id": "7d459773",
   "metadata": {},
   "source": [
    "-----BEGIN PUBLIC KEY-----\n",
    "MIIBITANBgkqhkiG9w0BAQEFAAOCAQ4AMIIBCQKCAQB+pWAiyLgiiDUmsUJs4sGi\n",
    "BJeEwLvitqUvBVtcgPEFK4vO4G6CNAd3JlN8zBqJRBVn1FRlcxGPPXuJgIjMOkyV\n",
    "G4vo3mLr/v/pER79JrPgP8E5hShao5rujsue8NUq9+r1dUsnqU3gEiPyZspAG+//\n",
    "8P7TW0XcvCy5olRZqkV/QD6dlqjBaufWgTL2iMCtkadXT99ETmmgDVJ/GE51xErz\n",
    "pE8poKXjJqnwZEWEjdcqO1RXHKLAcmm3mpQEGbFOXWlb2cqSnKTbtJ0cVQ93y3gA\n",
    "mjCCBJrQLulx+5Oyn2+1rkRlHuMSq82DC0qAMvbc/DTjlTVYSC+GvIpEEFR344/5\n",
    "AgMBAAE=\n",
    "-----END PUBLIC KEY-----\n",
    "\n",
    "flag: b'A\\x89\\x14\\xaf\\x03\\xdd\\x95]\\xa3\\xda\\x08\\xf3l\\x93\\x14\\xa7i\\x89\\x8d&\\xc9l\\x14\\xf5\\x99(s=0\\xb5\\xd1\\xdf\\xf7\\xc7\\x07\\x9c\\xf1\\x0e\\x97\\xa9\\x9f6&\\xf9\\xf8Wbm\\x116\\xa6\\x99 \\xcd\\x05\\xb4\\\\.\\n\\xf4&\\x1a@\\x01\\xdcjo%;g\\x8ft\\xdb\\x96><A\\xfd\\x04\\x8e\\x9e\\xf5\\x9eA\\xf8Y\\xd0`\\xfc\\x80\\x89\\x88C\\x1c\\xee\\x8e\\xaf/\\xa8\\x1fO\\xb4\\x175\\xads{x;\\x02\\xc1\\x13x\\xd2\\xabg\\xc7\\xe4\\xc6\\xa6\\x81\\x99*\\xf1l\\xe38\\xb6X\\x9e\\xd5\\xed\\xd0\\x89\\xb1\\x1b\\xaf\\xd8thw\\xd5\\xff\\xb9\\xee;\\xda5\\xe5Se_\\x81\\xa9\\x13\\x7fx,\\xda-\\xfe\\xb9\\x93\\xf6!\\x94g~WKh\\xe7\\x08\\xfbn\\xaa\\xeb\\xce\\xce\\xed$\\xf0\\xbd7^\\x92\\xe4\\x84`N\\x987V\\x93\\x97\\x12F\\x98\\xba\\x11L\\xbfo\\ni\\xe90{\\x9a)_=\\xfa\\xd8\\xca`\\xaa+J\\xa1\\xc9KEK\\x9aC\\xe0d\\xb11\\xa8\\xb0Z\\xfd\\xf1\\xb6\\xe2j\\xe3\\xccLS\\x19\\x13\\xb9?Yub\\xf5\\x99\\xf7\\xe5\\xe6\\x02\\xfe'"
   ]
  },
  {
   "cell_type": "code",
   "execution_count": null,
   "id": "ab7b0133",
   "metadata": {},
   "outputs": [],
   "source": [
    "from Crypto.Util.number import *\n",
    "from Crypto.PublicKey import RSA\n",
    "\n",
    "e = 65537\n",
    "flag = b'ACTF{...}'\n",
    "\n",
    "while True:\n",
    "    p = getPrime(1024)\n",
    "    q = inverse(e, p)\n",
    "    if not isPrime(q):\n",
    "        continue\n",
    "    n = p * q;\n",
    "    public = RSA.construct((n, e))\n",
    "    with open(\"public.pem\", \"wb\") as file:\n",
    "        file.write(public.exportKey('PEM'))\n",
    "    with open(\"flag\", \"wb\") as file:\n",
    "        file.write(long_to_bytes(pow(bytes_to_long(flag), e, n)))\n",
    "    break"
   ]
  },
  {
   "cell_type": "code",
   "execution_count": 65,
   "id": "0c3659f7",
   "metadata": {},
   "outputs": [],
   "source": [
    "flag = b'A\\x89\\x14\\xaf\\x03\\xdd\\x95]\\xa3\\xda\\x08\\xf3l\\x93\\x14\\xa7i\\x89\\x8d&\\xc9l\\x14\\xf5\\x99(s=0\\xb5\\xd1\\xdf\\xf7\\xc7\\x07\\x9c\\xf1\\x0e\\x97\\xa9\\x9f6&\\xf9\\xf8Wbm\\x116\\xa6\\x99 \\xcd\\x05\\xb4\\\\.\\n\\xf4&\\x1a@\\x01\\xdcjo%;g\\x8ft\\xdb\\x96><A\\xfd\\x04\\x8e\\x9e\\xf5\\x9eA\\xf8Y\\xd0`\\xfc\\x80\\x89\\x88C\\x1c\\xee\\x8e\\xaf/\\xa8\\x1fO\\xb4\\x175\\xads{x;\\x02\\xc1\\x13x\\xd2\\xabg\\xc7\\xe4\\xc6\\xa6\\x81\\x99*\\xf1l\\xe38\\xb6X\\x9e\\xd5\\xed\\xd0\\x89\\xb1\\x1b\\xaf\\xd8thw\\xd5\\xff\\xb9\\xee;\\xda5\\xe5Se_\\x81\\xa9\\x13\\x7fx,\\xda-\\xfe\\xb9\\x93\\xf6!\\x94g~WKh\\xe7\\x08\\xfbn\\xaa\\xeb\\xce\\xce\\xed$\\xf0\\xbd7^\\x92\\xe4\\x84`N\\x987V\\x93\\x97\\x12F\\x98\\xba\\x11L\\xbfo\\ni\\xe90{\\x9a)_=\\xfa\\xd8\\xca`\\xaa+J\\xa1\\xc9KEK\\x9aC\\xe0d\\xb11\\xa8\\xb0Z\\xfd\\xf1\\xb6\\xe2j\\xe3\\xccLS\\x19\\x13\\xb9?Yub\\xf5\\x99\\xf7\\xe5\\xe6\\x02\\xfe'"
   ]
  },
  {
   "cell_type": "markdown",
   "id": "0d5cb68d",
   "metadata": {},
   "source": [
    "<h>Solution:</h><p>Firstly, let's extract the public key from the .pem file.</p>"
   ]
  },
  {
   "cell_type": "code",
   "execution_count": 2,
   "id": "c2b9afaa",
   "metadata": {},
   "outputs": [
    {
     "name": "stdout",
     "output_type": "stream",
     "text": [
      "n =  15987576139341888788648863000534417640300610310400667285095951525208145689364599119023071414036901060746667790322978452082156680245315967027826237720608915093109552001033660867808508307569531484090109429319369422352192782126107818889717133951923616077943884651989622345435505428708807799081267551724239052569147921746342232280621533501263115148844736900422712305937266228809533549134349607212400851092005281865296850991469375578815615235030857047620950536534729591359236290249610371406300791107442098796128895918697534590865459421439398361818591924211607651747970679849262467894774012617335352887745475509155575074809\n",
      "e =  65537\n"
     ]
    }
   ],
   "source": [
    "from Crypto.PublicKey import RSA\n",
    "key = RSA.import_key('-----BEGIN PUBLIC KEY-----\\nMIIBITANBgkqhkiG9w0BAQEFAAOCAQ4AMIIBCQKCAQB+pWAiyLgiiDUmsUJs4sGi\\nBJeEwLvitqUvBVtcgPEFK4vO4G6CNAd3JlN8zBqJRBVn1FRlcxGPPXuJgIjMOkyV\\nG4vo3mLr/v/pER79JrPgP8E5hShao5rujsue8NUq9+r1dUsnqU3gEiPyZspAG+//\\n8P7TW0XcvCy5olRZqkV/QD6dlqjBaufWgTL2iMCtkadXT99ETmmgDVJ/GE51xErz\\npE8poKXjJqnwZEWEjdcqO1RXHKLAcmm3mpQEGbFOXWlb2cqSnKTbtJ0cVQ93y3gA\\nmjCCBJrQLulx+5Oyn2+1rkRlHuMSq82DC0qAMvbc/DTjlTVYSC+GvIpEEFR344/5\\nAgMBAAE=\\n-----END PUBLIC KEY-----\\n')\n",
    "n, e = key.n, key.e\n",
    "print(\"n = \", n)\n",
    "print(\"e = \", e)"
   ]
  },
  {
   "cell_type": "markdown",
   "id": "3316e472",
   "metadata": {},
   "source": [
    "<p>First thing to noitice is the relation between p and q. q = e^-1(mod p)</p><p>Hence q * e = 1 + p * r, where r is some integer</p><p>There's a relation N = p * q, so N * e = p * q * e = p * (1 + p * r) = p + p^2 * r</p>Now we can compute the bounds for r. Since r = (N*e - p)/p^2, and we know that p is in [2^1023, 2^1024) </p>"
   ]
  },
  {
   "cell_type": "code",
   "execution_count": 5,
   "id": "5c6e4c78",
   "metadata": {},
   "outputs": [
    {
     "name": "stdout",
     "output_type": "stream",
     "text": [
      "b1 = 129687.48096677188\n",
      "b2 = 32421.87024169297\n"
     ]
    }
   ],
   "source": [
    "b1 = (n * e - 2**1023)/(2**1023)**2\n",
    "b2 = (n * e - 2**1024)/(2**1024)**2\n",
    "print(f\"b1 = {b1}\\nb2 = {b2}\")"
   ]
  },
  {
   "cell_type": "markdown",
   "id": "0f1eae69",
   "metadata": {},
   "source": [
    "<p>Well, it is not so big, and we can simply check all the r values from 0 to 32422</p><p>Now we have an equation:</p><p>p^2 * r + p - N * e = 0, and we know that it has integer solutions. The discriminant is D = 1 + 4 * N * e * r, and we want it to be the perfect square. </p>"
   ]
  },
  {
   "cell_type": "code",
   "execution_count": 7,
   "id": "1f87f0da",
   "metadata": {},
   "outputs": [
    {
     "name": "stdout",
     "output_type": "stream",
     "text": [
      "D = 193964622160442418549075900540350386740557588845604305818540274399912663097404497033627390587172639557536736414300379825267728931631283890957722223953655562240782185741111470138184976601413493327655235429021466480708620276010228550791636531461272201139766573165139611001327579873352244991159377518194501310396072668967354515945629297811300617532621122117624770228496269388956222886804460132882581690682460789176015264000978117868212271173849182564437425641119711236135868951756902904297428533353177085267807626521599701668024464562724007193176056510427830910112962382910439890030674202542715075950436918289466074351226455996961\n",
      "r = 46280\n"
     ]
    }
   ],
   "source": [
    "import gmpy2\n",
    "from math import ceil, floor\n",
    "for r in range(floor(b2), ceil(b1)):\n",
    "    D = 1 + 4 * n * e * r\n",
    "    if(gmpy2.is_square(D)):\n",
    "        print(f\"D = {D}\\nr = {r}\")\n",
    "        break"
   ]
  },
  {
   "cell_type": "markdown",
   "id": "0086d36d",
   "metadata": {},
   "source": [
    "<p>Now we can solve the quadratic equation p^2 * r + p - N * e = 0. The roots are: p = (-1 +- sqrt(D)) / (2 * r)</p><p>The second one will give us a negative result, hence it is not a solution</p>"
   ]
  },
  {
   "cell_type": "code",
   "execution_count": 69,
   "id": "d033fd7e",
   "metadata": {},
   "outputs": [
    {
     "name": "stdout",
     "output_type": "stream",
     "text": [
      "150465840847587996081934790667651610347742504431401795762471467800785876172317705268993152743689967775266712089661128372295606682852482012493939368044600366794969553828079064622047080051569090177885299781981209120854290564064662058027679075401901717932024549311396484660557278975525859127898004619405319768113\n"
     ]
    }
   ],
   "source": [
    "p = (-1 + int(gmpy2.isqrt(D))) // (2 * r) \n",
    "print(p)"
   ]
  },
  {
   "cell_type": "code",
   "execution_count": 70,
   "id": "1f9715e8",
   "metadata": {},
   "outputs": [],
   "source": [
    "q = n // p\n",
    "assert n == p * q"
   ]
  },
  {
   "cell_type": "code",
   "execution_count": 71,
   "id": "660224e6",
   "metadata": {},
   "outputs": [
    {
     "name": "stdout",
     "output_type": "stream",
     "text": [
      "b'ACTF{F1nD1nG_5pEcia1_n_i5_nOt_eA5y}'\n"
     ]
    }
   ],
   "source": [
    "d = pow(e, -1, (p - 1) * (q - 1))  # RSA Thing\n",
    "c = bytes_to_long(flag)\n",
    "m = pow(c, d, n)\n",
    "print(long_to_bytes(m))\n"
   ]
  }
 ],
 "metadata": {
  "kernelspec": {
   "display_name": "Python 3 (ipykernel)",
   "language": "python",
   "name": "python3"
  },
  "language_info": {
   "codemirror_mode": {
    "name": "ipython",
    "version": 3
   },
   "file_extension": ".py",
   "mimetype": "text/x-python",
   "name": "python",
   "nbconvert_exporter": "python",
   "pygments_lexer": "ipython3",
   "version": "3.10.5"
  }
 },
 "nbformat": 4,
 "nbformat_minor": 5
}
