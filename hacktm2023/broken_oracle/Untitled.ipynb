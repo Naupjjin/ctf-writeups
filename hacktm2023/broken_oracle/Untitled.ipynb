{
 "cells": [
  {
   "cell_type": "code",
   "execution_count": 32,
   "metadata": {},
   "outputs": [],
   "source": [
    "from pwn import remote\n",
    "from random import randint, choice\n",
    "from Crypto.Util.number import long_to_bytes"
   ]
  },
  {
   "cell_type": "code",
   "execution_count": 33,
   "metadata": {},
   "outputs": [],
   "source": [
    "def parse_flag(r):\n",
    "    r.recvuntil(b\"r = \")\n",
    "    flag = eval(r.recvline().decode())\n",
    "    r.recvuntil(b\"s = \")\n",
    "    s = eval(r.recvline().decode())\n",
    "    r.recvuntil(b\"t = \")\n",
    "    t = eval(r.recvline().decode())\n",
    "    return (flag, s, t)\n",
    "\n",
    "\n",
    "def send_params(r, R, s, t):\n",
    "    f = r.recvuntil(b\"= \")\n",
    "    r.sendline(f\"{R}, {s}, {t}\".encode())\n",
    "    data = r.recvline().decode()\n",
    "    if \"decrypt\" in data:\n",
    "        R1 = int(r.recvline().decode()[3:].strip())\n",
    "        s1 = int(r.recvline().decode()[3:].strip())\n",
    "        t1 = int(r.recvline().decode()[3:].strip())\n",
    "        return data, (R1, s1, t1)\n",
    "    return data, (-1, -1, -1)\n",
    "\n",
    "\n",
    "def send_random_params(r, B):\n",
    "    R = randint(0, B)\n",
    "    s = choice([-1, 1])\n",
    "    t = choice([0, 1])\n",
    "    data, ret = send_params(r, R, s, t)\n",
    "    if ret[0] != R:\n",
    "        return True, ret, R\n",
    "    return False, None, None\n",
    "\n",
    "def timing(r, a, b, coef = 0.006):\n",
    "    while a <= b:\n",
    "        m = (a + b) // 2\n",
    "        s = 1\n",
    "        t = 1\n",
    "        start = time.time()\n",
    "        d, _ = send_params(m, s, t)\n",
    "        end = time.time()\n",
    "        if end - start < coef:\n",
    "            b = m - 1\n",
    "        else:\n",
    "            a = m + 1\n",
    "        print(b - a, end - start)\n",
    "    return a"
   ]
  },
  {
   "cell_type": "code",
   "execution_count": 52,
   "metadata": {},
   "outputs": [],
   "source": [
    "def recover_n(r, B):\n",
    "    samples1 = (0, 0)\n",
    "    samples2 = (0, 0)\n",
    "    \n",
    "    while True:\n",
    "        if len(samples2) * len(samples1) > 0 and is_prime(samples1[0]) and is_prime(samples2[0]):\n",
    "            if samples1[0] == samples2[0]:\n",
    "                return None\n",
    "            break\n",
    "        \n",
    "        flag, ret, R = send_random_params(r, B)\n",
    "        if flag:\n",
    "            print(\"here\")\n",
    "              \n",
    "            rs = set()\n",
    "            for s, t in ((-1, 1), (-1, 0), (1, 1), (1, 0)):\n",
    "                data, ret = send_params(r, R, s, t)\n",
    "                rs.add(ret[0])\n",
    "            \n",
    "            rs = list(rs)\n",
    "            if len(rs) == 2:\n",
    "                print(\"PIZDA\")\n",
    "                \n",
    "                tmp = gcd(R - rs[0], R - rs[1])\n",
    "                \n",
    "                \n",
    "                if samples1[0] == 0 and samples2[0] == 0:\n",
    "                    samples1 = (tmp, rs, R)\n",
    "                    print(\"initiated samples for q\")\n",
    "                    continue       \n",
    "                    \n",
    "                tmp1 = gcd(tmp, samples1[0])\n",
    "                if tmp1 > 2**1022:\n",
    "                    samples1 = (tmp1, rs, R)\n",
    "                    #print(samples1)\n",
    "                    continue\n",
    "                \n",
    "                if samples2[0] == 0:\n",
    "                    samples2 = (tmp, rs, R)\n",
    "                    print(\"initiated samples for p\")\n",
    "                    continue\n",
    "                \n",
    "                tmp2 = gcd(tmp, samples2[0])\n",
    "                if tmp2 > 2**1022:\n",
    "                    samples2 = (tmp2, rs, R)   \n",
    "                    #print(samples2)\n",
    "                    \n",
    "    return samples1, samples2  "
   ]
  },
  {
   "cell_type": "code",
   "execution_count": 68,
   "metadata": {},
   "outputs": [
    {
     "name": "stdout",
     "output_type": "stream",
     "text": [
      "[x] Opening connection to 34.141.16.87 on port 50001\n",
      "[x] Opening connection to 34.141.16.87 on port 50001: Trying 34.141.16.87\n",
      "[+] Opening connection to 34.141.16.87 on port 50001: Done\n",
      "here\n",
      "PIZDA\n",
      "initiated samples for q\n",
      "here\n",
      "PIZDA\n",
      "here\n",
      "PIZDA\n",
      "here\n",
      "PIZDA\n",
      "here\n",
      "here\n",
      "PIZDA\n",
      "initiated samples for p\n",
      "Found n\n",
      "Found q\n",
      "Found cp\n",
      "b'U\\x85\\'\\x9b\\xe3g\\x17\\x04\\x95k}\\x1dXt|Z\\xfc\\xefp\\xaf;{<\\xdd\\xe5\\x1d\\x9b)\\xa3\\xa1j2\\xee\\x97\\xc9\\x83\\xfcF[\\x11.\\x9b\\xfc@uL\\x84\\xf5\\xbe\\x0e,\\x862\\xd6\\x12_\\xbe\\x9f=\\xebUe\\xc4\\'\\xbeuF\\xc5G\\xdd\\xbf\\xfe\\xfd\\x92\\xd8\\xa6\\xe7\\x12\\xafG\\xed~\\xc6\"\\xa2\\x81\\x93\\xe8s\\xf5\\xda\\x81\\x9f\\xd26\\xcf\\x90\\xaf\\xa8`;\\xd4\\xdd9Hn\\xfc\\xc5\\xb4En\\xbe\\xa1G\\xaatv\\xbcm.\\xad\\xd1\\xe0,\\xaa\\xb7\\xb0N\\x90\\xae M\\x85V<\\xbd\\x84\\xb8k!\\x1c\\xac\\xb5>\\xfe\\xc2\\x13%\\xf3\\x8a`\\x07\\xd0\\xce\\xf6<\\x9f\\xc8{\\xe9\\x87\\xb8?\\xa5\\x97\\x01`]g\\xfc:\\xa4\\x81KW\\xf7\\x14\\xf1\\xb9\\x19\\x9cl\\xa6)s\\xc8\\xc7\\xf3X\\xdf8\\x86\\xf5h\\x86\\x13\\x80\\xef\\xdd\\x94\\xf1Yo;\\x94\\xfd\\x96;\\xcb\\x9a\\xf7\\xb9\\xe7{\\x9e\\x92\\xdd\\xf5#\\xa8\\x8c\\x16\\xb9\\x0e\\xf7\\xf3\\xfda\\xc9\\xa926\\x9e\\x82\\xfc\\x1c2\\x84\\x9fl\\x0f\\x18\\x94yJ\\x96n)\\xc1\\x1c\\x0c\\xb6\\xdei\\x1dD'\n",
      "b'v~H\\xca\\xae\\x02\\xda\\x12\\x0c\\'\\xf9\\x85\\xc5\\xd2\\xf0\\x95\\xf6\\xc4\\xb8\\'\\xfb\\xad!\\x14\\xe2\\x0b\"\\x8cJ\\x19\\xf8\\x02\\xdd\\x82\\xb8\\xed#i\\r\\xc5^+\\xd1\\xfe\\xc0I\\x88\\xb9\\x85\\x12\\x13?EY\\xcf\\xd6\\x84\\xf8\\x110\\x9b?Ue\\xa7\\xfa\\x03\\xcb\\xdf\\x06\\x01\\x0c\\xd2S2\\xe8\\r\\xa0\\x03x\\xe0!5\\xa1H\\xc8\\xf0\\x1cEf$\\x04lx\\x8a.\\xe9\\x06\\xf6\\xd3\\xdc>\\x1e\\x98\\x99.e\\xeb\\xbe\\x0b\\xdf\\x96L]K\\xce\\x97\\xc78lw\\xe3:\\x89\\xa1,\\xc0\\xf6\\xe12z~\\xae\\xc0\\xd4\\x83N*}\\xc7E\\xf6O\\xf6\\xbc\\x1d,\\x01\\x19\\x0bD\\xb4\\'d\\x93c\\x10+8\\n\\x9e\\xa1e\\xc2)\\x82[_\\x9e5\\xa20p3\\xfe|\\x87\\x82:\\xefH\\xca+\\xc4\\n\\\\o\\x19\\xaa\\x1d0\\xe4HB\\x85\\xf8\\x08l\\xd4~\\x02b\\xbcS\\xe3\\xc5\\xb7\\xad\\xc7\\x8es\\xe3\\x96K\\x0b#\\\\\\xc8\\xca\\xda\\xc3A\\xbbmbe&^\\xa0\\xd2\\xb1\\xf0\\xe2xb\\xe3\\xd8\\x02z\\x01ed\\xe3\\x9a\\xdd\\xb6\\x1ay\\x97\\xab\\x15\\x93i\\xac4@'\n",
      "b'HackTM{h4v3_y0u_r34lly_f0und_4ll_7h3_bu65...?}\\x01\\x1a\\x8e\\x9du$\\x95\\xf36Y\\xcao\\x17&n\\x95E\\x11\\xb1w2C\\xda\\xb8\\xac\\x8a\\xe6\\xf4`#\\x86\\x145.zDs\\x1e\\x02\\xb4\\xf0\\x02\\xfc\\x88\\xc9\\xa8\\xc1\\xd7\\x91rn!\\x14\\xdb\\xa6\\x8d\\x82\\xb81f\\x1bi\\xcaga\\x9f\\xa7dZVx\\x82\\x14\\x06v)\\xd34Z*;ZX\\x8e\\xb71i\\x8c$\\t\\x19\\xea\\xef\\xa2\\xb9\\x1c\\xe52G\\xb4\\xe0\\xad\\x86\\x89T:\\xc1~\\x11o\\xa3\\x02\\x1b}\\x86\\xda?\\x0e\\x0b\\x1c\\x02\\xd3\\x7f\\xdbmjq;\\xed\\xd9P\\xc8\\xec\\xa1\\x05L\\xb4\\x8e`D\\x15u\\x95\\xf7lX\\xaf\\x9b\\x97\\xa1o\\xf3pn\\xe4U!\\x02\\x95|p\\xa42\\xc1\\xfe\\xe9\\x7f\\xb6\\xfd\\xe9q\\xe4P\\x00\\xa9\\xb1\\xbd48\\x9c\\x17\\xf7\\x7f\\\\h\\x92@M\\x87\\x10\\x16\\x0c\\xef!>\\x16\\x85w\\xe4\\x0bX\\x96rnO#>\\x1c\\x07'\n",
      "b'!A\\x82\\x925\\xf0\\x10\\x88\\xde\\xf0\\xf2\\x9b\\xcc\\xd7\\xa4\\xb0YGz\\xad,\\x9e]\\x96c\\x1d\\xfc\\xd1\\n\\xd7\\xc2<[J&\\xd1Z\\x82\\x15)e\\xc5\\x03\\xecy<\\x80\\xc4\\xe1\\x92\\x84.7\\x19\\xb0\\xad #B\\\\lH&\\x82\\xfb648\\xdb\\x02\\xf9\\xba_\\xa7N\\xa1J\\x13hf!\\x1c\\xb3\\xf1\\xc4J\\x11#\\xd4l\\xd2Luh*\\xf0\\xca\\xc5o\\x88|\\x0f\\xce\\xe2\\x08\\xf0\\xcfAs\\x90\\xd89J\\xbd\\x05\\xb4w\\x83MQ\\xd0\\x87\\x840*\\xcf:\\xe3\\xaa\\xdc\\xe8\\xe8Z\\xd4#\\xe9\\xd2\\x8b\\xfd\\x95\\xcc\\x02\\xb7\\x9c\\xef\\xa2\\xcd\\xbb\\xd3\\x07n\\x00\\x91W\\x1b7\\xe0\\x05\\xbe<\\x94p\\x00[\\xa0\\x8c\\x17\\x05\\t\\xb9B\\xf9YY\\xe2sK\\xe1J\\xc2Mb\\xd2O$\\xf3\\xeb;\\xc6\\xd3\\xef\\xc9\\xab\\x89\\x9b|(\\xec\\xeaY\\x7f\\xed\\xa29Q]\\x9d\\xe2\\xa0&>(\\x98O#\\x8ehE\\x8b\\x827\\xd4\\xb4\\x1b\\x9e\\xa9\\xc5\\x14\\xce\\xa8\\xdc\"\\xd65\\xb4N\\xb5\\x93\\xe7\\x84w\\x8ae\\xa7\\x0b\\x03\\xb7\\xa8m\\x01w+\\xae\\x813\\x03'\n"
     ]
    }
   ],
   "source": [
    "#r = remote(\"localhost\", int(17778))\n",
    "r = remote(\"34.141.16.87\", int(50001))\n",
    "rf, sf, tf = parse_flag(r)\n",
    "from cur import p as p1, q as q1, n as n1, c as c1\n",
    "    \n",
    "while True:\n",
    "    samples = recover_n(r, 100000000)\n",
    "    if samples is not None:\n",
    "        break\n",
    "        \n",
    "q = samples[0][0]\n",
    "p = samples[1][0]\n",
    "n = p * q\n",
    "   \n",
    "print(\"Found n\")\n",
    "    \n",
    "print(\"Found q\")\n",
    "r1, r2 = samples[0][1]\n",
    "R = samples[0][2]\n",
    "assert gcd(r1 - R, q) == q\n",
    "   \n",
    "lp = ((r2 * R - R**2) * pow(-2*R + r1 + r2, -1, p)) % p\n",
    "cp = (r1 * lp - lp**2) % p\n",
    "#assert cp == c1 % p\n",
    "\n",
    "r1, r2 = samples[1][1]\n",
    "R = samples[1][2]\n",
    "lq = ((r2 * R - R**2) * pow(-2 * R + r1 + r2, -1, q)) % q\n",
    "cq = (r1 * lq - lq**2) % q\n",
    "#assert cq == c1 % q\n",
    "print(\"Found cp\")\n",
    "\n",
    "c = crt([int(cp), int(cq)], [p, q])\n",
    "\n",
    "x = var('x')\n",
    "rp = PolynomialRing(GF(p), x)(x**2 - rf * x + c).roots()\n",
    "rq = PolynomialRing(GF(q), x)(x**2 - rf * x + c).roots()\n",
    "\n",
    "for r1, _ in rp:\n",
    "    for r2, _ in rq:\n",
    "        root = crt([int(r1), int(r2)], [p, q])\n",
    "        print(long_to_bytes(int(root)))"
   ]
  },
  {
   "cell_type": "code",
   "execution_count": 61,
   "metadata": {},
   "outputs": [],
   "source": [
    "q, rs, R = samples[0]"
   ]
  },
  {
   "cell_type": "code",
   "execution_count": 62,
   "metadata": {},
   "outputs": [
    {
     "data": {
      "text/plain": [
       "173796213260871170040700220192655758173876810603482384221006789178676837014031666781857032734198923047075619236140558295903138749318494699363904097824001464204821533648947910209450585219200170463882208186045461234435411625066873291773686810755321693249823632684762242005167031472798143659195785148736182106643"
      ]
     },
     "execution_count": 62,
     "metadata": {},
     "output_type": "execute_result"
    }
   ],
   "source": [
    "gcd(rs[0] - R, q)"
   ]
  },
  {
   "cell_type": "code",
   "execution_count": 65,
   "metadata": {},
   "outputs": [
    {
     "data": {
      "text/plain": [
       "57042301188525303182251061758966075354475613252687016840453340828658988155302505247778388303808042726198259423062963147499285497066003820003830337708261246154162121844840482389274854353450052699911369312735539683525796764932194611851320674687807410796534319565960251826493648702331572210187276311484201109848"
      ]
     },
     "execution_count": 65,
     "metadata": {},
     "output_type": "execute_result"
    }
   ],
   "source": [
    "(-2 * R + rs[0] + rs[1]) % p"
   ]
  },
  {
   "cell_type": "code",
   "execution_count": null,
   "metadata": {},
   "outputs": [],
   "source": []
  }
 ],
 "metadata": {
  "kernelspec": {
   "display_name": "SageMath 9.8",
   "language": "sage",
   "name": "sagemath"
  },
  "language_info": {
   "codemirror_mode": {
    "name": "ipython",
    "version": 3
   },
   "file_extension": ".py",
   "mimetype": "text/x-python",
   "name": "python",
   "nbconvert_exporter": "python",
   "pygments_lexer": "ipython3",
   "version": "3.10.9"
  }
 },
 "nbformat": 4,
 "nbformat_minor": 2
}
