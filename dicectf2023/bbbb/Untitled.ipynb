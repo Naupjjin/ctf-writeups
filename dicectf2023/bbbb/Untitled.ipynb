{
 "cells": [
  {
   "cell_type": "markdown",
   "id": "280cad1c",
   "metadata": {},
   "source": [
    "# DiceCTF 2023\n",
    "\n",
    "## BBBB\n",
    "\n",
    "Task description:\n",
    "<pre>i prefer LCGs over QCGs to be honest...\n",
    "\n",
    "based off BBB from SECCON CTF 2022\n",
    "\n",
    "nc mc.ax 31340</pre>\n",
    "### Attachments:\n",
    "```python\n",
    "from Crypto.Util.number import bytes_to_long, getPrime\n",
    "from random import randint\n",
    "from math import gcd\n",
    "from os import urandom\n",
    "\n",
    "def generate_key(rng, seed):\n",
    "    e = rng(seed)\n",
    "    while True:\n",
    "        for _ in range(randint(10,100)):\n",
    "            e = rng(e)\n",
    "        p = getPrime(1024)\n",
    "        q = getPrime(1024)\n",
    "        phi = (p-1)*(q-1)\n",
    "        if gcd(e, phi) == 1:\n",
    "            break\n",
    "\n",
    "    n = p*q\n",
    "    return (n, e)\n",
    "\n",
    "def generate_params():\n",
    "    p = getPrime(1024)\n",
    "    b = randint(0, p-1)\n",
    "\n",
    "    return (p,b)\n",
    "\n",
    "def main():\n",
    "    p,b = generate_params()\n",
    "    print(\"[+] The parameters of RNG:\")\n",
    "    print(f\"{b=}\")\n",
    "    print(f\"{p=}\")\n",
    "    a = int(input(\"[+] Inject b[a]ckdoor!!: \"))\n",
    "    rng = lambda x: (a*x + b) % p\n",
    "\n",
    "    keys = []\n",
    "    seeds = []\n",
    "    for i in range(5):\n",
    "        seed = int(input(\"[+] Please input seed: \"))\n",
    "        seed %= p\n",
    "        if seed in seeds:\n",
    "            print(\"[!] Same seeds are not allowed!!\")\n",
    "            exit()\n",
    "        seeds.append(seed)\n",
    "        n, e = generate_key(rng, seed)\n",
    "        if e <= 10:\n",
    "            print(\"[!] `e` is so small!!\")\n",
    "            exit()\n",
    "\n",
    "        keys.append((n,e))\n",
    "\n",
    "    FLAG = open(\"flag.txt\", \"rb\").read()\n",
    "    assert len(FLAG) < 50\n",
    "    FLAG = FLAG + urandom(4)\n",
    "\n",
    "    for n,e in keys:\n",
    "        r = urandom(16)\n",
    "        flag = bytes_to_long(FLAG + r)\n",
    "        c = pow(flag, e, n)\n",
    "        r = r.hex()\n",
    "        print(\"[+] Public Key:\")\n",
    "        print(f\"{n=}\")\n",
    "        print(f\"{e=}\")\n",
    "        print(f\"{r=}\")\n",
    "        print(\"[+] Cipher Text:\", c)\n",
    "        \n",
    "        \n",
    "if __name__ == \"__main__\":\n",
    "    main()\n",
    "```\n",
    "\n",
    "This task asks us to send it one of LCG parameters, where \n",
    "LCG is simply the Linear Recurrence Relation, which holds over some prime number.\n",
    "$x_n = a * x_{n-1} + b\\ (mod\\ p)$\n",
    "\n",
    "Since there's a constant $b$ it's not quite a requrrence relation, however we can get rid of it by:\n",
    "$x_n = a * x_{n-1} + b\\ (mod\\ p)$\n",
    "$x_{n-1} = a * x_{n-2} + b\\ (mod\\ p)$\n",
    "$x_n = (a + 1) * x_{n-1} + a * x_{n-2}\\ (mod\\ p)$\n",
    "\n",
    "This relation has it's characteristic polynomial $x^2 - (a+1) * x - a$, which has roots $a$ and $1$, hence the general solution will be $x_n = C_1 * a^n + C_2$ if $a \\ne 1$ and $x_n = C_1 * n + C_2$ otherwise.\n",
    "\n",
    "Since we are working in the finite field we actually can use the first case to make the recurrence cyclic. The key idea is to choose $a$ which has a small multiplicative order. My idea was to find an $a$ with order 5(since there's a restriction on amount of distinct seeds) and the first element is 11(since it's the lowest possible exponent to use). Also the final property of $a$ should be that all the elements in this 5 element sequence would be even, exept for 11, because this will lead to using 11 every time when <b>generate_key</b> function is called, which is quite comfortable.\n",
    "\n",
    "The last step is breaking rsa with exponent 11 and known padding.\n",
    "Due to Coppersmith and Hastad we can perform an attack, which uses the fact that secret message $m$ is always a root of some polynomial modulo $N$ with degree $d$ (11 in our case). \n",
    "\n",
    "After sending $a$ and $seeds$ we have 5 ciphertexts, modules, exponents and paddings\n",
    "\n",
    "$c_1 = (2^{16 * 8} * M' + r_1)^{11}\\ (mod\\ N_1)$\n",
    "\n",
    "$c_2 = (2^{16 * 8} * M' + r_2)^{11}\\ (mod\\ N_2)$\n",
    "\n",
    "$c_3 = (2^{16 * 8} * M' + r_3)^{11}\\ (mod\\ N_3)$\n",
    "\n",
    "$c_4 = (2^{16 * 8} * M' + r_4)^{11}\\ (mod\\ N_4)$\n",
    "\n",
    "$c_5 = (2^{16 * 8} * M' + r_5)^{11}\\ (mod\\ N_5)$\n",
    "\n",
    "\n",
    "Then we calculate $g_i(x) = (2^{16 * 8} * x + r_i)^{11} - c_i) * 2^{- 16 * 8}(\\ (mod\\ N_i)$ to make it monic and finally $g(x) = T_1 * g_1(x) + T_2 * g_2(x) + T_3 * g_3(x) + T_4 * g_4(x) + T_5 * g_5(x)\\ (mod\\ N_1 * N_2 * N_3 * N_4 * N_5)$, where $T_i = 1\\ (mod\\ N_i)$ and $T_i = 0\\ (mod\\ N_j), j\\ne i$ \n",
    "\n",
    "We know that $g(M') = 0\\ (mod\\ N_1 * N_2 * N_3 * N_4 * N_5)$ and that $M'$ is quite small, so we can apply Coppersmith method to find small roots of a polynomial modulo."
   ]
  },
  {
   "cell_type": "code",
   "execution_count": 1,
   "id": "3f3a3812",
   "metadata": {},
   "outputs": [],
   "source": [
    "import re\n",
    "from Crypto.Util.number import bytes_to_long, long_to_bytes\n",
    "from pwn import context, remote\n",
    "from sage.all import PolynomialRing, Zmod, crt, product, randint, var"
   ]
  },
  {
   "cell_type": "code",
   "execution_count": 2,
   "id": "fdb05a89",
   "metadata": {},
   "outputs": [],
   "source": [
    "context.log_level = \"error\""
   ]
  },
  {
   "cell_type": "code",
   "execution_count": 3,
   "id": "107fe0d3",
   "metadata": {},
   "outputs": [],
   "source": [
    "def lrs(p, a, b, x0, n):       # calculate x_n\n",
    "    for i in range(n):\n",
    "        x0 = (a * x0 + b) % p\n",
    "    return x0"
   ]
  },
  {
   "cell_type": "code",
   "execution_count": 4,
   "id": "2d4bc00f",
   "metadata": {},
   "outputs": [],
   "source": [
    "def get_ass(p):\n",
    "    if (p - 1) % 5 != 0:       # (p - 1) should be devisible by 5 to make an element with order 5 exist.\n",
    "        return None\n",
    "\n",
    "    ass = [1]\n",
    "    while True:\n",
    "        a = pow(randint(1, p - 1), (p - 1) // 5, p)\n",
    "        if a != 1 and a not in ass:\n",
    "            ass.append(a)\n",
    "        if len(ass) == 5:\n",
    "            break\n",
    "    return ass[1:]"
   ]
  },
  {
   "cell_type": "code",
   "execution_count": 8,
   "id": "1fbc2896",
   "metadata": {},
   "outputs": [],
   "source": [
    "def get_a(ass, p, b, e):\n",
    "    for k in range(4):\n",
    "        tmp = []\n",
    "        for i in range(5):\n",
    "            tmp.append(int(lrs(p, ass[k], b, 11, i)) % 2)       # finding such an a so all the elements are even except for 11\n",
    "        if not any(tmp[1:]):\n",
    "            return ass[k]\n",
    "    return None"
   ]
  },
  {
   "cell_type": "code",
   "execution_count": 9,
   "id": "7b43f7f7",
   "metadata": {},
   "outputs": [],
   "source": [
    "host, port = \"mc.ax\", 31340\n",
    "#host, port = \"localhost\", 17778\n",
    "trie = 1"
   ]
  },
  {
   "cell_type": "code",
   "execution_count": 10,
   "id": "f6b43f8a",
   "metadata": {},
   "outputs": [
    {
     "name": "stdout",
     "output_type": "stream",
     "text": [
      "try $1\n",
      "try $2\n",
      "try $3\n",
      "try $4\n",
      "try $5\n",
      "try $6\n",
      "try $7\n",
      "found ass\n",
      "try $8\n",
      "found ass\n",
      "try $9\n",
      "try $10\n",
      "try $11\n",
      "try $12\n",
      "found ass\n",
      "try $13\n",
      "found ass\n",
      "try $14\n",
      "try $15\n",
      "found ass\n",
      "found a!\n"
     ]
    }
   ],
   "source": [
    "while True:\n",
    "    print(f\"try ${trie}\")\n",
    "    trie += 1\n",
    "\n",
    "    r = remote(host, port)\n",
    "    r.recvline()\n",
    "    bs = r.recvline().decode()\n",
    "    b = int(re.findall(r\"b=(.*)\\n\", bs)[0])\n",
    "\n",
    "    ps = r.recvline().decode()\n",
    "    p = int(re.findall(r\"p=(.*)\\n\", ps)[0])\n",
    "\n",
    "    ass = get_ass(p)\n",
    "    if ass is None:\n",
    "        r.close()\n",
    "        continue\n",
    "    print(\"found ass\")\n",
    "\n",
    "    a = get_a(ass, p, b, 11)\n",
    "    if a is None:\n",
    "        r.close()\n",
    "        continue\n",
    "    print(\"found a!\")\n",
    "    r.sendline(str(a).encode())\n",
    "    r.recvuntil(b\"door!!:\")\n",
    "    break"
   ]
  },
  {
   "cell_type": "code",
   "execution_count": 11,
   "id": "62b91428",
   "metadata": {},
   "outputs": [
    {
     "name": "stdout",
     "output_type": "stream",
     "text": [
      "seed 0\n",
      "seed 1\n",
      "seed 2\n",
      "seed 3\n",
      "seed 4\n"
     ]
    }
   ],
   "source": [
    "for i in range(5):\n",
    "    print(f\"seed {i}\")\n",
    "    r.sendline(str(lrs(p, a, b, 11, i)).encode())\n",
    "    r.recvuntil(b\"input seed:\")"
   ]
  },
  {
   "cell_type": "code",
   "execution_count": 12,
   "id": "81468b72",
   "metadata": {},
   "outputs": [
    {
     "name": "stdout",
     "output_type": "stream",
     "text": [
      "11\n",
      "11\n",
      "11\n",
      "11\n",
      "11\n"
     ]
    }
   ],
   "source": [
    "ns, cs, es, rs = [], [], [], []\n",
    "for i in range(5):\n",
    "    r.recvuntil(b\"Public Key:\\n\")\n",
    "\n",
    "    nst = r.recvline().decode()\n",
    "    n = int(re.findall(r\"n=(.*)\\n\", nst)[0])\n",
    "    ns.append(n)\n",
    "\n",
    "    est = r.recvline().decode()\n",
    "    e = int(re.findall(r\"e=(.*)\\n\", est)[0])\n",
    "    print(e)\n",
    "    es.append(e)\n",
    "\n",
    "    rst = r.recvline().decode()\n",
    "    rr = int(re.findall(r\"r='(.*)'\\n\", rst)[0], 16)\n",
    "    rs.append(rr)\n",
    "\n",
    "    r.recvuntil(b\"Cipher Text: \")\n",
    "    cst = r.recvline().decode()\n",
    "    c = int(re.findall(r\"(.*)\\n\", cst)[0])\n",
    "    cs.append(c)\n",
    "r.close()"
   ]
  },
  {
   "cell_type": "code",
   "execution_count": 13,
   "id": "521dd998",
   "metadata": {},
   "outputs": [],
   "source": [
    "def coppersmith(ns, cs, rs, e):\n",
    "    x = var(\"x\")\n",
    "    g = 0\n",
    "    gs = []\n",
    "    for i in range(5):\n",
    "        n = ns[i]\n",
    "        c = cs[i]\n",
    "        r = rs[i]\n",
    "        ring = PolynomialRing(Zmod(n), x)\n",
    "        gi = ring((2 ** (16 * 8) * x + int(r)) ** e - int(c)).monic()\n",
    "        Ti = crt([0 if i != j else 1 for j in range(5)], ns)\n",
    "        g += Ti * gi.change_ring(Zmod(product(ns)))\n",
    "        gs.append(gi)\n",
    "    return g, gs"
   ]
  },
  {
   "cell_type": "code",
   "execution_count": 14,
   "id": "61dc24b7",
   "metadata": {},
   "outputs": [
    {
     "name": "stdout",
     "output_type": "stream",
     "text": [
      "b'dice{r3s0rt_t0_LCG_4ft3r_f41l1ng_t0_m4k3_ch4ll}xR\\x07\\xe2'\n"
     ]
    }
   ],
   "source": [
    "g, gs = coppersmith(ns, cs, rs, e)\n",
    "flag = g.small_roots(X=2 ** (54 * 8), beta=0.4)[0]\n",
    "print(long_to_bytes(int(flag)))"
   ]
  }
 ],
 "metadata": {
  "kernelspec": {
   "display_name": "Python 3 (ipykernel)",
   "language": "python",
   "name": "python3"
  },
  "language_info": {
   "codemirror_mode": {
    "name": "ipython",
    "version": 3
   },
   "file_extension": ".py",
   "mimetype": "text/x-python",
   "name": "python",
   "nbconvert_exporter": "python",
   "pygments_lexer": "ipython3",
   "version": "3.10.9"
  }
 },
 "nbformat": 4,
 "nbformat_minor": 5
}
